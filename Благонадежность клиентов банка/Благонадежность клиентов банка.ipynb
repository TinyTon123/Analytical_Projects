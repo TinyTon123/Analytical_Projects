{
 "cells": [
  {
   "cell_type": "markdown",
   "id": "7786fbba",
   "metadata": {
    "toc": true
   },
   "source": [
    "<h1>Table of Contents<span class=\"tocSkip\"></span></h1>\n",
    "<div class=\"toc\"><ul class=\"toc-item\"><li><span><a href=\"#Обзор-данных\" data-toc-modified-id=\"Обзор-данных-1\"><span class=\"toc-item-num\">1&nbsp;&nbsp;</span>Обзор данных</a></span></li><li><span><a href=\"#Обработка-данных\" data-toc-modified-id=\"Обработка-данных-2\"><span class=\"toc-item-num\">2&nbsp;&nbsp;</span>Обработка данных</a></span><ul class=\"toc-item\"><li><span><a href=\"#Заполнение-пропусков\" data-toc-modified-id=\"Заполнение-пропусков-2.1\"><span class=\"toc-item-num\">2.1&nbsp;&nbsp;</span>Заполнение пропусков</a></span></li><li><span><a href=\"#Проверка-данных-на-аномалии-и-исправления.\" data-toc-modified-id=\"Проверка-данных-на-аномалии-и-исправления.-2.2\"><span class=\"toc-item-num\">2.2&nbsp;&nbsp;</span>Проверка данных на аномалии и исправления.</a></span></li><li><span><a href=\"#Удаление-дубликатов.\" data-toc-modified-id=\"Удаление-дубликатов.-2.3\"><span class=\"toc-item-num\">2.3&nbsp;&nbsp;</span>Удаление дубликатов.</a></span></li><li><span><a href=\"#Изменение-типов-данных.\" data-toc-modified-id=\"Изменение-типов-данных.-2.4\"><span class=\"toc-item-num\">2.4&nbsp;&nbsp;</span>Изменение типов данных.</a></span></li><li><span><a href=\"#Формирование-дополнительных-датафреймов-словарей,-декомпозиция-исходного-датафрейма.\" data-toc-modified-id=\"Формирование-дополнительных-датафреймов-словарей,-декомпозиция-исходного-датафрейма.-2.5\"><span class=\"toc-item-num\">2.5&nbsp;&nbsp;</span>Формирование дополнительных датафреймов словарей, декомпозиция исходного датафрейма.</a></span></li><li><span><a href=\"#Категоризация-дохода.\" data-toc-modified-id=\"Категоризация-дохода.-2.6\"><span class=\"toc-item-num\">2.6&nbsp;&nbsp;</span>Категоризация дохода.</a></span></li><li><span><a href=\"#Шаг-2.7.-Категоризация-целей-кредита.\" data-toc-modified-id=\"Шаг-2.7.-Категоризация-целей-кредита.-2.7\"><span class=\"toc-item-num\">2.7&nbsp;&nbsp;</span>Шаг 2.7. Категоризация целей кредита.</a></span></li></ul></li><li><span><a href=\"#Ответы-на-вопросы.\" data-toc-modified-id=\"Ответы-на-вопросы.-3\"><span class=\"toc-item-num\">3&nbsp;&nbsp;</span>Ответы на вопросы.</a></span><ul class=\"toc-item\"><li><span><a href=\"#Процент-должников-в-зависимости-от-семейного-положения\" data-toc-modified-id=\"Процент-должников-в-зависимости-от-семейного-положения-3.1\"><span class=\"toc-item-num\">3.1&nbsp;&nbsp;</span>Процент должников в зависимости от семейного положения</a></span></li><li><span><a href=\"#Процент-должников-в-зависимости-от-дохода\" data-toc-modified-id=\"Процент-должников-в-зависимости-от-дохода-3.2\"><span class=\"toc-item-num\">3.2&nbsp;&nbsp;</span>Процент должников в зависимости от дохода</a></span></li><li><span><a href=\"#Процент-должников-в-зависимости-от-количества-детей\" data-toc-modified-id=\"Процент-должников-в-зависимости-от-количества-детей-3.3\"><span class=\"toc-item-num\">3.3&nbsp;&nbsp;</span>Процент должников в зависимости от количества детей</a></span></li><li><span><a href=\"#Процент-должников-в-зависимости-от-цели-кредита\" data-toc-modified-id=\"Процент-должников-в-зависимости-от-цели-кредита-3.4\"><span class=\"toc-item-num\">3.4&nbsp;&nbsp;</span>Процент должников в зависимости от цели кредита</a></span></li></ul></li><li><span><a href=\"#Общий-вывод-—-&quot;портрет-заемщика&quot;:\" data-toc-modified-id=\"Общий-вывод-—-&quot;портрет-заемщика&quot;:-4\"><span class=\"toc-item-num\">4&nbsp;&nbsp;</span>Общий вывод — \"портрет заемщика\":</a></span></li></ul></div>"
   ]
  },
  {
   "cell_type": "markdown",
   "id": "b1a3d08a",
   "metadata": {},
   "source": [
    "# Исследование надежности заемщиков\n",
    "\n",
    "Проверка надежности заемщиков крайне важна для нормального функционирования любого банка. Поэтому кредитные организации составляют свои собственные модели скоринга — системы оценки потенциальных заемщиков на благонадежность.\n",
    "\n",
    "Цель исследования — по предоставленным банком данным выяснить, какие факторы влияют на вероятность того, что могут возникнуть просрочки в платежах:\n",
    "- семейное положение;\n",
    "- количество детей;\n",
    "- уровень дохода;\n",
    "- цель кредита. \n",
    "\n",
    "Для исследования предоставлен файл 'data.csv'. Столбцы такие:\n",
    "- children — количество детей в семье;\n",
    "- days_employed — общий трудовой стаж (дней);\n",
    "- dob_years — возраст клиента (лет);\n",
    "- education — уровень образования клиента;\n",
    "- education_id — идентификатор уровня образования;\n",
    "- family_status — семейное положение;\n",
    "- family_status_id — идентификатор семейного положения;\n",
    "- gender — пол клиента;\n",
    "- income_type — тип занятости;\n",
    "- debt — имел ли задолженность по возврату кредитов;\n",
    "- total_income — ежемесячный доход;\n",
    "- purpose — цель получения кредита.\n",
    "\n",
    "Любая проверка гипотез начинается с изучения данных. Сначала найдем в них возможные ошибки, пропуски и дубликаты. Затем очистим, дополним и построим графики для визуализации выводов."
   ]
  },
  {
   "cell_type": "markdown",
   "id": "48d0f6b8",
   "metadata": {
    "slideshow": {
     "slide_type": "-"
    }
   },
   "source": [
    "## Обзор данных"
   ]
  },
  {
   "cell_type": "code",
   "execution_count": 1,
   "id": "ab7f58d8",
   "metadata": {},
   "outputs": [],
   "source": [
    "import pandas as pd\n",
    "import seaborn as sns\n",
    "import numpy as np\n",
    "import matplotlib.pyplot as plt"
   ]
  },
  {
   "cell_type": "code",
   "execution_count": 3,
   "id": "031a23c1",
   "metadata": {
    "scrolled": false,
    "slideshow": {
     "slide_type": "-"
    }
   },
   "outputs": [
    {
     "data": {
      "text/html": [
       "<div>\n",
       "<style scoped>\n",
       "    .dataframe tbody tr th:only-of-type {\n",
       "        vertical-align: middle;\n",
       "    }\n",
       "\n",
       "    .dataframe tbody tr th {\n",
       "        vertical-align: top;\n",
       "    }\n",
       "\n",
       "    .dataframe thead th {\n",
       "        text-align: right;\n",
       "    }\n",
       "</style>\n",
       "<table border=\"1\" class=\"dataframe\">\n",
       "  <thead>\n",
       "    <tr style=\"text-align: right;\">\n",
       "      <th></th>\n",
       "      <th>children</th>\n",
       "      <th>days_employed</th>\n",
       "      <th>dob_years</th>\n",
       "      <th>education</th>\n",
       "      <th>education_id</th>\n",
       "      <th>family_status</th>\n",
       "      <th>family_status_id</th>\n",
       "      <th>gender</th>\n",
       "      <th>income_type</th>\n",
       "      <th>debt</th>\n",
       "      <th>total_income</th>\n",
       "      <th>purpose</th>\n",
       "    </tr>\n",
       "  </thead>\n",
       "  <tbody>\n",
       "    <tr>\n",
       "      <th>0</th>\n",
       "      <td>1</td>\n",
       "      <td>-8437.673028</td>\n",
       "      <td>42</td>\n",
       "      <td>высшее</td>\n",
       "      <td>0</td>\n",
       "      <td>женат / замужем</td>\n",
       "      <td>0</td>\n",
       "      <td>F</td>\n",
       "      <td>сотрудник</td>\n",
       "      <td>0</td>\n",
       "      <td>253875.639453</td>\n",
       "      <td>покупка жилья</td>\n",
       "    </tr>\n",
       "    <tr>\n",
       "      <th>1</th>\n",
       "      <td>1</td>\n",
       "      <td>-4024.803754</td>\n",
       "      <td>36</td>\n",
       "      <td>среднее</td>\n",
       "      <td>1</td>\n",
       "      <td>женат / замужем</td>\n",
       "      <td>0</td>\n",
       "      <td>F</td>\n",
       "      <td>сотрудник</td>\n",
       "      <td>0</td>\n",
       "      <td>112080.014102</td>\n",
       "      <td>приобретение автомобиля</td>\n",
       "    </tr>\n",
       "    <tr>\n",
       "      <th>2</th>\n",
       "      <td>0</td>\n",
       "      <td>-5623.422610</td>\n",
       "      <td>33</td>\n",
       "      <td>Среднее</td>\n",
       "      <td>1</td>\n",
       "      <td>женат / замужем</td>\n",
       "      <td>0</td>\n",
       "      <td>M</td>\n",
       "      <td>сотрудник</td>\n",
       "      <td>0</td>\n",
       "      <td>145885.952297</td>\n",
       "      <td>покупка жилья</td>\n",
       "    </tr>\n",
       "    <tr>\n",
       "      <th>3</th>\n",
       "      <td>3</td>\n",
       "      <td>-4124.747207</td>\n",
       "      <td>32</td>\n",
       "      <td>среднее</td>\n",
       "      <td>1</td>\n",
       "      <td>женат / замужем</td>\n",
       "      <td>0</td>\n",
       "      <td>M</td>\n",
       "      <td>сотрудник</td>\n",
       "      <td>0</td>\n",
       "      <td>267628.550329</td>\n",
       "      <td>дополнительное образование</td>\n",
       "    </tr>\n",
       "    <tr>\n",
       "      <th>4</th>\n",
       "      <td>0</td>\n",
       "      <td>340266.072047</td>\n",
       "      <td>53</td>\n",
       "      <td>среднее</td>\n",
       "      <td>1</td>\n",
       "      <td>гражданский брак</td>\n",
       "      <td>1</td>\n",
       "      <td>F</td>\n",
       "      <td>пенсионер</td>\n",
       "      <td>0</td>\n",
       "      <td>158616.077870</td>\n",
       "      <td>сыграть свадьбу</td>\n",
       "    </tr>\n",
       "    <tr>\n",
       "      <th>...</th>\n",
       "      <td>...</td>\n",
       "      <td>...</td>\n",
       "      <td>...</td>\n",
       "      <td>...</td>\n",
       "      <td>...</td>\n",
       "      <td>...</td>\n",
       "      <td>...</td>\n",
       "      <td>...</td>\n",
       "      <td>...</td>\n",
       "      <td>...</td>\n",
       "      <td>...</td>\n",
       "      <td>...</td>\n",
       "    </tr>\n",
       "    <tr>\n",
       "      <th>21520</th>\n",
       "      <td>1</td>\n",
       "      <td>-4529.316663</td>\n",
       "      <td>43</td>\n",
       "      <td>среднее</td>\n",
       "      <td>1</td>\n",
       "      <td>гражданский брак</td>\n",
       "      <td>1</td>\n",
       "      <td>F</td>\n",
       "      <td>компаньон</td>\n",
       "      <td>0</td>\n",
       "      <td>224791.862382</td>\n",
       "      <td>операции с жильем</td>\n",
       "    </tr>\n",
       "    <tr>\n",
       "      <th>21521</th>\n",
       "      <td>0</td>\n",
       "      <td>343937.404131</td>\n",
       "      <td>67</td>\n",
       "      <td>среднее</td>\n",
       "      <td>1</td>\n",
       "      <td>женат / замужем</td>\n",
       "      <td>0</td>\n",
       "      <td>F</td>\n",
       "      <td>пенсионер</td>\n",
       "      <td>0</td>\n",
       "      <td>155999.806512</td>\n",
       "      <td>сделка с автомобилем</td>\n",
       "    </tr>\n",
       "    <tr>\n",
       "      <th>21522</th>\n",
       "      <td>1</td>\n",
       "      <td>-2113.346888</td>\n",
       "      <td>38</td>\n",
       "      <td>среднее</td>\n",
       "      <td>1</td>\n",
       "      <td>гражданский брак</td>\n",
       "      <td>1</td>\n",
       "      <td>M</td>\n",
       "      <td>сотрудник</td>\n",
       "      <td>1</td>\n",
       "      <td>89672.561153</td>\n",
       "      <td>недвижимость</td>\n",
       "    </tr>\n",
       "    <tr>\n",
       "      <th>21523</th>\n",
       "      <td>3</td>\n",
       "      <td>-3112.481705</td>\n",
       "      <td>38</td>\n",
       "      <td>среднее</td>\n",
       "      <td>1</td>\n",
       "      <td>женат / замужем</td>\n",
       "      <td>0</td>\n",
       "      <td>M</td>\n",
       "      <td>сотрудник</td>\n",
       "      <td>1</td>\n",
       "      <td>244093.050500</td>\n",
       "      <td>на покупку своего автомобиля</td>\n",
       "    </tr>\n",
       "    <tr>\n",
       "      <th>21524</th>\n",
       "      <td>2</td>\n",
       "      <td>-1984.507589</td>\n",
       "      <td>40</td>\n",
       "      <td>среднее</td>\n",
       "      <td>1</td>\n",
       "      <td>женат / замужем</td>\n",
       "      <td>0</td>\n",
       "      <td>F</td>\n",
       "      <td>сотрудник</td>\n",
       "      <td>0</td>\n",
       "      <td>82047.418899</td>\n",
       "      <td>на покупку автомобиля</td>\n",
       "    </tr>\n",
       "  </tbody>\n",
       "</table>\n",
       "<p>21525 rows × 12 columns</p>\n",
       "</div>"
      ],
      "text/plain": [
       "       children  days_employed  dob_years education  education_id  \\\n",
       "0             1   -8437.673028         42    высшее             0   \n",
       "1             1   -4024.803754         36   среднее             1   \n",
       "2             0   -5623.422610         33   Среднее             1   \n",
       "3             3   -4124.747207         32   среднее             1   \n",
       "4             0  340266.072047         53   среднее             1   \n",
       "...         ...            ...        ...       ...           ...   \n",
       "21520         1   -4529.316663         43   среднее             1   \n",
       "21521         0  343937.404131         67   среднее             1   \n",
       "21522         1   -2113.346888         38   среднее             1   \n",
       "21523         3   -3112.481705         38   среднее             1   \n",
       "21524         2   -1984.507589         40   среднее             1   \n",
       "\n",
       "          family_status  family_status_id gender income_type  debt  \\\n",
       "0       женат / замужем                 0      F   сотрудник     0   \n",
       "1       женат / замужем                 0      F   сотрудник     0   \n",
       "2       женат / замужем                 0      M   сотрудник     0   \n",
       "3       женат / замужем                 0      M   сотрудник     0   \n",
       "4      гражданский брак                 1      F   пенсионер     0   \n",
       "...                 ...               ...    ...         ...   ...   \n",
       "21520  гражданский брак                 1      F   компаньон     0   \n",
       "21521   женат / замужем                 0      F   пенсионер     0   \n",
       "21522  гражданский брак                 1      M   сотрудник     1   \n",
       "21523   женат / замужем                 0      M   сотрудник     1   \n",
       "21524   женат / замужем                 0      F   сотрудник     0   \n",
       "\n",
       "        total_income                       purpose  \n",
       "0      253875.639453                 покупка жилья  \n",
       "1      112080.014102       приобретение автомобиля  \n",
       "2      145885.952297                 покупка жилья  \n",
       "3      267628.550329    дополнительное образование  \n",
       "4      158616.077870               сыграть свадьбу  \n",
       "...              ...                           ...  \n",
       "21520  224791.862382             операции с жильем  \n",
       "21521  155999.806512          сделка с автомобилем  \n",
       "21522   89672.561153                  недвижимость  \n",
       "21523  244093.050500  на покупку своего автомобиля  \n",
       "21524   82047.418899         на покупку автомобиля  \n",
       "\n",
       "[21525 rows x 12 columns]"
      ]
     },
     "execution_count": 3,
     "metadata": {},
     "output_type": "execute_result"
    }
   ],
   "source": [
    "credit_worthiness = pd.read_csv('/datasets/data.csv')\n",
    "credit_worthiness"
   ]
  },
  {
   "cell_type": "code",
   "execution_count": 4,
   "id": "bcb1084c",
   "metadata": {},
   "outputs": [
    {
     "name": "stdout",
     "output_type": "stream",
     "text": [
      "<class 'pandas.core.frame.DataFrame'>\n",
      "RangeIndex: 21525 entries, 0 to 21524\n",
      "Data columns (total 12 columns):\n",
      " #   Column            Non-Null Count  Dtype  \n",
      "---  ------            --------------  -----  \n",
      " 0   children          21525 non-null  int64  \n",
      " 1   days_employed     19351 non-null  float64\n",
      " 2   dob_years         21525 non-null  int64  \n",
      " 3   education         21525 non-null  object \n",
      " 4   education_id      21525 non-null  int64  \n",
      " 5   family_status     21525 non-null  object \n",
      " 6   family_status_id  21525 non-null  int64  \n",
      " 7   gender            21525 non-null  object \n",
      " 8   income_type       21525 non-null  object \n",
      " 9   debt              21525 non-null  int64  \n",
      " 10  total_income      19351 non-null  float64\n",
      " 11  purpose           21525 non-null  object \n",
      "dtypes: float64(2), int64(5), object(5)\n",
      "memory usage: 11.3 MB\n"
     ]
    }
   ],
   "source": [
    "credit_worthiness.info(memory_usage='deep')"
   ]
  },
  {
   "cell_type": "code",
   "execution_count": 5,
   "id": "847b8201",
   "metadata": {
    "scrolled": true
   },
   "outputs": [
    {
     "data": {
      "text/html": [
       "<div>\n",
       "<style scoped>\n",
       "    .dataframe tbody tr th:only-of-type {\n",
       "        vertical-align: middle;\n",
       "    }\n",
       "\n",
       "    .dataframe tbody tr th {\n",
       "        vertical-align: top;\n",
       "    }\n",
       "\n",
       "    .dataframe thead th {\n",
       "        text-align: right;\n",
       "    }\n",
       "</style>\n",
       "<table border=\"1\" class=\"dataframe\">\n",
       "  <thead>\n",
       "    <tr style=\"text-align: right;\">\n",
       "      <th></th>\n",
       "      <th>count</th>\n",
       "      <th>mean</th>\n",
       "      <th>std</th>\n",
       "      <th>min</th>\n",
       "      <th>25%</th>\n",
       "      <th>50%</th>\n",
       "      <th>75%</th>\n",
       "      <th>max</th>\n",
       "    </tr>\n",
       "  </thead>\n",
       "  <tbody>\n",
       "    <tr>\n",
       "      <th>children</th>\n",
       "      <td>21525.0</td>\n",
       "      <td>0.54</td>\n",
       "      <td>1.38</td>\n",
       "      <td>-1.00</td>\n",
       "      <td>0.00</td>\n",
       "      <td>0.00</td>\n",
       "      <td>1.00</td>\n",
       "      <td>20.00</td>\n",
       "    </tr>\n",
       "    <tr>\n",
       "      <th>days_employed</th>\n",
       "      <td>19351.0</td>\n",
       "      <td>63046.50</td>\n",
       "      <td>140827.31</td>\n",
       "      <td>-18388.95</td>\n",
       "      <td>-2747.42</td>\n",
       "      <td>-1203.37</td>\n",
       "      <td>-291.10</td>\n",
       "      <td>401755.40</td>\n",
       "    </tr>\n",
       "    <tr>\n",
       "      <th>dob_years</th>\n",
       "      <td>21525.0</td>\n",
       "      <td>43.29</td>\n",
       "      <td>12.57</td>\n",
       "      <td>0.00</td>\n",
       "      <td>33.00</td>\n",
       "      <td>42.00</td>\n",
       "      <td>53.00</td>\n",
       "      <td>75.00</td>\n",
       "    </tr>\n",
       "    <tr>\n",
       "      <th>education_id</th>\n",
       "      <td>21525.0</td>\n",
       "      <td>0.82</td>\n",
       "      <td>0.55</td>\n",
       "      <td>0.00</td>\n",
       "      <td>1.00</td>\n",
       "      <td>1.00</td>\n",
       "      <td>1.00</td>\n",
       "      <td>4.00</td>\n",
       "    </tr>\n",
       "    <tr>\n",
       "      <th>family_status_id</th>\n",
       "      <td>21525.0</td>\n",
       "      <td>0.97</td>\n",
       "      <td>1.42</td>\n",
       "      <td>0.00</td>\n",
       "      <td>0.00</td>\n",
       "      <td>0.00</td>\n",
       "      <td>1.00</td>\n",
       "      <td>4.00</td>\n",
       "    </tr>\n",
       "    <tr>\n",
       "      <th>debt</th>\n",
       "      <td>21525.0</td>\n",
       "      <td>0.08</td>\n",
       "      <td>0.27</td>\n",
       "      <td>0.00</td>\n",
       "      <td>0.00</td>\n",
       "      <td>0.00</td>\n",
       "      <td>0.00</td>\n",
       "      <td>1.00</td>\n",
       "    </tr>\n",
       "    <tr>\n",
       "      <th>total_income</th>\n",
       "      <td>19351.0</td>\n",
       "      <td>167422.30</td>\n",
       "      <td>102971.57</td>\n",
       "      <td>20667.26</td>\n",
       "      <td>103053.15</td>\n",
       "      <td>145017.94</td>\n",
       "      <td>203435.07</td>\n",
       "      <td>2265604.03</td>\n",
       "    </tr>\n",
       "  </tbody>\n",
       "</table>\n",
       "</div>"
      ],
      "text/plain": [
       "                    count       mean        std       min        25%  \\\n",
       "children          21525.0       0.54       1.38     -1.00       0.00   \n",
       "days_employed     19351.0   63046.50  140827.31 -18388.95   -2747.42   \n",
       "dob_years         21525.0      43.29      12.57      0.00      33.00   \n",
       "education_id      21525.0       0.82       0.55      0.00       1.00   \n",
       "family_status_id  21525.0       0.97       1.42      0.00       0.00   \n",
       "debt              21525.0       0.08       0.27      0.00       0.00   \n",
       "total_income      19351.0  167422.30  102971.57  20667.26  103053.15   \n",
       "\n",
       "                        50%        75%         max  \n",
       "children               0.00       1.00       20.00  \n",
       "days_employed      -1203.37    -291.10   401755.40  \n",
       "dob_years             42.00      53.00       75.00  \n",
       "education_id           1.00       1.00        4.00  \n",
       "family_status_id       0.00       1.00        4.00  \n",
       "debt                   0.00       0.00        1.00  \n",
       "total_income      145017.94  203435.07  2265604.03  "
      ]
     },
     "execution_count": 5,
     "metadata": {},
     "output_type": "execute_result"
    }
   ],
   "source": [
    "credit_worthiness.describe().round(2).T"
   ]
  },
  {
   "cell_type": "markdown",
   "id": "875efbb5",
   "metadata": {},
   "source": [
    "## Обработка данных"
   ]
  },
  {
   "cell_type": "markdown",
   "id": "5831b9b8",
   "metadata": {},
   "source": [
    "### Заполнение пропусков"
   ]
  },
  {
   "cell_type": "markdown",
   "id": "fc09a0fd",
   "metadata": {},
   "source": [
    "<div style=\"border:solid green 2px; padding: 20px\">\n",
    "Из информации выше видим, что два столбца: 'days_employed' и 'total_income' — содержат равное количество пропущенных значений. Причиной отсутствия значений может быть нежелание потенциальных клиентов банка указывать свой стаж работы и доход. Т.к. число пропусков достигает почти 10% от общего числа записей (а это значительная часть), их нужно заполнить."
   ]
  },
  {
   "cell_type": "code",
   "execution_count": 6,
   "id": "dd49a826",
   "metadata": {},
   "outputs": [
    {
     "data": {
      "text/html": [
       "<div>\n",
       "<style scoped>\n",
       "    .dataframe tbody tr th:only-of-type {\n",
       "        vertical-align: middle;\n",
       "    }\n",
       "\n",
       "    .dataframe tbody tr th {\n",
       "        vertical-align: top;\n",
       "    }\n",
       "\n",
       "    .dataframe thead th {\n",
       "        text-align: right;\n",
       "    }\n",
       "</style>\n",
       "<table border=\"1\" class=\"dataframe\">\n",
       "  <thead>\n",
       "    <tr style=\"text-align: right;\">\n",
       "      <th></th>\n",
       "      <th>children</th>\n",
       "      <th>days_employed</th>\n",
       "      <th>dob_years</th>\n",
       "      <th>education</th>\n",
       "      <th>education_id</th>\n",
       "      <th>family_status</th>\n",
       "      <th>family_status_id</th>\n",
       "      <th>gender</th>\n",
       "      <th>income_type</th>\n",
       "      <th>debt</th>\n",
       "      <th>total_income</th>\n",
       "      <th>purpose</th>\n",
       "    </tr>\n",
       "  </thead>\n",
       "  <tbody>\n",
       "    <tr>\n",
       "      <th>12</th>\n",
       "      <td>0</td>\n",
       "      <td>NaN</td>\n",
       "      <td>65</td>\n",
       "      <td>среднее</td>\n",
       "      <td>1</td>\n",
       "      <td>гражданский брак</td>\n",
       "      <td>1</td>\n",
       "      <td>M</td>\n",
       "      <td>пенсионер</td>\n",
       "      <td>0</td>\n",
       "      <td>NaN</td>\n",
       "      <td>сыграть свадьбу</td>\n",
       "    </tr>\n",
       "    <tr>\n",
       "      <th>26</th>\n",
       "      <td>0</td>\n",
       "      <td>NaN</td>\n",
       "      <td>41</td>\n",
       "      <td>среднее</td>\n",
       "      <td>1</td>\n",
       "      <td>женат / замужем</td>\n",
       "      <td>0</td>\n",
       "      <td>M</td>\n",
       "      <td>госслужащий</td>\n",
       "      <td>0</td>\n",
       "      <td>NaN</td>\n",
       "      <td>образование</td>\n",
       "    </tr>\n",
       "    <tr>\n",
       "      <th>29</th>\n",
       "      <td>0</td>\n",
       "      <td>NaN</td>\n",
       "      <td>63</td>\n",
       "      <td>среднее</td>\n",
       "      <td>1</td>\n",
       "      <td>Не женат / не замужем</td>\n",
       "      <td>4</td>\n",
       "      <td>F</td>\n",
       "      <td>пенсионер</td>\n",
       "      <td>0</td>\n",
       "      <td>NaN</td>\n",
       "      <td>строительство жилой недвижимости</td>\n",
       "    </tr>\n",
       "    <tr>\n",
       "      <th>41</th>\n",
       "      <td>0</td>\n",
       "      <td>NaN</td>\n",
       "      <td>50</td>\n",
       "      <td>среднее</td>\n",
       "      <td>1</td>\n",
       "      <td>женат / замужем</td>\n",
       "      <td>0</td>\n",
       "      <td>F</td>\n",
       "      <td>госслужащий</td>\n",
       "      <td>0</td>\n",
       "      <td>NaN</td>\n",
       "      <td>сделка с подержанным автомобилем</td>\n",
       "    </tr>\n",
       "    <tr>\n",
       "      <th>55</th>\n",
       "      <td>0</td>\n",
       "      <td>NaN</td>\n",
       "      <td>54</td>\n",
       "      <td>среднее</td>\n",
       "      <td>1</td>\n",
       "      <td>гражданский брак</td>\n",
       "      <td>1</td>\n",
       "      <td>F</td>\n",
       "      <td>пенсионер</td>\n",
       "      <td>1</td>\n",
       "      <td>NaN</td>\n",
       "      <td>сыграть свадьбу</td>\n",
       "    </tr>\n",
       "    <tr>\n",
       "      <th>...</th>\n",
       "      <td>...</td>\n",
       "      <td>...</td>\n",
       "      <td>...</td>\n",
       "      <td>...</td>\n",
       "      <td>...</td>\n",
       "      <td>...</td>\n",
       "      <td>...</td>\n",
       "      <td>...</td>\n",
       "      <td>...</td>\n",
       "      <td>...</td>\n",
       "      <td>...</td>\n",
       "      <td>...</td>\n",
       "    </tr>\n",
       "    <tr>\n",
       "      <th>21489</th>\n",
       "      <td>2</td>\n",
       "      <td>NaN</td>\n",
       "      <td>47</td>\n",
       "      <td>Среднее</td>\n",
       "      <td>1</td>\n",
       "      <td>женат / замужем</td>\n",
       "      <td>0</td>\n",
       "      <td>M</td>\n",
       "      <td>компаньон</td>\n",
       "      <td>0</td>\n",
       "      <td>NaN</td>\n",
       "      <td>сделка с автомобилем</td>\n",
       "    </tr>\n",
       "    <tr>\n",
       "      <th>21495</th>\n",
       "      <td>1</td>\n",
       "      <td>NaN</td>\n",
       "      <td>50</td>\n",
       "      <td>среднее</td>\n",
       "      <td>1</td>\n",
       "      <td>гражданский брак</td>\n",
       "      <td>1</td>\n",
       "      <td>F</td>\n",
       "      <td>сотрудник</td>\n",
       "      <td>0</td>\n",
       "      <td>NaN</td>\n",
       "      <td>свадьба</td>\n",
       "    </tr>\n",
       "    <tr>\n",
       "      <th>21497</th>\n",
       "      <td>0</td>\n",
       "      <td>NaN</td>\n",
       "      <td>48</td>\n",
       "      <td>ВЫСШЕЕ</td>\n",
       "      <td>0</td>\n",
       "      <td>женат / замужем</td>\n",
       "      <td>0</td>\n",
       "      <td>F</td>\n",
       "      <td>компаньон</td>\n",
       "      <td>0</td>\n",
       "      <td>NaN</td>\n",
       "      <td>строительство недвижимости</td>\n",
       "    </tr>\n",
       "    <tr>\n",
       "      <th>21502</th>\n",
       "      <td>1</td>\n",
       "      <td>NaN</td>\n",
       "      <td>42</td>\n",
       "      <td>среднее</td>\n",
       "      <td>1</td>\n",
       "      <td>женат / замужем</td>\n",
       "      <td>0</td>\n",
       "      <td>F</td>\n",
       "      <td>сотрудник</td>\n",
       "      <td>0</td>\n",
       "      <td>NaN</td>\n",
       "      <td>строительство жилой недвижимости</td>\n",
       "    </tr>\n",
       "    <tr>\n",
       "      <th>21510</th>\n",
       "      <td>2</td>\n",
       "      <td>NaN</td>\n",
       "      <td>28</td>\n",
       "      <td>среднее</td>\n",
       "      <td>1</td>\n",
       "      <td>женат / замужем</td>\n",
       "      <td>0</td>\n",
       "      <td>F</td>\n",
       "      <td>сотрудник</td>\n",
       "      <td>0</td>\n",
       "      <td>NaN</td>\n",
       "      <td>приобретение автомобиля</td>\n",
       "    </tr>\n",
       "  </tbody>\n",
       "</table>\n",
       "<p>2174 rows × 12 columns</p>\n",
       "</div>"
      ],
      "text/plain": [
       "       children  days_employed  dob_years education  education_id  \\\n",
       "12            0            NaN         65   среднее             1   \n",
       "26            0            NaN         41   среднее             1   \n",
       "29            0            NaN         63   среднее             1   \n",
       "41            0            NaN         50   среднее             1   \n",
       "55            0            NaN         54   среднее             1   \n",
       "...         ...            ...        ...       ...           ...   \n",
       "21489         2            NaN         47   Среднее             1   \n",
       "21495         1            NaN         50   среднее             1   \n",
       "21497         0            NaN         48    ВЫСШЕЕ             0   \n",
       "21502         1            NaN         42   среднее             1   \n",
       "21510         2            NaN         28   среднее             1   \n",
       "\n",
       "               family_status  family_status_id gender  income_type  debt  \\\n",
       "12          гражданский брак                 1      M    пенсионер     0   \n",
       "26           женат / замужем                 0      M  госслужащий     0   \n",
       "29     Не женат / не замужем                 4      F    пенсионер     0   \n",
       "41           женат / замужем                 0      F  госслужащий     0   \n",
       "55          гражданский брак                 1      F    пенсионер     1   \n",
       "...                      ...               ...    ...          ...   ...   \n",
       "21489        женат / замужем                 0      M    компаньон     0   \n",
       "21495       гражданский брак                 1      F    сотрудник     0   \n",
       "21497        женат / замужем                 0      F    компаньон     0   \n",
       "21502        женат / замужем                 0      F    сотрудник     0   \n",
       "21510        женат / замужем                 0      F    сотрудник     0   \n",
       "\n",
       "       total_income                           purpose  \n",
       "12              NaN                   сыграть свадьбу  \n",
       "26              NaN                       образование  \n",
       "29              NaN  строительство жилой недвижимости  \n",
       "41              NaN  сделка с подержанным автомобилем  \n",
       "55              NaN                   сыграть свадьбу  \n",
       "...             ...                               ...  \n",
       "21489           NaN              сделка с автомобилем  \n",
       "21495           NaN                           свадьба  \n",
       "21497           NaN        строительство недвижимости  \n",
       "21502           NaN  строительство жилой недвижимости  \n",
       "21510           NaN           приобретение автомобиля  \n",
       "\n",
       "[2174 rows x 12 columns]"
      ]
     },
     "execution_count": 6,
     "metadata": {},
     "output_type": "execute_result"
    }
   ],
   "source": [
    "credit_worthiness.loc[credit_worthiness['days_employed'].isna()]"
   ]
  },
  {
   "cell_type": "markdown",
   "id": "78ea6e32",
   "metadata": {},
   "source": [
    "<div style=\"border:solid green 2px; padding: 20px\">\n",
    "    Для заполнения пустых значений в столбце 'total_income' найдем медианные значения для четырех самых частых типов занятости. Так как в показателях дохода могут быть сильно выдающиеся значения, использование медианы вместо среднего значения здесь более предпочтительно. Для удобства вычислений заменим все NaN в столбце 'total_income' на нули."
   ]
  },
  {
   "cell_type": "code",
   "execution_count": 7,
   "id": "0a628177",
   "metadata": {},
   "outputs": [],
   "source": [
    "credit_worthiness['total_income'] = credit_worthiness['total_income'].fillna(value=0)"
   ]
  },
  {
   "cell_type": "code",
   "execution_count": 8,
   "id": "6631ccbb",
   "metadata": {},
   "outputs": [
    {
     "data": {
      "text/plain": [
       "сотрудник          11119\n",
       "компаньон           5085\n",
       "пенсионер           3856\n",
       "госслужащий         1459\n",
       "безработный            2\n",
       "предприниматель        2\n",
       "студент                1\n",
       "в декрете              1\n",
       "Name: income_type, dtype: int64"
      ]
     },
     "execution_count": 8,
     "metadata": {},
     "output_type": "execute_result"
    }
   ],
   "source": [
    "credit_worthiness['income_type'].value_counts()"
   ]
  },
  {
   "cell_type": "markdown",
   "id": "11c888d8",
   "metadata": {},
   "source": [
    "<div style=\"border:solid green 2px; padding: 20px\">\n",
    "С помощью метода .unique() создаем список из уникальных названий столбца 'income_type'. На основе четырех самых частых значений делаем цикл, который:\n",
    "\n",
    "- в каждом из четырех типов занятости высчитывает медиану дохода без учета нулевых значений;\n",
    "- заменяет нулевые значения на медиану."
   ]
  },
  {
   "cell_type": "code",
   "execution_count": 9,
   "id": "3cdcb32c",
   "metadata": {},
   "outputs": [
    {
     "data": {
      "text/html": [
       "<div>\n",
       "<style scoped>\n",
       "    .dataframe tbody tr th:only-of-type {\n",
       "        vertical-align: middle;\n",
       "    }\n",
       "\n",
       "    .dataframe tbody tr th {\n",
       "        vertical-align: top;\n",
       "    }\n",
       "\n",
       "    .dataframe thead th {\n",
       "        text-align: right;\n",
       "    }\n",
       "</style>\n",
       "<table border=\"1\" class=\"dataframe\">\n",
       "  <thead>\n",
       "    <tr style=\"text-align: right;\">\n",
       "      <th></th>\n",
       "      <th>children</th>\n",
       "      <th>days_employed</th>\n",
       "      <th>dob_years</th>\n",
       "      <th>education</th>\n",
       "      <th>education_id</th>\n",
       "      <th>family_status</th>\n",
       "      <th>family_status_id</th>\n",
       "      <th>gender</th>\n",
       "      <th>income_type</th>\n",
       "      <th>debt</th>\n",
       "      <th>total_income</th>\n",
       "      <th>purpose</th>\n",
       "    </tr>\n",
       "  </thead>\n",
       "  <tbody>\n",
       "    <tr>\n",
       "      <th>12</th>\n",
       "      <td>0</td>\n",
       "      <td>NaN</td>\n",
       "      <td>65</td>\n",
       "      <td>среднее</td>\n",
       "      <td>1</td>\n",
       "      <td>гражданский брак</td>\n",
       "      <td>1</td>\n",
       "      <td>M</td>\n",
       "      <td>пенсионер</td>\n",
       "      <td>0</td>\n",
       "      <td>118514.486412</td>\n",
       "      <td>сыграть свадьбу</td>\n",
       "    </tr>\n",
       "    <tr>\n",
       "      <th>26</th>\n",
       "      <td>0</td>\n",
       "      <td>NaN</td>\n",
       "      <td>41</td>\n",
       "      <td>среднее</td>\n",
       "      <td>1</td>\n",
       "      <td>женат / замужем</td>\n",
       "      <td>0</td>\n",
       "      <td>M</td>\n",
       "      <td>госслужащий</td>\n",
       "      <td>0</td>\n",
       "      <td>150447.935283</td>\n",
       "      <td>образование</td>\n",
       "    </tr>\n",
       "    <tr>\n",
       "      <th>29</th>\n",
       "      <td>0</td>\n",
       "      <td>NaN</td>\n",
       "      <td>63</td>\n",
       "      <td>среднее</td>\n",
       "      <td>1</td>\n",
       "      <td>Не женат / не замужем</td>\n",
       "      <td>4</td>\n",
       "      <td>F</td>\n",
       "      <td>пенсионер</td>\n",
       "      <td>0</td>\n",
       "      <td>118514.486412</td>\n",
       "      <td>строительство жилой недвижимости</td>\n",
       "    </tr>\n",
       "    <tr>\n",
       "      <th>41</th>\n",
       "      <td>0</td>\n",
       "      <td>NaN</td>\n",
       "      <td>50</td>\n",
       "      <td>среднее</td>\n",
       "      <td>1</td>\n",
       "      <td>женат / замужем</td>\n",
       "      <td>0</td>\n",
       "      <td>F</td>\n",
       "      <td>госслужащий</td>\n",
       "      <td>0</td>\n",
       "      <td>150447.935283</td>\n",
       "      <td>сделка с подержанным автомобилем</td>\n",
       "    </tr>\n",
       "    <tr>\n",
       "      <th>55</th>\n",
       "      <td>0</td>\n",
       "      <td>NaN</td>\n",
       "      <td>54</td>\n",
       "      <td>среднее</td>\n",
       "      <td>1</td>\n",
       "      <td>гражданский брак</td>\n",
       "      <td>1</td>\n",
       "      <td>F</td>\n",
       "      <td>пенсионер</td>\n",
       "      <td>1</td>\n",
       "      <td>118514.486412</td>\n",
       "      <td>сыграть свадьбу</td>\n",
       "    </tr>\n",
       "    <tr>\n",
       "      <th>...</th>\n",
       "      <td>...</td>\n",
       "      <td>...</td>\n",
       "      <td>...</td>\n",
       "      <td>...</td>\n",
       "      <td>...</td>\n",
       "      <td>...</td>\n",
       "      <td>...</td>\n",
       "      <td>...</td>\n",
       "      <td>...</td>\n",
       "      <td>...</td>\n",
       "      <td>...</td>\n",
       "      <td>...</td>\n",
       "    </tr>\n",
       "    <tr>\n",
       "      <th>21489</th>\n",
       "      <td>2</td>\n",
       "      <td>NaN</td>\n",
       "      <td>47</td>\n",
       "      <td>Среднее</td>\n",
       "      <td>1</td>\n",
       "      <td>женат / замужем</td>\n",
       "      <td>0</td>\n",
       "      <td>M</td>\n",
       "      <td>компаньон</td>\n",
       "      <td>0</td>\n",
       "      <td>172357.950966</td>\n",
       "      <td>сделка с автомобилем</td>\n",
       "    </tr>\n",
       "    <tr>\n",
       "      <th>21495</th>\n",
       "      <td>1</td>\n",
       "      <td>NaN</td>\n",
       "      <td>50</td>\n",
       "      <td>среднее</td>\n",
       "      <td>1</td>\n",
       "      <td>гражданский брак</td>\n",
       "      <td>1</td>\n",
       "      <td>F</td>\n",
       "      <td>сотрудник</td>\n",
       "      <td>0</td>\n",
       "      <td>142594.396847</td>\n",
       "      <td>свадьба</td>\n",
       "    </tr>\n",
       "    <tr>\n",
       "      <th>21497</th>\n",
       "      <td>0</td>\n",
       "      <td>NaN</td>\n",
       "      <td>48</td>\n",
       "      <td>ВЫСШЕЕ</td>\n",
       "      <td>0</td>\n",
       "      <td>женат / замужем</td>\n",
       "      <td>0</td>\n",
       "      <td>F</td>\n",
       "      <td>компаньон</td>\n",
       "      <td>0</td>\n",
       "      <td>172357.950966</td>\n",
       "      <td>строительство недвижимости</td>\n",
       "    </tr>\n",
       "    <tr>\n",
       "      <th>21502</th>\n",
       "      <td>1</td>\n",
       "      <td>NaN</td>\n",
       "      <td>42</td>\n",
       "      <td>среднее</td>\n",
       "      <td>1</td>\n",
       "      <td>женат / замужем</td>\n",
       "      <td>0</td>\n",
       "      <td>F</td>\n",
       "      <td>сотрудник</td>\n",
       "      <td>0</td>\n",
       "      <td>142594.396847</td>\n",
       "      <td>строительство жилой недвижимости</td>\n",
       "    </tr>\n",
       "    <tr>\n",
       "      <th>21510</th>\n",
       "      <td>2</td>\n",
       "      <td>NaN</td>\n",
       "      <td>28</td>\n",
       "      <td>среднее</td>\n",
       "      <td>1</td>\n",
       "      <td>женат / замужем</td>\n",
       "      <td>0</td>\n",
       "      <td>F</td>\n",
       "      <td>сотрудник</td>\n",
       "      <td>0</td>\n",
       "      <td>142594.396847</td>\n",
       "      <td>приобретение автомобиля</td>\n",
       "    </tr>\n",
       "  </tbody>\n",
       "</table>\n",
       "<p>2174 rows × 12 columns</p>\n",
       "</div>"
      ],
      "text/plain": [
       "       children  days_employed  dob_years education  education_id  \\\n",
       "12            0            NaN         65   среднее             1   \n",
       "26            0            NaN         41   среднее             1   \n",
       "29            0            NaN         63   среднее             1   \n",
       "41            0            NaN         50   среднее             1   \n",
       "55            0            NaN         54   среднее             1   \n",
       "...         ...            ...        ...       ...           ...   \n",
       "21489         2            NaN         47   Среднее             1   \n",
       "21495         1            NaN         50   среднее             1   \n",
       "21497         0            NaN         48    ВЫСШЕЕ             0   \n",
       "21502         1            NaN         42   среднее             1   \n",
       "21510         2            NaN         28   среднее             1   \n",
       "\n",
       "               family_status  family_status_id gender  income_type  debt  \\\n",
       "12          гражданский брак                 1      M    пенсионер     0   \n",
       "26           женат / замужем                 0      M  госслужащий     0   \n",
       "29     Не женат / не замужем                 4      F    пенсионер     0   \n",
       "41           женат / замужем                 0      F  госслужащий     0   \n",
       "55          гражданский брак                 1      F    пенсионер     1   \n",
       "...                      ...               ...    ...          ...   ...   \n",
       "21489        женат / замужем                 0      M    компаньон     0   \n",
       "21495       гражданский брак                 1      F    сотрудник     0   \n",
       "21497        женат / замужем                 0      F    компаньон     0   \n",
       "21502        женат / замужем                 0      F    сотрудник     0   \n",
       "21510        женат / замужем                 0      F    сотрудник     0   \n",
       "\n",
       "        total_income                           purpose  \n",
       "12     118514.486412                   сыграть свадьбу  \n",
       "26     150447.935283                       образование  \n",
       "29     118514.486412  строительство жилой недвижимости  \n",
       "41     150447.935283  сделка с подержанным автомобилем  \n",
       "55     118514.486412                   сыграть свадьбу  \n",
       "...              ...                               ...  \n",
       "21489  172357.950966              сделка с автомобилем  \n",
       "21495  142594.396847                           свадьба  \n",
       "21497  172357.950966        строительство недвижимости  \n",
       "21502  142594.396847  строительство жилой недвижимости  \n",
       "21510  142594.396847           приобретение автомобиля  \n",
       "\n",
       "[2174 rows x 12 columns]"
      ]
     },
     "execution_count": 9,
     "metadata": {},
     "output_type": "execute_result"
    }
   ],
   "source": [
    "unique_income_type = credit_worthiness['income_type'].unique()\n",
    "\n",
    "for type in unique_income_type[0:4]:\n",
    "    not_null_proff_income = credit_worthiness.loc[(credit_worthiness['income_type'] == type) &\n",
    "                                                  (credit_worthiness['total_income'] != 0)]\n",
    "    proff_median_income = not_null_proff_income['total_income'].median()\n",
    "    rows = (credit_worthiness['income_type'] == type) & (credit_worthiness['total_income'] == 0)\n",
    "    credit_worthiness.loc[rows, 'total_income'] = proff_median_income\n",
    "\n",
    "credit_worthiness.loc[credit_worthiness['days_employed'].isna()]"
   ]
  },
  {
   "cell_type": "code",
   "execution_count": 10,
   "id": "38fbbf92",
   "metadata": {},
   "outputs": [
    {
     "data": {
      "text/plain": [
       "пенсионер      3443\n",
       "безработный       2\n",
       "Name: income_type, dtype: int64"
      ]
     },
     "execution_count": 10,
     "metadata": {},
     "output_type": "execute_result"
    }
   ],
   "source": [
    "abnormal_days_employed = credit_worthiness.loc[credit_worthiness['days_employed'] > 100000]\n",
    "abnormal_days_employed['income_type'].value_counts()"
   ]
  },
  {
   "cell_type": "markdown",
   "id": "5be9495b",
   "metadata": {},
   "source": [
    "<div style=\"border:solid green 2px; padding: 20px\">\n",
    "Значения столбца 'days_employed' аномально высоки для большинства пенсионеров и двух безработных. Полагаю, что для этих категорий заемщиков трудовой стаж неважен. Поэтому приравняем его к единице и не будем учитывать эти значения для нахождения медианы по столбцу. Также заменим все NaN в столбце 'days_employed' на нули."
   ]
  },
  {
   "cell_type": "code",
   "execution_count": 12,
   "id": "53c0c74c",
   "metadata": {
    "scrolled": false
   },
   "outputs": [
    {
     "data": {
      "text/html": [
       "<div>\n",
       "<style scoped>\n",
       "    .dataframe tbody tr th:only-of-type {\n",
       "        vertical-align: middle;\n",
       "    }\n",
       "\n",
       "    .dataframe tbody tr th {\n",
       "        vertical-align: top;\n",
       "    }\n",
       "\n",
       "    .dataframe thead th {\n",
       "        text-align: right;\n",
       "    }\n",
       "</style>\n",
       "<table border=\"1\" class=\"dataframe\">\n",
       "  <thead>\n",
       "    <tr style=\"text-align: right;\">\n",
       "      <th></th>\n",
       "      <th>children</th>\n",
       "      <th>days_employed</th>\n",
       "      <th>dob_years</th>\n",
       "      <th>education</th>\n",
       "      <th>education_id</th>\n",
       "      <th>family_status</th>\n",
       "      <th>family_status_id</th>\n",
       "      <th>gender</th>\n",
       "      <th>income_type</th>\n",
       "      <th>debt</th>\n",
       "      <th>total_income</th>\n",
       "      <th>purpose</th>\n",
       "    </tr>\n",
       "  </thead>\n",
       "  <tbody>\n",
       "    <tr>\n",
       "      <th>4</th>\n",
       "      <td>0</td>\n",
       "      <td>1.0</td>\n",
       "      <td>53</td>\n",
       "      <td>среднее</td>\n",
       "      <td>1</td>\n",
       "      <td>гражданский брак</td>\n",
       "      <td>1</td>\n",
       "      <td>F</td>\n",
       "      <td>пенсионер</td>\n",
       "      <td>0</td>\n",
       "      <td>158616.077870</td>\n",
       "      <td>сыграть свадьбу</td>\n",
       "    </tr>\n",
       "    <tr>\n",
       "      <th>12</th>\n",
       "      <td>0</td>\n",
       "      <td>1.0</td>\n",
       "      <td>65</td>\n",
       "      <td>среднее</td>\n",
       "      <td>1</td>\n",
       "      <td>гражданский брак</td>\n",
       "      <td>1</td>\n",
       "      <td>M</td>\n",
       "      <td>пенсионер</td>\n",
       "      <td>0</td>\n",
       "      <td>118514.486412</td>\n",
       "      <td>сыграть свадьбу</td>\n",
       "    </tr>\n",
       "    <tr>\n",
       "      <th>18</th>\n",
       "      <td>0</td>\n",
       "      <td>1.0</td>\n",
       "      <td>53</td>\n",
       "      <td>среднее</td>\n",
       "      <td>1</td>\n",
       "      <td>вдовец / вдова</td>\n",
       "      <td>2</td>\n",
       "      <td>F</td>\n",
       "      <td>пенсионер</td>\n",
       "      <td>0</td>\n",
       "      <td>56823.777243</td>\n",
       "      <td>на покупку подержанного автомобиля</td>\n",
       "    </tr>\n",
       "    <tr>\n",
       "      <th>24</th>\n",
       "      <td>1</td>\n",
       "      <td>1.0</td>\n",
       "      <td>57</td>\n",
       "      <td>среднее</td>\n",
       "      <td>1</td>\n",
       "      <td>Не женат / не замужем</td>\n",
       "      <td>4</td>\n",
       "      <td>F</td>\n",
       "      <td>пенсионер</td>\n",
       "      <td>0</td>\n",
       "      <td>290547.235997</td>\n",
       "      <td>операции с коммерческой недвижимостью</td>\n",
       "    </tr>\n",
       "    <tr>\n",
       "      <th>25</th>\n",
       "      <td>0</td>\n",
       "      <td>1.0</td>\n",
       "      <td>67</td>\n",
       "      <td>среднее</td>\n",
       "      <td>1</td>\n",
       "      <td>женат / замужем</td>\n",
       "      <td>0</td>\n",
       "      <td>M</td>\n",
       "      <td>пенсионер</td>\n",
       "      <td>0</td>\n",
       "      <td>55112.757732</td>\n",
       "      <td>покупка недвижимости</td>\n",
       "    </tr>\n",
       "    <tr>\n",
       "      <th>...</th>\n",
       "      <td>...</td>\n",
       "      <td>...</td>\n",
       "      <td>...</td>\n",
       "      <td>...</td>\n",
       "      <td>...</td>\n",
       "      <td>...</td>\n",
       "      <td>...</td>\n",
       "      <td>...</td>\n",
       "      <td>...</td>\n",
       "      <td>...</td>\n",
       "      <td>...</td>\n",
       "      <td>...</td>\n",
       "    </tr>\n",
       "    <tr>\n",
       "      <th>21505</th>\n",
       "      <td>0</td>\n",
       "      <td>1.0</td>\n",
       "      <td>53</td>\n",
       "      <td>среднее</td>\n",
       "      <td>1</td>\n",
       "      <td>гражданский брак</td>\n",
       "      <td>1</td>\n",
       "      <td>M</td>\n",
       "      <td>пенсионер</td>\n",
       "      <td>0</td>\n",
       "      <td>75439.993167</td>\n",
       "      <td>сыграть свадьбу</td>\n",
       "    </tr>\n",
       "    <tr>\n",
       "      <th>21508</th>\n",
       "      <td>0</td>\n",
       "      <td>1.0</td>\n",
       "      <td>62</td>\n",
       "      <td>среднее</td>\n",
       "      <td>1</td>\n",
       "      <td>женат / замужем</td>\n",
       "      <td>0</td>\n",
       "      <td>M</td>\n",
       "      <td>пенсионер</td>\n",
       "      <td>0</td>\n",
       "      <td>72638.590915</td>\n",
       "      <td>недвижимость</td>\n",
       "    </tr>\n",
       "    <tr>\n",
       "      <th>21509</th>\n",
       "      <td>0</td>\n",
       "      <td>1.0</td>\n",
       "      <td>59</td>\n",
       "      <td>высшее</td>\n",
       "      <td>0</td>\n",
       "      <td>женат / замужем</td>\n",
       "      <td>0</td>\n",
       "      <td>M</td>\n",
       "      <td>пенсионер</td>\n",
       "      <td>0</td>\n",
       "      <td>73029.059379</td>\n",
       "      <td>операции с недвижимостью</td>\n",
       "    </tr>\n",
       "    <tr>\n",
       "      <th>21518</th>\n",
       "      <td>0</td>\n",
       "      <td>1.0</td>\n",
       "      <td>59</td>\n",
       "      <td>СРЕДНЕЕ</td>\n",
       "      <td>1</td>\n",
       "      <td>женат / замужем</td>\n",
       "      <td>0</td>\n",
       "      <td>F</td>\n",
       "      <td>пенсионер</td>\n",
       "      <td>0</td>\n",
       "      <td>153864.650328</td>\n",
       "      <td>сделка с автомобилем</td>\n",
       "    </tr>\n",
       "    <tr>\n",
       "      <th>21521</th>\n",
       "      <td>0</td>\n",
       "      <td>1.0</td>\n",
       "      <td>67</td>\n",
       "      <td>среднее</td>\n",
       "      <td>1</td>\n",
       "      <td>женат / замужем</td>\n",
       "      <td>0</td>\n",
       "      <td>F</td>\n",
       "      <td>пенсионер</td>\n",
       "      <td>0</td>\n",
       "      <td>155999.806512</td>\n",
       "      <td>сделка с автомобилем</td>\n",
       "    </tr>\n",
       "  </tbody>\n",
       "</table>\n",
       "<p>3856 rows × 12 columns</p>\n",
       "</div>"
      ],
      "text/plain": [
       "       children  days_employed  dob_years education  education_id  \\\n",
       "4             0            1.0         53   среднее             1   \n",
       "12            0            1.0         65   среднее             1   \n",
       "18            0            1.0         53   среднее             1   \n",
       "24            1            1.0         57   среднее             1   \n",
       "25            0            1.0         67   среднее             1   \n",
       "...         ...            ...        ...       ...           ...   \n",
       "21505         0            1.0         53   среднее             1   \n",
       "21508         0            1.0         62   среднее             1   \n",
       "21509         0            1.0         59    высшее             0   \n",
       "21518         0            1.0         59   СРЕДНЕЕ             1   \n",
       "21521         0            1.0         67   среднее             1   \n",
       "\n",
       "               family_status  family_status_id gender income_type  debt  \\\n",
       "4           гражданский брак                 1      F   пенсионер     0   \n",
       "12          гражданский брак                 1      M   пенсионер     0   \n",
       "18            вдовец / вдова                 2      F   пенсионер     0   \n",
       "24     Не женат / не замужем                 4      F   пенсионер     0   \n",
       "25           женат / замужем                 0      M   пенсионер     0   \n",
       "...                      ...               ...    ...         ...   ...   \n",
       "21505       гражданский брак                 1      M   пенсионер     0   \n",
       "21508        женат / замужем                 0      M   пенсионер     0   \n",
       "21509        женат / замужем                 0      M   пенсионер     0   \n",
       "21518        женат / замужем                 0      F   пенсионер     0   \n",
       "21521        женат / замужем                 0      F   пенсионер     0   \n",
       "\n",
       "        total_income                                purpose  \n",
       "4      158616.077870                        сыграть свадьбу  \n",
       "12     118514.486412                        сыграть свадьбу  \n",
       "18      56823.777243     на покупку подержанного автомобиля  \n",
       "24     290547.235997  операции с коммерческой недвижимостью  \n",
       "25      55112.757732                   покупка недвижимости  \n",
       "...              ...                                    ...  \n",
       "21505   75439.993167                        сыграть свадьбу  \n",
       "21508   72638.590915                           недвижимость  \n",
       "21509   73029.059379               операции с недвижимостью  \n",
       "21518  153864.650328                   сделка с автомобилем  \n",
       "21521  155999.806512                   сделка с автомобилем  \n",
       "\n",
       "[3856 rows x 12 columns]"
      ]
     },
     "execution_count": 12,
     "metadata": {},
     "output_type": "execute_result"
    }
   ],
   "source": [
    "credit_worthiness.loc[credit_worthiness['income_type'] == 'пенсионер', 'days_employed'] = 1\n",
    "credit_worthiness.loc[credit_worthiness['income_type'] == 'безработный', 'days_employed'] = 1\n",
    "credit_worthiness['days_employed'] = credit_worthiness['days_employed'].fillna(value=0)\n",
    "credit_worthiness.loc[credit_worthiness['income_type'] == 'пенсионер']"
   ]
  },
  {
   "cell_type": "markdown",
   "id": "6e24494e",
   "metadata": {},
   "source": [
    "<div style=\"border:solid green 2px; padding: 20px\">\n",
    "В столбце 'days_employed' есть артефакты в виде отрицательных значений. Переведем в положительные. Вероятно, возникновение этих аномалий стало следствием технической ошибки."
   ]
  },
  {
   "cell_type": "code",
   "execution_count": 13,
   "id": "b23271d3",
   "metadata": {},
   "outputs": [
    {
     "data": {
      "text/html": [
       "<div>\n",
       "<style scoped>\n",
       "    .dataframe tbody tr th:only-of-type {\n",
       "        vertical-align: middle;\n",
       "    }\n",
       "\n",
       "    .dataframe tbody tr th {\n",
       "        vertical-align: top;\n",
       "    }\n",
       "\n",
       "    .dataframe thead th {\n",
       "        text-align: right;\n",
       "    }\n",
       "</style>\n",
       "<table border=\"1\" class=\"dataframe\">\n",
       "  <thead>\n",
       "    <tr style=\"text-align: right;\">\n",
       "      <th></th>\n",
       "      <th>children</th>\n",
       "      <th>days_employed</th>\n",
       "      <th>dob_years</th>\n",
       "      <th>education</th>\n",
       "      <th>education_id</th>\n",
       "      <th>family_status</th>\n",
       "      <th>family_status_id</th>\n",
       "      <th>gender</th>\n",
       "      <th>income_type</th>\n",
       "      <th>debt</th>\n",
       "      <th>total_income</th>\n",
       "      <th>purpose</th>\n",
       "    </tr>\n",
       "  </thead>\n",
       "  <tbody>\n",
       "    <tr>\n",
       "      <th>10762</th>\n",
       "      <td>2</td>\n",
       "      <td>0.000000</td>\n",
       "      <td>31</td>\n",
       "      <td>среднее</td>\n",
       "      <td>1</td>\n",
       "      <td>женат / замужем</td>\n",
       "      <td>0</td>\n",
       "      <td>F</td>\n",
       "      <td>сотрудник</td>\n",
       "      <td>0</td>\n",
       "      <td>142594.396847</td>\n",
       "      <td>на покупку подержанного автомобиля</td>\n",
       "    </tr>\n",
       "    <tr>\n",
       "      <th>9479</th>\n",
       "      <td>0</td>\n",
       "      <td>0.000000</td>\n",
       "      <td>50</td>\n",
       "      <td>Высшее</td>\n",
       "      <td>0</td>\n",
       "      <td>женат / замужем</td>\n",
       "      <td>0</td>\n",
       "      <td>F</td>\n",
       "      <td>сотрудник</td>\n",
       "      <td>0</td>\n",
       "      <td>142594.396847</td>\n",
       "      <td>образование</td>\n",
       "    </tr>\n",
       "    <tr>\n",
       "      <th>2297</th>\n",
       "      <td>1</td>\n",
       "      <td>0.000000</td>\n",
       "      <td>29</td>\n",
       "      <td>высшее</td>\n",
       "      <td>0</td>\n",
       "      <td>женат / замужем</td>\n",
       "      <td>0</td>\n",
       "      <td>F</td>\n",
       "      <td>сотрудник</td>\n",
       "      <td>0</td>\n",
       "      <td>142594.396847</td>\n",
       "      <td>заняться высшим образованием</td>\n",
       "    </tr>\n",
       "    <tr>\n",
       "      <th>20450</th>\n",
       "      <td>0</td>\n",
       "      <td>0.000000</td>\n",
       "      <td>28</td>\n",
       "      <td>среднее</td>\n",
       "      <td>1</td>\n",
       "      <td>женат / замужем</td>\n",
       "      <td>0</td>\n",
       "      <td>M</td>\n",
       "      <td>сотрудник</td>\n",
       "      <td>0</td>\n",
       "      <td>142594.396847</td>\n",
       "      <td>образование</td>\n",
       "    </tr>\n",
       "    <tr>\n",
       "      <th>17163</th>\n",
       "      <td>0</td>\n",
       "      <td>0.000000</td>\n",
       "      <td>21</td>\n",
       "      <td>среднее</td>\n",
       "      <td>1</td>\n",
       "      <td>Не женат / не замужем</td>\n",
       "      <td>4</td>\n",
       "      <td>F</td>\n",
       "      <td>компаньон</td>\n",
       "      <td>1</td>\n",
       "      <td>172357.950966</td>\n",
       "      <td>на покупку подержанного автомобиля</td>\n",
       "    </tr>\n",
       "    <tr>\n",
       "      <th>...</th>\n",
       "      <td>...</td>\n",
       "      <td>...</td>\n",
       "      <td>...</td>\n",
       "      <td>...</td>\n",
       "      <td>...</td>\n",
       "      <td>...</td>\n",
       "      <td>...</td>\n",
       "      <td>...</td>\n",
       "      <td>...</td>\n",
       "      <td>...</td>\n",
       "      <td>...</td>\n",
       "      <td>...</td>\n",
       "    </tr>\n",
       "    <tr>\n",
       "      <th>16825</th>\n",
       "      <td>0</td>\n",
       "      <td>16119.687737</td>\n",
       "      <td>64</td>\n",
       "      <td>среднее</td>\n",
       "      <td>1</td>\n",
       "      <td>женат / замужем</td>\n",
       "      <td>0</td>\n",
       "      <td>F</td>\n",
       "      <td>сотрудник</td>\n",
       "      <td>0</td>\n",
       "      <td>91527.685995</td>\n",
       "      <td>покупка жилой недвижимости</td>\n",
       "    </tr>\n",
       "    <tr>\n",
       "      <th>17838</th>\n",
       "      <td>0</td>\n",
       "      <td>16264.699501</td>\n",
       "      <td>59</td>\n",
       "      <td>среднее</td>\n",
       "      <td>1</td>\n",
       "      <td>женат / замужем</td>\n",
       "      <td>0</td>\n",
       "      <td>F</td>\n",
       "      <td>сотрудник</td>\n",
       "      <td>0</td>\n",
       "      <td>51238.967133</td>\n",
       "      <td>на покупку автомобиля</td>\n",
       "    </tr>\n",
       "    <tr>\n",
       "      <th>7329</th>\n",
       "      <td>0</td>\n",
       "      <td>16593.472817</td>\n",
       "      <td>60</td>\n",
       "      <td>высшее</td>\n",
       "      <td>0</td>\n",
       "      <td>женат / замужем</td>\n",
       "      <td>0</td>\n",
       "      <td>F</td>\n",
       "      <td>сотрудник</td>\n",
       "      <td>0</td>\n",
       "      <td>124697.846781</td>\n",
       "      <td>заняться высшим образованием</td>\n",
       "    </tr>\n",
       "    <tr>\n",
       "      <th>4299</th>\n",
       "      <td>0</td>\n",
       "      <td>17615.563266</td>\n",
       "      <td>61</td>\n",
       "      <td>среднее</td>\n",
       "      <td>1</td>\n",
       "      <td>женат / замужем</td>\n",
       "      <td>0</td>\n",
       "      <td>F</td>\n",
       "      <td>компаньон</td>\n",
       "      <td>0</td>\n",
       "      <td>122560.741753</td>\n",
       "      <td>покупка жилья</td>\n",
       "    </tr>\n",
       "    <tr>\n",
       "      <th>16335</th>\n",
       "      <td>1</td>\n",
       "      <td>18388.949901</td>\n",
       "      <td>61</td>\n",
       "      <td>среднее</td>\n",
       "      <td>1</td>\n",
       "      <td>женат / замужем</td>\n",
       "      <td>0</td>\n",
       "      <td>F</td>\n",
       "      <td>сотрудник</td>\n",
       "      <td>0</td>\n",
       "      <td>186178.934089</td>\n",
       "      <td>операции с недвижимостью</td>\n",
       "    </tr>\n",
       "  </tbody>\n",
       "</table>\n",
       "<p>21525 rows × 12 columns</p>\n",
       "</div>"
      ],
      "text/plain": [
       "       children  days_employed  dob_years education  education_id  \\\n",
       "10762         2       0.000000         31   среднее             1   \n",
       "9479          0       0.000000         50    Высшее             0   \n",
       "2297          1       0.000000         29    высшее             0   \n",
       "20450         0       0.000000         28   среднее             1   \n",
       "17163         0       0.000000         21   среднее             1   \n",
       "...         ...            ...        ...       ...           ...   \n",
       "16825         0   16119.687737         64   среднее             1   \n",
       "17838         0   16264.699501         59   среднее             1   \n",
       "7329          0   16593.472817         60    высшее             0   \n",
       "4299          0   17615.563266         61   среднее             1   \n",
       "16335         1   18388.949901         61   среднее             1   \n",
       "\n",
       "               family_status  family_status_id gender income_type  debt  \\\n",
       "10762        женат / замужем                 0      F   сотрудник     0   \n",
       "9479         женат / замужем                 0      F   сотрудник     0   \n",
       "2297         женат / замужем                 0      F   сотрудник     0   \n",
       "20450        женат / замужем                 0      M   сотрудник     0   \n",
       "17163  Не женат / не замужем                 4      F   компаньон     1   \n",
       "...                      ...               ...    ...         ...   ...   \n",
       "16825        женат / замужем                 0      F   сотрудник     0   \n",
       "17838        женат / замужем                 0      F   сотрудник     0   \n",
       "7329         женат / замужем                 0      F   сотрудник     0   \n",
       "4299         женат / замужем                 0      F   компаньон     0   \n",
       "16335        женат / замужем                 0      F   сотрудник     0   \n",
       "\n",
       "        total_income                             purpose  \n",
       "10762  142594.396847  на покупку подержанного автомобиля  \n",
       "9479   142594.396847                         образование  \n",
       "2297   142594.396847        заняться высшим образованием  \n",
       "20450  142594.396847                         образование  \n",
       "17163  172357.950966  на покупку подержанного автомобиля  \n",
       "...              ...                                 ...  \n",
       "16825   91527.685995          покупка жилой недвижимости  \n",
       "17838   51238.967133               на покупку автомобиля  \n",
       "7329   124697.846781        заняться высшим образованием  \n",
       "4299   122560.741753                       покупка жилья  \n",
       "16335  186178.934089            операции с недвижимостью  \n",
       "\n",
       "[21525 rows x 12 columns]"
      ]
     },
     "execution_count": 13,
     "metadata": {},
     "output_type": "execute_result"
    }
   ],
   "source": [
    "credit_worthiness['days_employed'] = abs(credit_worthiness['days_employed'])\n",
    "credit_worthiness.sort_values('days_employed')"
   ]
  },
  {
   "cell_type": "markdown",
   "id": "0e9df341",
   "metadata": {},
   "source": [
    "<div style=\"border:solid green 2px; padding: 20px\">\n",
    "Найдем медиану по столбцу 'days_employed' без учета нулевых и аномальных значений. Заменим нулевые ячейки медианным значением."
   ]
  },
  {
   "cell_type": "code",
   "execution_count": 14,
   "id": "ba914e61",
   "metadata": {},
   "outputs": [],
   "source": [
    "not_null_days_employed = credit_worthiness.loc[(credit_worthiness['days_employed'] > 1)]\n",
    "median_days_employed = not_null_days_employed['days_employed'].median()\n",
    "credit_worthiness.loc[credit_worthiness['days_employed'] == 0, 'days_employed'] = median_days_employed"
   ]
  },
  {
   "cell_type": "code",
   "execution_count": 15,
   "id": "44374052",
   "metadata": {},
   "outputs": [
    {
     "data": {
      "text/plain": [
       "35    617\n",
       "40    609\n",
       "41    607\n",
       "34    603\n",
       "38    598\n",
       "42    597\n",
       "33    581\n",
       "39    573\n",
       "31    560\n",
       "36    555\n",
       "44    547\n",
       "29    545\n",
       "30    540\n",
       "48    538\n",
       "37    537\n",
       "50    514\n",
       "43    513\n",
       "32    510\n",
       "49    508\n",
       "28    503\n",
       "45    497\n",
       "27    493\n",
       "56    487\n",
       "52    484\n",
       "47    480\n",
       "54    479\n",
       "46    475\n",
       "58    461\n",
       "57    460\n",
       "53    459\n",
       "51    448\n",
       "59    444\n",
       "55    443\n",
       "26    408\n",
       "60    377\n",
       "25    357\n",
       "61    355\n",
       "62    352\n",
       "63    269\n",
       "64    265\n",
       "24    264\n",
       "23    254\n",
       "65    194\n",
       "22    183\n",
       "66    183\n",
       "67    167\n",
       "21    111\n",
       "0     101\n",
       "68     99\n",
       "69     85\n",
       "70     65\n",
       "71     58\n",
       "20     51\n",
       "72     33\n",
       "19     14\n",
       "73      8\n",
       "74      6\n",
       "75      1\n",
       "Name: dob_years, dtype: int64"
      ]
     },
     "execution_count": 15,
     "metadata": {},
     "output_type": "execute_result"
    }
   ],
   "source": [
    "credit_worthiness['dob_years'].value_counts()"
   ]
  },
  {
   "cell_type": "markdown",
   "id": "96ab433d",
   "metadata": {},
   "source": [
    "<div style=\"border:solid green 2px; padding: 20px\">\n",
    "То же самое сделаем с нулевыми значениями в столбце 'dob_years'."
   ]
  },
  {
   "cell_type": "code",
   "execution_count": 16,
   "id": "3a6b83bc",
   "metadata": {},
   "outputs": [],
   "source": [
    "not_null_age = credit_worthiness.loc[(credit_worthiness['dob_years'] != 0)]\n",
    "median_age = not_null_age['dob_years'].median()\n",
    "credit_worthiness.loc[credit_worthiness['dob_years'] == 0, 'dob_years'] = median_age"
   ]
  },
  {
   "cell_type": "markdown",
   "id": "e30ab00b",
   "metadata": {},
   "source": [
    "<div style=\"border:solid green 2px; padding: 20px\">\n",
    "Единственный оставшийся ноль в столбце 'total_income' заполним медианным значением по всему столбцу."
   ]
  },
  {
   "cell_type": "code",
   "execution_count": 17,
   "id": "3c90740e",
   "metadata": {},
   "outputs": [
    {
     "data": {
      "text/html": [
       "<div>\n",
       "<style scoped>\n",
       "    .dataframe tbody tr th:only-of-type {\n",
       "        vertical-align: middle;\n",
       "    }\n",
       "\n",
       "    .dataframe tbody tr th {\n",
       "        vertical-align: top;\n",
       "    }\n",
       "\n",
       "    .dataframe thead th {\n",
       "        text-align: right;\n",
       "    }\n",
       "</style>\n",
       "<table border=\"1\" class=\"dataframe\">\n",
       "  <thead>\n",
       "    <tr style=\"text-align: right;\">\n",
       "      <th></th>\n",
       "      <th>children</th>\n",
       "      <th>days_employed</th>\n",
       "      <th>dob_years</th>\n",
       "      <th>education</th>\n",
       "      <th>education_id</th>\n",
       "      <th>family_status</th>\n",
       "      <th>family_status_id</th>\n",
       "      <th>gender</th>\n",
       "      <th>income_type</th>\n",
       "      <th>debt</th>\n",
       "      <th>total_income</th>\n",
       "      <th>purpose</th>\n",
       "    </tr>\n",
       "  </thead>\n",
       "  <tbody>\n",
       "    <tr>\n",
       "      <th>5936</th>\n",
       "      <td>0</td>\n",
       "      <td>1630.019381</td>\n",
       "      <td>58</td>\n",
       "      <td>высшее</td>\n",
       "      <td>0</td>\n",
       "      <td>женат / замужем</td>\n",
       "      <td>0</td>\n",
       "      <td>M</td>\n",
       "      <td>предприниматель</td>\n",
       "      <td>0</td>\n",
       "      <td>0.0</td>\n",
       "      <td>покупка жилой недвижимости</td>\n",
       "    </tr>\n",
       "  </tbody>\n",
       "</table>\n",
       "</div>"
      ],
      "text/plain": [
       "      children  days_employed  dob_years education  education_id  \\\n",
       "5936         0    1630.019381         58    высшее             0   \n",
       "\n",
       "        family_status  family_status_id gender      income_type  debt  \\\n",
       "5936  женат / замужем                 0      M  предприниматель     0   \n",
       "\n",
       "      total_income                     purpose  \n",
       "5936           0.0  покупка жилой недвижимости  "
      ]
     },
     "execution_count": 17,
     "metadata": {},
     "output_type": "execute_result"
    }
   ],
   "source": [
    "credit_worthiness.loc[credit_worthiness['total_income'] == 0]"
   ]
  },
  {
   "cell_type": "code",
   "execution_count": 18,
   "id": "0348280b",
   "metadata": {},
   "outputs": [],
   "source": [
    "credit_worthiness.loc[5936, 'total_income'] = credit_worthiness['total_income'].median()"
   ]
  },
  {
   "cell_type": "markdown",
   "id": "7d5ffb59",
   "metadata": {},
   "source": [
    "### Проверка данных на аномалии и исправления."
   ]
  },
  {
   "cell_type": "markdown",
   "id": "103339ff",
   "metadata": {},
   "source": [
    "<div style=\"border:solid green 2px; padding: 20px\">\n",
    "В столбце 'children' также есть аномальные значения. Исправим их вручную: минус уберем, а 20 превратим в 2."
   ]
  },
  {
   "cell_type": "code",
   "execution_count": 19,
   "id": "adbf546e",
   "metadata": {},
   "outputs": [
    {
     "data": {
      "text/plain": [
       " 0     14149\n",
       " 1      4818\n",
       " 2      2055\n",
       " 3       330\n",
       " 20       76\n",
       "-1        47\n",
       " 4        41\n",
       " 5         9\n",
       "Name: children, dtype: int64"
      ]
     },
     "execution_count": 19,
     "metadata": {},
     "output_type": "execute_result"
    }
   ],
   "source": [
    "credit_worthiness['children'].value_counts()"
   ]
  },
  {
   "cell_type": "code",
   "execution_count": 20,
   "id": "dd8bf995",
   "metadata": {},
   "outputs": [
    {
     "data": {
      "text/plain": [
       "0    14149\n",
       "1     4865\n",
       "2     2131\n",
       "3      330\n",
       "4       41\n",
       "5        9\n",
       "Name: children, dtype: int64"
      ]
     },
     "execution_count": 20,
     "metadata": {},
     "output_type": "execute_result"
    }
   ],
   "source": [
    "credit_worthiness.loc[credit_worthiness['children'] == 20, 'children'] = 2\n",
    "credit_worthiness.loc[credit_worthiness['children'] == -1, 'children'] = 1\n",
    "credit_worthiness['children'].value_counts()"
   ]
  },
  {
   "cell_type": "markdown",
   "id": "59cf53b6",
   "metadata": {},
   "source": [
    "### Удаление дубликатов."
   ]
  },
  {
   "cell_type": "markdown",
   "id": "a148deb3",
   "metadata": {},
   "source": [
    "<div style=\"border:solid green 2px; padding: 20px\">\n",
    "В столбце education видим много неявных дубликатов. Приведем их к одному виду, записав в нижнем регистре."
   ]
  },
  {
   "cell_type": "code",
   "execution_count": 21,
   "id": "171f11e2",
   "metadata": {
    "scrolled": false
   },
   "outputs": [
    {
     "data": {
      "text/plain": [
       "среднее                13750\n",
       "высшее                  4718\n",
       "СРЕДНЕЕ                  772\n",
       "Среднее                  711\n",
       "неоконченное высшее      668\n",
       "ВЫСШЕЕ                   274\n",
       "Высшее                   268\n",
       "начальное                250\n",
       "Неоконченное высшее       47\n",
       "НЕОКОНЧЕННОЕ ВЫСШЕЕ       29\n",
       "НАЧАЛЬНОЕ                 17\n",
       "Начальное                 15\n",
       "ученая степень             4\n",
       "Ученая степень             1\n",
       "УЧЕНАЯ СТЕПЕНЬ             1\n",
       "Name: education, dtype: int64"
      ]
     },
     "execution_count": 21,
     "metadata": {},
     "output_type": "execute_result"
    }
   ],
   "source": [
    "credit_worthiness['education'].value_counts()"
   ]
  },
  {
   "cell_type": "code",
   "execution_count": 22,
   "id": "48dc4648",
   "metadata": {
    "scrolled": false
   },
   "outputs": [
    {
     "data": {
      "text/plain": [
       "среднее                15233\n",
       "высшее                  5260\n",
       "неоконченное высшее      744\n",
       "начальное                282\n",
       "ученая степень             6\n",
       "Name: education, dtype: int64"
      ]
     },
     "execution_count": 22,
     "metadata": {},
     "output_type": "execute_result"
    }
   ],
   "source": [
    "credit_worthiness['education'] = credit_worthiness['education'].str.lower()\n",
    "\n",
    "credit_worthiness['education'].value_counts()"
   ]
  },
  {
   "cell_type": "markdown",
   "id": "3b0d39f7",
   "metadata": {},
   "source": [
    "<div style=\"border:solid green 2px; padding: 20px\">\n",
    "В таблице 71 явный дубликат. Учитывая, что это всего 0,03% от общего числа записей, можно безболезненно удалить повторяющиеся строки"
   ]
  },
  {
   "cell_type": "code",
   "execution_count": 23,
   "id": "22893302",
   "metadata": {
    "scrolled": true
   },
   "outputs": [
    {
     "data": {
      "text/plain": [
       "children            71\n",
       "days_employed       71\n",
       "dob_years           71\n",
       "education           71\n",
       "education_id        71\n",
       "family_status       71\n",
       "family_status_id    71\n",
       "gender              71\n",
       "income_type         71\n",
       "debt                71\n",
       "total_income        71\n",
       "purpose             71\n",
       "dtype: int64"
      ]
     },
     "execution_count": 23,
     "metadata": {},
     "output_type": "execute_result"
    }
   ],
   "source": [
    "credit_worthiness[credit_worthiness.duplicated()].count()"
   ]
  },
  {
   "cell_type": "code",
   "execution_count": 24,
   "id": "0ad0d093",
   "metadata": {},
   "outputs": [],
   "source": [
    "credit_worthiness = credit_worthiness.drop_duplicates().reset_index(drop=True)"
   ]
  },
  {
   "cell_type": "markdown",
   "id": "b1c3c113",
   "metadata": {},
   "source": [
    "### Изменение типов данных."
   ]
  },
  {
   "cell_type": "markdown",
   "id": "b5f44325",
   "metadata": {},
   "source": [
    "<div style=\"border:solid green 2px; padding: 20px\">\n",
    "Значения в столбцах 'days_employed' и 'total_income' переведем из вещественных в целочисленные."
   ]
  },
  {
   "cell_type": "code",
   "execution_count": 25,
   "id": "a1367237",
   "metadata": {},
   "outputs": [
    {
     "data": {
      "text/html": [
       "<div>\n",
       "<style scoped>\n",
       "    .dataframe tbody tr th:only-of-type {\n",
       "        vertical-align: middle;\n",
       "    }\n",
       "\n",
       "    .dataframe tbody tr th {\n",
       "        vertical-align: top;\n",
       "    }\n",
       "\n",
       "    .dataframe thead th {\n",
       "        text-align: right;\n",
       "    }\n",
       "</style>\n",
       "<table border=\"1\" class=\"dataframe\">\n",
       "  <thead>\n",
       "    <tr style=\"text-align: right;\">\n",
       "      <th></th>\n",
       "      <th>children</th>\n",
       "      <th>days_employed</th>\n",
       "      <th>dob_years</th>\n",
       "      <th>education</th>\n",
       "      <th>education_id</th>\n",
       "      <th>family_status</th>\n",
       "      <th>family_status_id</th>\n",
       "      <th>gender</th>\n",
       "      <th>income_type</th>\n",
       "      <th>debt</th>\n",
       "      <th>total_income</th>\n",
       "      <th>purpose</th>\n",
       "    </tr>\n",
       "  </thead>\n",
       "  <tbody>\n",
       "    <tr>\n",
       "      <th>0</th>\n",
       "      <td>1</td>\n",
       "      <td>8437</td>\n",
       "      <td>42</td>\n",
       "      <td>высшее</td>\n",
       "      <td>0</td>\n",
       "      <td>женат / замужем</td>\n",
       "      <td>0</td>\n",
       "      <td>F</td>\n",
       "      <td>сотрудник</td>\n",
       "      <td>0</td>\n",
       "      <td>253875</td>\n",
       "      <td>покупка жилья</td>\n",
       "    </tr>\n",
       "    <tr>\n",
       "      <th>1</th>\n",
       "      <td>1</td>\n",
       "      <td>4024</td>\n",
       "      <td>36</td>\n",
       "      <td>среднее</td>\n",
       "      <td>1</td>\n",
       "      <td>женат / замужем</td>\n",
       "      <td>0</td>\n",
       "      <td>F</td>\n",
       "      <td>сотрудник</td>\n",
       "      <td>0</td>\n",
       "      <td>112080</td>\n",
       "      <td>приобретение автомобиля</td>\n",
       "    </tr>\n",
       "    <tr>\n",
       "      <th>2</th>\n",
       "      <td>0</td>\n",
       "      <td>5623</td>\n",
       "      <td>33</td>\n",
       "      <td>среднее</td>\n",
       "      <td>1</td>\n",
       "      <td>женат / замужем</td>\n",
       "      <td>0</td>\n",
       "      <td>M</td>\n",
       "      <td>сотрудник</td>\n",
       "      <td>0</td>\n",
       "      <td>145885</td>\n",
       "      <td>покупка жилья</td>\n",
       "    </tr>\n",
       "    <tr>\n",
       "      <th>3</th>\n",
       "      <td>3</td>\n",
       "      <td>4124</td>\n",
       "      <td>32</td>\n",
       "      <td>среднее</td>\n",
       "      <td>1</td>\n",
       "      <td>женат / замужем</td>\n",
       "      <td>0</td>\n",
       "      <td>M</td>\n",
       "      <td>сотрудник</td>\n",
       "      <td>0</td>\n",
       "      <td>267628</td>\n",
       "      <td>дополнительное образование</td>\n",
       "    </tr>\n",
       "    <tr>\n",
       "      <th>4</th>\n",
       "      <td>0</td>\n",
       "      <td>1</td>\n",
       "      <td>53</td>\n",
       "      <td>среднее</td>\n",
       "      <td>1</td>\n",
       "      <td>гражданский брак</td>\n",
       "      <td>1</td>\n",
       "      <td>F</td>\n",
       "      <td>пенсионер</td>\n",
       "      <td>0</td>\n",
       "      <td>158616</td>\n",
       "      <td>сыграть свадьбу</td>\n",
       "    </tr>\n",
       "    <tr>\n",
       "      <th>...</th>\n",
       "      <td>...</td>\n",
       "      <td>...</td>\n",
       "      <td>...</td>\n",
       "      <td>...</td>\n",
       "      <td>...</td>\n",
       "      <td>...</td>\n",
       "      <td>...</td>\n",
       "      <td>...</td>\n",
       "      <td>...</td>\n",
       "      <td>...</td>\n",
       "      <td>...</td>\n",
       "      <td>...</td>\n",
       "    </tr>\n",
       "    <tr>\n",
       "      <th>21449</th>\n",
       "      <td>1</td>\n",
       "      <td>4529</td>\n",
       "      <td>43</td>\n",
       "      <td>среднее</td>\n",
       "      <td>1</td>\n",
       "      <td>гражданский брак</td>\n",
       "      <td>1</td>\n",
       "      <td>F</td>\n",
       "      <td>компаньон</td>\n",
       "      <td>0</td>\n",
       "      <td>224791</td>\n",
       "      <td>операции с жильем</td>\n",
       "    </tr>\n",
       "    <tr>\n",
       "      <th>21450</th>\n",
       "      <td>0</td>\n",
       "      <td>1</td>\n",
       "      <td>67</td>\n",
       "      <td>среднее</td>\n",
       "      <td>1</td>\n",
       "      <td>женат / замужем</td>\n",
       "      <td>0</td>\n",
       "      <td>F</td>\n",
       "      <td>пенсионер</td>\n",
       "      <td>0</td>\n",
       "      <td>155999</td>\n",
       "      <td>сделка с автомобилем</td>\n",
       "    </tr>\n",
       "    <tr>\n",
       "      <th>21451</th>\n",
       "      <td>1</td>\n",
       "      <td>2113</td>\n",
       "      <td>38</td>\n",
       "      <td>среднее</td>\n",
       "      <td>1</td>\n",
       "      <td>гражданский брак</td>\n",
       "      <td>1</td>\n",
       "      <td>M</td>\n",
       "      <td>сотрудник</td>\n",
       "      <td>1</td>\n",
       "      <td>89672</td>\n",
       "      <td>недвижимость</td>\n",
       "    </tr>\n",
       "    <tr>\n",
       "      <th>21452</th>\n",
       "      <td>3</td>\n",
       "      <td>3112</td>\n",
       "      <td>38</td>\n",
       "      <td>среднее</td>\n",
       "      <td>1</td>\n",
       "      <td>женат / замужем</td>\n",
       "      <td>0</td>\n",
       "      <td>M</td>\n",
       "      <td>сотрудник</td>\n",
       "      <td>1</td>\n",
       "      <td>244093</td>\n",
       "      <td>на покупку своего автомобиля</td>\n",
       "    </tr>\n",
       "    <tr>\n",
       "      <th>21453</th>\n",
       "      <td>2</td>\n",
       "      <td>1984</td>\n",
       "      <td>40</td>\n",
       "      <td>среднее</td>\n",
       "      <td>1</td>\n",
       "      <td>женат / замужем</td>\n",
       "      <td>0</td>\n",
       "      <td>F</td>\n",
       "      <td>сотрудник</td>\n",
       "      <td>0</td>\n",
       "      <td>82047</td>\n",
       "      <td>на покупку автомобиля</td>\n",
       "    </tr>\n",
       "  </tbody>\n",
       "</table>\n",
       "<p>21454 rows × 12 columns</p>\n",
       "</div>"
      ],
      "text/plain": [
       "       children  days_employed  dob_years education  education_id  \\\n",
       "0             1           8437         42    высшее             0   \n",
       "1             1           4024         36   среднее             1   \n",
       "2             0           5623         33   среднее             1   \n",
       "3             3           4124         32   среднее             1   \n",
       "4             0              1         53   среднее             1   \n",
       "...         ...            ...        ...       ...           ...   \n",
       "21449         1           4529         43   среднее             1   \n",
       "21450         0              1         67   среднее             1   \n",
       "21451         1           2113         38   среднее             1   \n",
       "21452         3           3112         38   среднее             1   \n",
       "21453         2           1984         40   среднее             1   \n",
       "\n",
       "          family_status  family_status_id gender income_type  debt  \\\n",
       "0       женат / замужем                 0      F   сотрудник     0   \n",
       "1       женат / замужем                 0      F   сотрудник     0   \n",
       "2       женат / замужем                 0      M   сотрудник     0   \n",
       "3       женат / замужем                 0      M   сотрудник     0   \n",
       "4      гражданский брак                 1      F   пенсионер     0   \n",
       "...                 ...               ...    ...         ...   ...   \n",
       "21449  гражданский брак                 1      F   компаньон     0   \n",
       "21450   женат / замужем                 0      F   пенсионер     0   \n",
       "21451  гражданский брак                 1      M   сотрудник     1   \n",
       "21452   женат / замужем                 0      M   сотрудник     1   \n",
       "21453   женат / замужем                 0      F   сотрудник     0   \n",
       "\n",
       "       total_income                       purpose  \n",
       "0            253875                 покупка жилья  \n",
       "1            112080       приобретение автомобиля  \n",
       "2            145885                 покупка жилья  \n",
       "3            267628    дополнительное образование  \n",
       "4            158616               сыграть свадьбу  \n",
       "...             ...                           ...  \n",
       "21449        224791             операции с жильем  \n",
       "21450        155999          сделка с автомобилем  \n",
       "21451         89672                  недвижимость  \n",
       "21452        244093  на покупку своего автомобиля  \n",
       "21453         82047         на покупку автомобиля  \n",
       "\n",
       "[21454 rows x 12 columns]"
      ]
     },
     "execution_count": 25,
     "metadata": {},
     "output_type": "execute_result"
    }
   ],
   "source": [
    "credit_worthiness['total_income'] = credit_worthiness['total_income'].astype('int')\n",
    "credit_worthiness['days_employed'] = credit_worthiness['days_employed'].astype('int')\n",
    "credit_worthiness['dob_years'] = credit_worthiness['dob_years'].astype('int')\n",
    "credit_worthiness"
   ]
  },
  {
   "cell_type": "markdown",
   "id": "c5ae3d40",
   "metadata": {},
   "source": [
    "<div style=\"border:solid green 2px; padding: 20px\">\n",
    "С помощью небольшого цикла преобразуем все столбцы с типом данных 'object' в тип 'category', что даст значительную экономию памяти."
   ]
  },
  {
   "cell_type": "code",
   "execution_count": 26,
   "id": "66c4d1ae",
   "metadata": {},
   "outputs": [
    {
     "name": "stdout",
     "output_type": "stream",
     "text": [
      "<class 'pandas.core.frame.DataFrame'>\n",
      "RangeIndex: 21454 entries, 0 to 21453\n",
      "Data columns (total 12 columns):\n",
      " #   Column            Non-Null Count  Dtype   \n",
      "---  ------            --------------  -----   \n",
      " 0   children          21454 non-null  int64   \n",
      " 1   days_employed     21454 non-null  int32   \n",
      " 2   dob_years         21454 non-null  int32   \n",
      " 3   education         21454 non-null  category\n",
      " 4   education_id      21454 non-null  int64   \n",
      " 5   family_status     21454 non-null  category\n",
      " 6   family_status_id  21454 non-null  int64   \n",
      " 7   gender            21454 non-null  category\n",
      " 8   income_type       21454 non-null  category\n",
      " 9   debt              21454 non-null  int64   \n",
      " 10  total_income      21454 non-null  int32   \n",
      " 11  purpose           21454 non-null  category\n",
      "dtypes: category(5), int32(3), int64(4)\n",
      "memory usage: 1.0 MB\n"
     ]
    }
   ],
   "source": [
    "for column in ['education', 'family_status', 'gender', 'income_type', 'purpose']:\n",
    "    credit_worthiness[column] = credit_worthiness[column].astype('category')\n",
    "\n",
    "credit_worthiness.info(memory_usage='deep')"
   ]
  },
  {
   "cell_type": "markdown",
   "id": "b079938d",
   "metadata": {},
   "source": [
    "### Формирование дополнительных датафреймов словарей, декомпозиция исходного датафрейма."
   ]
  },
  {
   "cell_type": "markdown",
   "id": "88d1a336",
   "metadata": {},
   "source": [
    "<div style=\"border:solid green 2px; padding: 20px\">\n",
    "Выделим из основного датафрейма два новых, а затем удалим из него избыточные столбцы."
   ]
  },
  {
   "cell_type": "code",
   "execution_count": 27,
   "id": "ae9b61a3",
   "metadata": {
    "scrolled": true
   },
   "outputs": [
    {
     "data": {
      "text/html": [
       "<div>\n",
       "<style scoped>\n",
       "    .dataframe tbody tr th:only-of-type {\n",
       "        vertical-align: middle;\n",
       "    }\n",
       "\n",
       "    .dataframe tbody tr th {\n",
       "        vertical-align: top;\n",
       "    }\n",
       "\n",
       "    .dataframe thead th {\n",
       "        text-align: right;\n",
       "    }\n",
       "</style>\n",
       "<table border=\"1\" class=\"dataframe\">\n",
       "  <thead>\n",
       "    <tr style=\"text-align: right;\">\n",
       "      <th></th>\n",
       "      <th>education</th>\n",
       "      <th>education_id</th>\n",
       "    </tr>\n",
       "  </thead>\n",
       "  <tbody>\n",
       "    <tr>\n",
       "      <th>0</th>\n",
       "      <td>высшее</td>\n",
       "      <td>0</td>\n",
       "    </tr>\n",
       "    <tr>\n",
       "      <th>1</th>\n",
       "      <td>среднее</td>\n",
       "      <td>1</td>\n",
       "    </tr>\n",
       "    <tr>\n",
       "      <th>2</th>\n",
       "      <td>неоконченное высшее</td>\n",
       "      <td>2</td>\n",
       "    </tr>\n",
       "    <tr>\n",
       "      <th>3</th>\n",
       "      <td>начальное</td>\n",
       "      <td>3</td>\n",
       "    </tr>\n",
       "    <tr>\n",
       "      <th>4</th>\n",
       "      <td>ученая степень</td>\n",
       "      <td>4</td>\n",
       "    </tr>\n",
       "  </tbody>\n",
       "</table>\n",
       "</div>"
      ],
      "text/plain": [
       "             education  education_id\n",
       "0               высшее             0\n",
       "1              среднее             1\n",
       "2  неоконченное высшее             2\n",
       "3            начальное             3\n",
       "4       ученая степень             4"
      ]
     },
     "metadata": {},
     "output_type": "display_data"
    },
    {
     "data": {
      "text/html": [
       "<div>\n",
       "<style scoped>\n",
       "    .dataframe tbody tr th:only-of-type {\n",
       "        vertical-align: middle;\n",
       "    }\n",
       "\n",
       "    .dataframe tbody tr th {\n",
       "        vertical-align: top;\n",
       "    }\n",
       "\n",
       "    .dataframe thead th {\n",
       "        text-align: right;\n",
       "    }\n",
       "</style>\n",
       "<table border=\"1\" class=\"dataframe\">\n",
       "  <thead>\n",
       "    <tr style=\"text-align: right;\">\n",
       "      <th></th>\n",
       "      <th>family_status</th>\n",
       "      <th>family_status_id</th>\n",
       "    </tr>\n",
       "  </thead>\n",
       "  <tbody>\n",
       "    <tr>\n",
       "      <th>0</th>\n",
       "      <td>женат / замужем</td>\n",
       "      <td>0</td>\n",
       "    </tr>\n",
       "    <tr>\n",
       "      <th>1</th>\n",
       "      <td>гражданский брак</td>\n",
       "      <td>1</td>\n",
       "    </tr>\n",
       "    <tr>\n",
       "      <th>2</th>\n",
       "      <td>вдовец / вдова</td>\n",
       "      <td>2</td>\n",
       "    </tr>\n",
       "    <tr>\n",
       "      <th>3</th>\n",
       "      <td>в разводе</td>\n",
       "      <td>3</td>\n",
       "    </tr>\n",
       "    <tr>\n",
       "      <th>4</th>\n",
       "      <td>Не женат / не замужем</td>\n",
       "      <td>4</td>\n",
       "    </tr>\n",
       "  </tbody>\n",
       "</table>\n",
       "</div>"
      ],
      "text/plain": [
       "           family_status  family_status_id\n",
       "0        женат / замужем                 0\n",
       "1       гражданский брак                 1\n",
       "2         вдовец / вдова                 2\n",
       "3              в разводе                 3\n",
       "4  Не женат / не замужем                 4"
      ]
     },
     "execution_count": 27,
     "metadata": {},
     "output_type": "execute_result"
    }
   ],
   "source": [
    "education_dict = credit_worthiness[['education', 'education_id']]\n",
    "education_dict = education_dict.drop_duplicates().reset_index(drop=True)\n",
    "family_status_dict = credit_worthiness[['family_status', 'family_status_id']]\n",
    "family_status_dict = family_status_dict.drop_duplicates().reset_index(drop=True)\n",
    "display(education_dict)\n",
    "family_status_dict"
   ]
  },
  {
   "cell_type": "code",
   "execution_count": 28,
   "id": "9faee56f",
   "metadata": {},
   "outputs": [
    {
     "data": {
      "text/html": [
       "<div>\n",
       "<style scoped>\n",
       "    .dataframe tbody tr th:only-of-type {\n",
       "        vertical-align: middle;\n",
       "    }\n",
       "\n",
       "    .dataframe tbody tr th {\n",
       "        vertical-align: top;\n",
       "    }\n",
       "\n",
       "    .dataframe thead th {\n",
       "        text-align: right;\n",
       "    }\n",
       "</style>\n",
       "<table border=\"1\" class=\"dataframe\">\n",
       "  <thead>\n",
       "    <tr style=\"text-align: right;\">\n",
       "      <th></th>\n",
       "      <th>children</th>\n",
       "      <th>days_employed</th>\n",
       "      <th>dob_years</th>\n",
       "      <th>education_id</th>\n",
       "      <th>family_status_id</th>\n",
       "      <th>gender</th>\n",
       "      <th>income_type</th>\n",
       "      <th>debt</th>\n",
       "      <th>total_income</th>\n",
       "      <th>purpose</th>\n",
       "    </tr>\n",
       "  </thead>\n",
       "  <tbody>\n",
       "    <tr>\n",
       "      <th>0</th>\n",
       "      <td>1</td>\n",
       "      <td>8437</td>\n",
       "      <td>42</td>\n",
       "      <td>0</td>\n",
       "      <td>0</td>\n",
       "      <td>F</td>\n",
       "      <td>сотрудник</td>\n",
       "      <td>0</td>\n",
       "      <td>253875</td>\n",
       "      <td>покупка жилья</td>\n",
       "    </tr>\n",
       "    <tr>\n",
       "      <th>1</th>\n",
       "      <td>1</td>\n",
       "      <td>4024</td>\n",
       "      <td>36</td>\n",
       "      <td>1</td>\n",
       "      <td>0</td>\n",
       "      <td>F</td>\n",
       "      <td>сотрудник</td>\n",
       "      <td>0</td>\n",
       "      <td>112080</td>\n",
       "      <td>приобретение автомобиля</td>\n",
       "    </tr>\n",
       "    <tr>\n",
       "      <th>2</th>\n",
       "      <td>0</td>\n",
       "      <td>5623</td>\n",
       "      <td>33</td>\n",
       "      <td>1</td>\n",
       "      <td>0</td>\n",
       "      <td>M</td>\n",
       "      <td>сотрудник</td>\n",
       "      <td>0</td>\n",
       "      <td>145885</td>\n",
       "      <td>покупка жилья</td>\n",
       "    </tr>\n",
       "    <tr>\n",
       "      <th>3</th>\n",
       "      <td>3</td>\n",
       "      <td>4124</td>\n",
       "      <td>32</td>\n",
       "      <td>1</td>\n",
       "      <td>0</td>\n",
       "      <td>M</td>\n",
       "      <td>сотрудник</td>\n",
       "      <td>0</td>\n",
       "      <td>267628</td>\n",
       "      <td>дополнительное образование</td>\n",
       "    </tr>\n",
       "    <tr>\n",
       "      <th>4</th>\n",
       "      <td>0</td>\n",
       "      <td>1</td>\n",
       "      <td>53</td>\n",
       "      <td>1</td>\n",
       "      <td>1</td>\n",
       "      <td>F</td>\n",
       "      <td>пенсионер</td>\n",
       "      <td>0</td>\n",
       "      <td>158616</td>\n",
       "      <td>сыграть свадьбу</td>\n",
       "    </tr>\n",
       "    <tr>\n",
       "      <th>...</th>\n",
       "      <td>...</td>\n",
       "      <td>...</td>\n",
       "      <td>...</td>\n",
       "      <td>...</td>\n",
       "      <td>...</td>\n",
       "      <td>...</td>\n",
       "      <td>...</td>\n",
       "      <td>...</td>\n",
       "      <td>...</td>\n",
       "      <td>...</td>\n",
       "    </tr>\n",
       "    <tr>\n",
       "      <th>21449</th>\n",
       "      <td>1</td>\n",
       "      <td>4529</td>\n",
       "      <td>43</td>\n",
       "      <td>1</td>\n",
       "      <td>1</td>\n",
       "      <td>F</td>\n",
       "      <td>компаньон</td>\n",
       "      <td>0</td>\n",
       "      <td>224791</td>\n",
       "      <td>операции с жильем</td>\n",
       "    </tr>\n",
       "    <tr>\n",
       "      <th>21450</th>\n",
       "      <td>0</td>\n",
       "      <td>1</td>\n",
       "      <td>67</td>\n",
       "      <td>1</td>\n",
       "      <td>0</td>\n",
       "      <td>F</td>\n",
       "      <td>пенсионер</td>\n",
       "      <td>0</td>\n",
       "      <td>155999</td>\n",
       "      <td>сделка с автомобилем</td>\n",
       "    </tr>\n",
       "    <tr>\n",
       "      <th>21451</th>\n",
       "      <td>1</td>\n",
       "      <td>2113</td>\n",
       "      <td>38</td>\n",
       "      <td>1</td>\n",
       "      <td>1</td>\n",
       "      <td>M</td>\n",
       "      <td>сотрудник</td>\n",
       "      <td>1</td>\n",
       "      <td>89672</td>\n",
       "      <td>недвижимость</td>\n",
       "    </tr>\n",
       "    <tr>\n",
       "      <th>21452</th>\n",
       "      <td>3</td>\n",
       "      <td>3112</td>\n",
       "      <td>38</td>\n",
       "      <td>1</td>\n",
       "      <td>0</td>\n",
       "      <td>M</td>\n",
       "      <td>сотрудник</td>\n",
       "      <td>1</td>\n",
       "      <td>244093</td>\n",
       "      <td>на покупку своего автомобиля</td>\n",
       "    </tr>\n",
       "    <tr>\n",
       "      <th>21453</th>\n",
       "      <td>2</td>\n",
       "      <td>1984</td>\n",
       "      <td>40</td>\n",
       "      <td>1</td>\n",
       "      <td>0</td>\n",
       "      <td>F</td>\n",
       "      <td>сотрудник</td>\n",
       "      <td>0</td>\n",
       "      <td>82047</td>\n",
       "      <td>на покупку автомобиля</td>\n",
       "    </tr>\n",
       "  </tbody>\n",
       "</table>\n",
       "<p>21454 rows × 10 columns</p>\n",
       "</div>"
      ],
      "text/plain": [
       "       children  days_employed  dob_years  education_id  family_status_id  \\\n",
       "0             1           8437         42             0                 0   \n",
       "1             1           4024         36             1                 0   \n",
       "2             0           5623         33             1                 0   \n",
       "3             3           4124         32             1                 0   \n",
       "4             0              1         53             1                 1   \n",
       "...         ...            ...        ...           ...               ...   \n",
       "21449         1           4529         43             1                 1   \n",
       "21450         0              1         67             1                 0   \n",
       "21451         1           2113         38             1                 1   \n",
       "21452         3           3112         38             1                 0   \n",
       "21453         2           1984         40             1                 0   \n",
       "\n",
       "      gender income_type  debt  total_income                       purpose  \n",
       "0          F   сотрудник     0        253875                 покупка жилья  \n",
       "1          F   сотрудник     0        112080       приобретение автомобиля  \n",
       "2          M   сотрудник     0        145885                 покупка жилья  \n",
       "3          M   сотрудник     0        267628    дополнительное образование  \n",
       "4          F   пенсионер     0        158616               сыграть свадьбу  \n",
       "...      ...         ...   ...           ...                           ...  \n",
       "21449      F   компаньон     0        224791             операции с жильем  \n",
       "21450      F   пенсионер     0        155999          сделка с автомобилем  \n",
       "21451      M   сотрудник     1         89672                  недвижимость  \n",
       "21452      M   сотрудник     1        244093  на покупку своего автомобиля  \n",
       "21453      F   сотрудник     0         82047         на покупку автомобиля  \n",
       "\n",
       "[21454 rows x 10 columns]"
      ]
     },
     "execution_count": 28,
     "metadata": {},
     "output_type": "execute_result"
    }
   ],
   "source": [
    "del credit_worthiness['family_status']\n",
    "del credit_worthiness['education']\n",
    "credit_worthiness"
   ]
  },
  {
   "cell_type": "markdown",
   "id": "62a3690f",
   "metadata": {},
   "source": [
    "### Категоризация дохода."
   ]
  },
  {
   "cell_type": "markdown",
   "id": "8683a943",
   "metadata": {},
   "source": [
    "<div style=\"border:solid green 2px; padding: 20px\">\n",
    "Создаем функцию для категоризации заемщиков по доходу."
   ]
  },
  {
   "cell_type": "code",
   "execution_count": 29,
   "id": "7203c375",
   "metadata": {
    "scrolled": false
   },
   "outputs": [
    {
     "data": {
      "text/html": [
       "<div>\n",
       "<style scoped>\n",
       "    .dataframe tbody tr th:only-of-type {\n",
       "        vertical-align: middle;\n",
       "    }\n",
       "\n",
       "    .dataframe tbody tr th {\n",
       "        vertical-align: top;\n",
       "    }\n",
       "\n",
       "    .dataframe thead th {\n",
       "        text-align: right;\n",
       "    }\n",
       "</style>\n",
       "<table border=\"1\" class=\"dataframe\">\n",
       "  <thead>\n",
       "    <tr style=\"text-align: right;\">\n",
       "      <th></th>\n",
       "      <th>children</th>\n",
       "      <th>days_employed</th>\n",
       "      <th>dob_years</th>\n",
       "      <th>education_id</th>\n",
       "      <th>family_status_id</th>\n",
       "      <th>gender</th>\n",
       "      <th>income_type</th>\n",
       "      <th>debt</th>\n",
       "      <th>total_income</th>\n",
       "      <th>purpose</th>\n",
       "      <th>total_income_category</th>\n",
       "    </tr>\n",
       "  </thead>\n",
       "  <tbody>\n",
       "    <tr>\n",
       "      <th>7441</th>\n",
       "      <td>0</td>\n",
       "      <td>8626</td>\n",
       "      <td>39</td>\n",
       "      <td>1</td>\n",
       "      <td>3</td>\n",
       "      <td>F</td>\n",
       "      <td>сотрудник</td>\n",
       "      <td>0</td>\n",
       "      <td>1240165</td>\n",
       "      <td>покупка недвижимости</td>\n",
       "      <td>A</td>\n",
       "    </tr>\n",
       "    <tr>\n",
       "      <th>15015</th>\n",
       "      <td>2</td>\n",
       "      <td>1654</td>\n",
       "      <td>39</td>\n",
       "      <td>0</td>\n",
       "      <td>0</td>\n",
       "      <td>M</td>\n",
       "      <td>сотрудник</td>\n",
       "      <td>0</td>\n",
       "      <td>1058193</td>\n",
       "      <td>получение образования</td>\n",
       "      <td>A</td>\n",
       "    </tr>\n",
       "    <tr>\n",
       "      <th>12390</th>\n",
       "      <td>0</td>\n",
       "      <td>1477</td>\n",
       "      <td>44</td>\n",
       "      <td>0</td>\n",
       "      <td>0</td>\n",
       "      <td>M</td>\n",
       "      <td>компаньон</td>\n",
       "      <td>0</td>\n",
       "      <td>2265604</td>\n",
       "      <td>ремонт жилью</td>\n",
       "      <td>A</td>\n",
       "    </tr>\n",
       "    <tr>\n",
       "      <th>9856</th>\n",
       "      <td>2</td>\n",
       "      <td>3092</td>\n",
       "      <td>56</td>\n",
       "      <td>0</td>\n",
       "      <td>0</td>\n",
       "      <td>M</td>\n",
       "      <td>сотрудник</td>\n",
       "      <td>0</td>\n",
       "      <td>1103455</td>\n",
       "      <td>покупка жилья для семьи</td>\n",
       "      <td>A</td>\n",
       "    </tr>\n",
       "    <tr>\n",
       "      <th>11052</th>\n",
       "      <td>1</td>\n",
       "      <td>1851</td>\n",
       "      <td>36</td>\n",
       "      <td>0</td>\n",
       "      <td>1</td>\n",
       "      <td>F</td>\n",
       "      <td>сотрудник</td>\n",
       "      <td>0</td>\n",
       "      <td>1286280</td>\n",
       "      <td>покупка коммерческой недвижимости</td>\n",
       "      <td>A</td>\n",
       "    </tr>\n",
       "    <tr>\n",
       "      <th>...</th>\n",
       "      <td>...</td>\n",
       "      <td>...</td>\n",
       "      <td>...</td>\n",
       "      <td>...</td>\n",
       "      <td>...</td>\n",
       "      <td>...</td>\n",
       "      <td>...</td>\n",
       "      <td>...</td>\n",
       "      <td>...</td>\n",
       "      <td>...</td>\n",
       "      <td>...</td>\n",
       "    </tr>\n",
       "    <tr>\n",
       "      <th>14555</th>\n",
       "      <td>0</td>\n",
       "      <td>1</td>\n",
       "      <td>57</td>\n",
       "      <td>1</td>\n",
       "      <td>0</td>\n",
       "      <td>F</td>\n",
       "      <td>пенсионер</td>\n",
       "      <td>1</td>\n",
       "      <td>20667</td>\n",
       "      <td>недвижимость</td>\n",
       "      <td>E</td>\n",
       "    </tr>\n",
       "    <tr>\n",
       "      <th>16558</th>\n",
       "      <td>0</td>\n",
       "      <td>241</td>\n",
       "      <td>49</td>\n",
       "      <td>1</td>\n",
       "      <td>1</td>\n",
       "      <td>F</td>\n",
       "      <td>компаньон</td>\n",
       "      <td>0</td>\n",
       "      <td>28702</td>\n",
       "      <td>сыграть свадьбу</td>\n",
       "      <td>E</td>\n",
       "    </tr>\n",
       "    <tr>\n",
       "      <th>16138</th>\n",
       "      <td>1</td>\n",
       "      <td>3642</td>\n",
       "      <td>52</td>\n",
       "      <td>1</td>\n",
       "      <td>0</td>\n",
       "      <td>M</td>\n",
       "      <td>сотрудник</td>\n",
       "      <td>0</td>\n",
       "      <td>21367</td>\n",
       "      <td>приобретение автомобиля</td>\n",
       "      <td>E</td>\n",
       "    </tr>\n",
       "    <tr>\n",
       "      <th>14889</th>\n",
       "      <td>2</td>\n",
       "      <td>1440</td>\n",
       "      <td>28</td>\n",
       "      <td>1</td>\n",
       "      <td>1</td>\n",
       "      <td>F</td>\n",
       "      <td>сотрудник</td>\n",
       "      <td>0</td>\n",
       "      <td>28092</td>\n",
       "      <td>на проведение свадьбы</td>\n",
       "      <td>E</td>\n",
       "    </tr>\n",
       "    <tr>\n",
       "      <th>18619</th>\n",
       "      <td>1</td>\n",
       "      <td>1953</td>\n",
       "      <td>50</td>\n",
       "      <td>1</td>\n",
       "      <td>0</td>\n",
       "      <td>F</td>\n",
       "      <td>госслужащий</td>\n",
       "      <td>0</td>\n",
       "      <td>29200</td>\n",
       "      <td>автомобили</td>\n",
       "      <td>E</td>\n",
       "    </tr>\n",
       "  </tbody>\n",
       "</table>\n",
       "<p>21454 rows × 11 columns</p>\n",
       "</div>"
      ],
      "text/plain": [
       "       children  days_employed  dob_years  education_id  family_status_id  \\\n",
       "7441          0           8626         39             1                 3   \n",
       "15015         2           1654         39             0                 0   \n",
       "12390         0           1477         44             0                 0   \n",
       "9856          2           3092         56             0                 0   \n",
       "11052         1           1851         36             0                 1   \n",
       "...         ...            ...        ...           ...               ...   \n",
       "14555         0              1         57             1                 0   \n",
       "16558         0            241         49             1                 1   \n",
       "16138         1           3642         52             1                 0   \n",
       "14889         2           1440         28             1                 1   \n",
       "18619         1           1953         50             1                 0   \n",
       "\n",
       "      gender  income_type  debt  total_income  \\\n",
       "7441       F    сотрудник     0       1240165   \n",
       "15015      M    сотрудник     0       1058193   \n",
       "12390      M    компаньон     0       2265604   \n",
       "9856       M    сотрудник     0       1103455   \n",
       "11052      F    сотрудник     0       1286280   \n",
       "...      ...          ...   ...           ...   \n",
       "14555      F    пенсионер     1         20667   \n",
       "16558      F    компаньон     0         28702   \n",
       "16138      M    сотрудник     0         21367   \n",
       "14889      F    сотрудник     0         28092   \n",
       "18619      F  госслужащий     0         29200   \n",
       "\n",
       "                                 purpose total_income_category  \n",
       "7441                покупка недвижимости                     A  \n",
       "15015              получение образования                     A  \n",
       "12390                       ремонт жилью                     A  \n",
       "9856             покупка жилья для семьи                     A  \n",
       "11052  покупка коммерческой недвижимости                     A  \n",
       "...                                  ...                   ...  \n",
       "14555                       недвижимость                     E  \n",
       "16558                    сыграть свадьбу                     E  \n",
       "16138            приобретение автомобиля                     E  \n",
       "14889              на проведение свадьбы                     E  \n",
       "18619                         автомобили                     E  \n",
       "\n",
       "[21454 rows x 11 columns]"
      ]
     },
     "execution_count": 29,
     "metadata": {},
     "output_type": "execute_result"
    }
   ],
   "source": [
    "def total_income_category(income):\n",
    "    if income <= 30000:\n",
    "        return 'E'\n",
    "    if income <= 50000:\n",
    "        return 'D'\n",
    "    if income <= 200000:\n",
    "        return 'C'\n",
    "    if income <= 1000000:\n",
    "        return 'B'\n",
    "    return 'A'\n",
    "\n",
    "credit_worthiness['total_income_category'] = credit_worthiness['total_income'].apply(total_income_category)\n",
    "credit_worthiness.sort_values(by='total_income_category')"
   ]
  },
  {
   "cell_type": "markdown",
   "id": "8c3c33ba",
   "metadata": {},
   "source": [
    "### Шаг 2.7. Категоризация целей кредита."
   ]
  },
  {
   "cell_type": "markdown",
   "id": "19401e86",
   "metadata": {},
   "source": [
    "<div style=\"border:solid green 2px; padding: 20px\">\n",
    "Изучив список уникальных значений в столбце 'purpose', составляем список ключевых корней, с которыми будет работать функция."
   ]
  },
  {
   "cell_type": "code",
   "execution_count": 30,
   "id": "f119f0e6",
   "metadata": {
    "scrolled": false
   },
   "outputs": [
    {
     "data": {
      "text/plain": [
       "свадьба                                   791\n",
       "на проведение свадьбы                     768\n",
       "сыграть свадьбу                           765\n",
       "операции с недвижимостью                  675\n",
       "покупка коммерческой недвижимости         661\n",
       "операции с жильем                         652\n",
       "покупка жилья для сдачи                   651\n",
       "операции с коммерческой недвижимостью     650\n",
       "жилье                                     646\n",
       "покупка жилья                             646\n",
       "покупка жилья для семьи                   638\n",
       "строительство собственной недвижимости    635\n",
       "недвижимость                              633\n",
       "операции со своей недвижимостью           627\n",
       "строительство жилой недвижимости          624\n",
       "покупка недвижимости                      621\n",
       "покупка своего жилья                      620\n",
       "строительство недвижимости                619\n",
       "ремонт жилью                              607\n",
       "покупка жилой недвижимости                606\n",
       "на покупку своего автомобиля              505\n",
       "заняться высшим образованием              496\n",
       "автомобиль                                494\n",
       "сделка с подержанным автомобилем          486\n",
       "свой автомобиль                           478\n",
       "автомобили                                478\n",
       "на покупку подержанного автомобиля        478\n",
       "на покупку автомобиля                     471\n",
       "приобретение автомобиля                   461\n",
       "дополнительное образование                460\n",
       "сделка с автомобилем                      455\n",
       "высшее образование                        452\n",
       "образование                               447\n",
       "получение дополнительного образования     446\n",
       "получение образования                     442\n",
       "профильное образование                    436\n",
       "получение высшего образования             426\n",
       "заняться образованием                     408\n",
       "Name: purpose, dtype: int64"
      ]
     },
     "execution_count": 30,
     "metadata": {},
     "output_type": "execute_result"
    }
   ],
   "source": [
    "credit_worthiness['purpose'].value_counts()"
   ]
  },
  {
   "cell_type": "markdown",
   "id": "7e5ec00c",
   "metadata": {},
   "source": [
    "<div style=\"border:solid green 2px; padding: 20px\">\n",
    "Создаем функцию для категоризации целей займа."
   ]
  },
  {
   "cell_type": "code",
   "execution_count": 31,
   "id": "1fe89b81",
   "metadata": {},
   "outputs": [
    {
     "data": {
      "text/html": [
       "<div>\n",
       "<style scoped>\n",
       "    .dataframe tbody tr th:only-of-type {\n",
       "        vertical-align: middle;\n",
       "    }\n",
       "\n",
       "    .dataframe tbody tr th {\n",
       "        vertical-align: top;\n",
       "    }\n",
       "\n",
       "    .dataframe thead th {\n",
       "        text-align: right;\n",
       "    }\n",
       "</style>\n",
       "<table border=\"1\" class=\"dataframe\">\n",
       "  <thead>\n",
       "    <tr style=\"text-align: right;\">\n",
       "      <th></th>\n",
       "      <th>children</th>\n",
       "      <th>days_employed</th>\n",
       "      <th>dob_years</th>\n",
       "      <th>education_id</th>\n",
       "      <th>family_status_id</th>\n",
       "      <th>gender</th>\n",
       "      <th>income_type</th>\n",
       "      <th>debt</th>\n",
       "      <th>total_income</th>\n",
       "      <th>purpose</th>\n",
       "      <th>total_income_category</th>\n",
       "      <th>purpose_category</th>\n",
       "    </tr>\n",
       "  </thead>\n",
       "  <tbody>\n",
       "    <tr>\n",
       "      <th>0</th>\n",
       "      <td>1</td>\n",
       "      <td>8437</td>\n",
       "      <td>42</td>\n",
       "      <td>0</td>\n",
       "      <td>0</td>\n",
       "      <td>F</td>\n",
       "      <td>сотрудник</td>\n",
       "      <td>0</td>\n",
       "      <td>253875</td>\n",
       "      <td>покупка жилья</td>\n",
       "      <td>B</td>\n",
       "      <td>операции с недвижимостью</td>\n",
       "    </tr>\n",
       "    <tr>\n",
       "      <th>1</th>\n",
       "      <td>1</td>\n",
       "      <td>4024</td>\n",
       "      <td>36</td>\n",
       "      <td>1</td>\n",
       "      <td>0</td>\n",
       "      <td>F</td>\n",
       "      <td>сотрудник</td>\n",
       "      <td>0</td>\n",
       "      <td>112080</td>\n",
       "      <td>приобретение автомобиля</td>\n",
       "      <td>C</td>\n",
       "      <td>операции с автомобилем</td>\n",
       "    </tr>\n",
       "    <tr>\n",
       "      <th>2</th>\n",
       "      <td>0</td>\n",
       "      <td>5623</td>\n",
       "      <td>33</td>\n",
       "      <td>1</td>\n",
       "      <td>0</td>\n",
       "      <td>M</td>\n",
       "      <td>сотрудник</td>\n",
       "      <td>0</td>\n",
       "      <td>145885</td>\n",
       "      <td>покупка жилья</td>\n",
       "      <td>C</td>\n",
       "      <td>операции с недвижимостью</td>\n",
       "    </tr>\n",
       "    <tr>\n",
       "      <th>3</th>\n",
       "      <td>3</td>\n",
       "      <td>4124</td>\n",
       "      <td>32</td>\n",
       "      <td>1</td>\n",
       "      <td>0</td>\n",
       "      <td>M</td>\n",
       "      <td>сотрудник</td>\n",
       "      <td>0</td>\n",
       "      <td>267628</td>\n",
       "      <td>дополнительное образование</td>\n",
       "      <td>B</td>\n",
       "      <td>получение образования</td>\n",
       "    </tr>\n",
       "    <tr>\n",
       "      <th>4</th>\n",
       "      <td>0</td>\n",
       "      <td>1</td>\n",
       "      <td>53</td>\n",
       "      <td>1</td>\n",
       "      <td>1</td>\n",
       "      <td>F</td>\n",
       "      <td>пенсионер</td>\n",
       "      <td>0</td>\n",
       "      <td>158616</td>\n",
       "      <td>сыграть свадьбу</td>\n",
       "      <td>C</td>\n",
       "      <td>проведение свадьбы</td>\n",
       "    </tr>\n",
       "    <tr>\n",
       "      <th>...</th>\n",
       "      <td>...</td>\n",
       "      <td>...</td>\n",
       "      <td>...</td>\n",
       "      <td>...</td>\n",
       "      <td>...</td>\n",
       "      <td>...</td>\n",
       "      <td>...</td>\n",
       "      <td>...</td>\n",
       "      <td>...</td>\n",
       "      <td>...</td>\n",
       "      <td>...</td>\n",
       "      <td>...</td>\n",
       "    </tr>\n",
       "    <tr>\n",
       "      <th>21449</th>\n",
       "      <td>1</td>\n",
       "      <td>4529</td>\n",
       "      <td>43</td>\n",
       "      <td>1</td>\n",
       "      <td>1</td>\n",
       "      <td>F</td>\n",
       "      <td>компаньон</td>\n",
       "      <td>0</td>\n",
       "      <td>224791</td>\n",
       "      <td>операции с жильем</td>\n",
       "      <td>B</td>\n",
       "      <td>операции с недвижимостью</td>\n",
       "    </tr>\n",
       "    <tr>\n",
       "      <th>21450</th>\n",
       "      <td>0</td>\n",
       "      <td>1</td>\n",
       "      <td>67</td>\n",
       "      <td>1</td>\n",
       "      <td>0</td>\n",
       "      <td>F</td>\n",
       "      <td>пенсионер</td>\n",
       "      <td>0</td>\n",
       "      <td>155999</td>\n",
       "      <td>сделка с автомобилем</td>\n",
       "      <td>C</td>\n",
       "      <td>операции с автомобилем</td>\n",
       "    </tr>\n",
       "    <tr>\n",
       "      <th>21451</th>\n",
       "      <td>1</td>\n",
       "      <td>2113</td>\n",
       "      <td>38</td>\n",
       "      <td>1</td>\n",
       "      <td>1</td>\n",
       "      <td>M</td>\n",
       "      <td>сотрудник</td>\n",
       "      <td>1</td>\n",
       "      <td>89672</td>\n",
       "      <td>недвижимость</td>\n",
       "      <td>C</td>\n",
       "      <td>операции с недвижимостью</td>\n",
       "    </tr>\n",
       "    <tr>\n",
       "      <th>21452</th>\n",
       "      <td>3</td>\n",
       "      <td>3112</td>\n",
       "      <td>38</td>\n",
       "      <td>1</td>\n",
       "      <td>0</td>\n",
       "      <td>M</td>\n",
       "      <td>сотрудник</td>\n",
       "      <td>1</td>\n",
       "      <td>244093</td>\n",
       "      <td>на покупку своего автомобиля</td>\n",
       "      <td>B</td>\n",
       "      <td>операции с автомобилем</td>\n",
       "    </tr>\n",
       "    <tr>\n",
       "      <th>21453</th>\n",
       "      <td>2</td>\n",
       "      <td>1984</td>\n",
       "      <td>40</td>\n",
       "      <td>1</td>\n",
       "      <td>0</td>\n",
       "      <td>F</td>\n",
       "      <td>сотрудник</td>\n",
       "      <td>0</td>\n",
       "      <td>82047</td>\n",
       "      <td>на покупку автомобиля</td>\n",
       "      <td>C</td>\n",
       "      <td>операции с автомобилем</td>\n",
       "    </tr>\n",
       "  </tbody>\n",
       "</table>\n",
       "<p>21454 rows × 12 columns</p>\n",
       "</div>"
      ],
      "text/plain": [
       "       children  days_employed  dob_years  education_id  family_status_id  \\\n",
       "0             1           8437         42             0                 0   \n",
       "1             1           4024         36             1                 0   \n",
       "2             0           5623         33             1                 0   \n",
       "3             3           4124         32             1                 0   \n",
       "4             0              1         53             1                 1   \n",
       "...         ...            ...        ...           ...               ...   \n",
       "21449         1           4529         43             1                 1   \n",
       "21450         0              1         67             1                 0   \n",
       "21451         1           2113         38             1                 1   \n",
       "21452         3           3112         38             1                 0   \n",
       "21453         2           1984         40             1                 0   \n",
       "\n",
       "      gender income_type  debt  total_income                       purpose  \\\n",
       "0          F   сотрудник     0        253875                 покупка жилья   \n",
       "1          F   сотрудник     0        112080       приобретение автомобиля   \n",
       "2          M   сотрудник     0        145885                 покупка жилья   \n",
       "3          M   сотрудник     0        267628    дополнительное образование   \n",
       "4          F   пенсионер     0        158616               сыграть свадьбу   \n",
       "...      ...         ...   ...           ...                           ...   \n",
       "21449      F   компаньон     0        224791             операции с жильем   \n",
       "21450      F   пенсионер     0        155999          сделка с автомобилем   \n",
       "21451      M   сотрудник     1         89672                  недвижимость   \n",
       "21452      M   сотрудник     1        244093  на покупку своего автомобиля   \n",
       "21453      F   сотрудник     0         82047         на покупку автомобиля   \n",
       "\n",
       "      total_income_category          purpose_category  \n",
       "0                         B  операции с недвижимостью  \n",
       "1                         C    операции с автомобилем  \n",
       "2                         C  операции с недвижимостью  \n",
       "3                         B     получение образования  \n",
       "4                         C        проведение свадьбы  \n",
       "...                     ...                       ...  \n",
       "21449                     B  операции с недвижимостью  \n",
       "21450                     C    операции с автомобилем  \n",
       "21451                     C  операции с недвижимостью  \n",
       "21452                     B    операции с автомобилем  \n",
       "21453                     C    операции с автомобилем  \n",
       "\n",
       "[21454 rows x 12 columns]"
      ]
     },
     "execution_count": 31,
     "metadata": {},
     "output_type": "execute_result"
    }
   ],
   "source": [
    "def purpose_category(purpose):\n",
    "    if 'свадьб' in purpose:\n",
    "        return 'проведение свадьбы'\n",
    "    if 'авто' in purpose:\n",
    "        return 'операции с автомобилем'\n",
    "    if 'образ' in purpose:\n",
    "        return 'получение образования'\n",
    "    if 'жиль' or 'недви' in purpose:\n",
    "        return 'операции с недвижимостью'\n",
    "\n",
    "credit_worthiness['purpose_category'] = credit_worthiness['purpose'].apply(purpose_category)\n",
    "credit_worthiness"
   ]
  },
  {
   "cell_type": "markdown",
   "id": "f59b26a4",
   "metadata": {},
   "source": [
    "## Ответы на вопросы."
   ]
  },
  {
   "cell_type": "markdown",
   "id": "223b8d76",
   "metadata": {},
   "source": [
    "<div style=\"border:solid green 2px; padding: 20px\">\n",
    "С помощью метода .pivot_table() составляем сводные таблицы, которые помогут ответить на основные вопросы исследования, и рисуем графики для наглядности."
   ]
  },
  {
   "cell_type": "markdown",
   "id": "d91e027b",
   "metadata": {},
   "source": [
    "### Процент должников в зависимости от семейного положения"
   ]
  },
  {
   "cell_type": "markdown",
   "id": "cab7cc2b",
   "metadata": {},
   "source": [
    "<div style=\"border:solid green 2px; padding: 20px\">\n",
    "Процент должников самый высокий среди неженатых/незамужник, на втором месте — люди в гражданском браке. Самый низкий процент должников — среди вдов/вдовцов."
   ]
  },
  {
   "cell_type": "code",
   "execution_count": 55,
   "id": "1ad7fe8e",
   "metadata": {
    "scrolled": false
   },
   "outputs": [
    {
     "data": {
      "text/html": [
       "<div>\n",
       "<style scoped>\n",
       "    .dataframe tbody tr th:only-of-type {\n",
       "        vertical-align: middle;\n",
       "    }\n",
       "\n",
       "    .dataframe tbody tr th {\n",
       "        vertical-align: top;\n",
       "    }\n",
       "\n",
       "    .dataframe thead th {\n",
       "        text-align: right;\n",
       "    }\n",
       "</style>\n",
       "<table border=\"1\" class=\"dataframe\">\n",
       "  <thead>\n",
       "    <tr style=\"text-align: right;\">\n",
       "      <th>debt</th>\n",
       "      <th>family_status_id</th>\n",
       "      <th>0</th>\n",
       "      <th>1</th>\n",
       "      <th>loan_default</th>\n",
       "    </tr>\n",
       "  </thead>\n",
       "  <tbody>\n",
       "    <tr>\n",
       "      <th>0</th>\n",
       "      <td>4</td>\n",
       "      <td>2536</td>\n",
       "      <td>274</td>\n",
       "      <td>9.750890</td>\n",
       "    </tr>\n",
       "    <tr>\n",
       "      <th>1</th>\n",
       "      <td>1</td>\n",
       "      <td>3763</td>\n",
       "      <td>388</td>\n",
       "      <td>9.347145</td>\n",
       "    </tr>\n",
       "    <tr>\n",
       "      <th>2</th>\n",
       "      <td>0</td>\n",
       "      <td>11408</td>\n",
       "      <td>931</td>\n",
       "      <td>7.545182</td>\n",
       "    </tr>\n",
       "    <tr>\n",
       "      <th>3</th>\n",
       "      <td>3</td>\n",
       "      <td>1110</td>\n",
       "      <td>85</td>\n",
       "      <td>7.112971</td>\n",
       "    </tr>\n",
       "    <tr>\n",
       "      <th>4</th>\n",
       "      <td>2</td>\n",
       "      <td>896</td>\n",
       "      <td>63</td>\n",
       "      <td>6.569343</td>\n",
       "    </tr>\n",
       "  </tbody>\n",
       "</table>\n",
       "</div>"
      ],
      "text/plain": [
       "debt  family_status_id      0    1  loan_default\n",
       "0                    4   2536  274      9.750890\n",
       "1                    1   3763  388      9.347145\n",
       "2                    0  11408  931      7.545182\n",
       "3                    3   1110   85      7.112971\n",
       "4                    2    896   63      6.569343"
      ]
     },
     "execution_count": 55,
     "metadata": {},
     "output_type": "execute_result"
    }
   ],
   "source": [
    "family_status_debt = credit_worthiness.pivot_table(index='family_status_id', columns='debt', values='days_employed', aggfunc='count')\n",
    "family_status_debt['loan_default'] = family_status_debt.loc[:, 1] / (family_status_debt.loc[:, 0] + family_status_debt.loc[:, 1]) * 100\n",
    "\n",
    "family_status_debt = family_status_debt.sort_values('loan_default', ascending=False).reset_index()\n",
    "family_status_debt"
   ]
  },
  {
   "cell_type": "code",
   "execution_count": 56,
   "id": "c34aa782",
   "metadata": {},
   "outputs": [
    {
     "data": {
      "image/png": "[encoded data removed]",
      "text/plain": [
       "<Figure size 576x432 with 1 Axes>"
      ]
     },
     "metadata": {
      "needs_background": "light"
     },
     "output_type": "display_data"
    }
   ],
   "source": [
    "plt.figure(figsize=(8, 6))\n",
    "sns.barplot(x=family_status_debt['loan_default'], y=family_status_dict['family_status'])\n",
    "plt.title('Процент должников в зависимости от семейного положения')\n",
    "plt.xlabel('Процент должников')\n",
    "plt.ylabel('Семейное положение')\n",
    "plt.show()"
   ]
  },
  {
   "cell_type": "markdown",
   "id": "d358c6fe",
   "metadata": {},
   "source": [
    "### Процент должников в зависимости от дохода"
   ]
  },
  {
   "cell_type": "markdown",
   "id": "87b241c1",
   "metadata": {},
   "source": [
    "<div style=\"border:solid green 2px; padding: 20px\">\n",
    "Процент должников самый высокий в категории заемщиков с самым низким доходом (менее 30 тысяч рублей в месяц)."
   ]
  },
  {
   "cell_type": "code",
   "execution_count": 57,
   "id": "376c1db4",
   "metadata": {},
   "outputs": [
    {
     "data": {
      "text/html": [
       "<div>\n",
       "<style scoped>\n",
       "    .dataframe tbody tr th:only-of-type {\n",
       "        vertical-align: middle;\n",
       "    }\n",
       "\n",
       "    .dataframe tbody tr th {\n",
       "        vertical-align: top;\n",
       "    }\n",
       "\n",
       "    .dataframe thead th {\n",
       "        text-align: right;\n",
       "    }\n",
       "</style>\n",
       "<table border=\"1\" class=\"dataframe\">\n",
       "  <thead>\n",
       "    <tr style=\"text-align: right;\">\n",
       "      <th>debt</th>\n",
       "      <th>total_income_category</th>\n",
       "      <th>0</th>\n",
       "      <th>1</th>\n",
       "      <th>loan_default</th>\n",
       "    </tr>\n",
       "  </thead>\n",
       "  <tbody>\n",
       "    <tr>\n",
       "      <th>0</th>\n",
       "      <td>E</td>\n",
       "      <td>20</td>\n",
       "      <td>2</td>\n",
       "      <td>9.090909</td>\n",
       "    </tr>\n",
       "    <tr>\n",
       "      <th>1</th>\n",
       "      <td>C</td>\n",
       "      <td>14656</td>\n",
       "      <td>1360</td>\n",
       "      <td>8.491508</td>\n",
       "    </tr>\n",
       "    <tr>\n",
       "      <th>2</th>\n",
       "      <td>A</td>\n",
       "      <td>23</td>\n",
       "      <td>2</td>\n",
       "      <td>8.000000</td>\n",
       "    </tr>\n",
       "    <tr>\n",
       "      <th>3</th>\n",
       "      <td>B</td>\n",
       "      <td>4685</td>\n",
       "      <td>356</td>\n",
       "      <td>7.062091</td>\n",
       "    </tr>\n",
       "    <tr>\n",
       "      <th>4</th>\n",
       "      <td>D</td>\n",
       "      <td>329</td>\n",
       "      <td>21</td>\n",
       "      <td>6.000000</td>\n",
       "    </tr>\n",
       "  </tbody>\n",
       "</table>\n",
       "</div>"
      ],
      "text/plain": [
       "debt total_income_category      0     1  loan_default\n",
       "0                        E     20     2      9.090909\n",
       "1                        C  14656  1360      8.491508\n",
       "2                        A     23     2      8.000000\n",
       "3                        B   4685   356      7.062091\n",
       "4                        D    329    21      6.000000"
      ]
     },
     "execution_count": 57,
     "metadata": {},
     "output_type": "execute_result"
    }
   ],
   "source": [
    "income_category_debt = credit_worthiness.pivot_table(index='total_income_category', columns='debt', values='days_employed', aggfunc='count')\n",
    "income_category_debt['loan_default'] = income_category_debt.loc[:, 1] / (income_category_debt.loc[:, 0]+income_category_debt.loc[:, 1]) * 100\n",
    "\n",
    "income_category_debt = income_category_debt.sort_values('loan_default', ascending=False).reset_index()\n",
    "income_category_debt"
   ]
  },
  {
   "cell_type": "code",
   "execution_count": 58,
   "id": "cca583d4",
   "metadata": {},
   "outputs": [
    {
     "data": {
      "image/png": "[encoded data removed]",
      "text/plain": [
       "<Figure size 576x432 with 1 Axes>"
      ]
     },
     "metadata": {
      "needs_background": "light"
     },
     "output_type": "display_data"
    }
   ],
   "source": [
    "plt.figure(figsize=(8, 6))\n",
    "sns.barplot(x=family_status_debt['loan_default'],\n",
    "            y=['доход свыше 1 млн р.',\n",
    "               'доход до 200 т.р.',\n",
    "               'доход до 50 т.р.',\n",
    "               'доход до 1 млн р.',\n",
    "               'доход до 30 т.р.']\n",
    "           )\n",
    "plt.title('Процент должников в зависимости от дохода')\n",
    "plt.xlabel('Процент должников')\n",
    "plt.ylabel('Доход')\n",
    "plt.show()"
   ]
  },
  {
   "cell_type": "markdown",
   "id": "06ec0d4a",
   "metadata": {},
   "source": [
    "### Процент должников в зависимости от количества детей"
   ]
  },
  {
   "cell_type": "markdown",
   "id": "644de022",
   "metadata": {},
   "source": [
    "<div style=\"border:solid green 2px; padding: 20px\">\n",
    "Наибольшее число должников — в категории с четырьмя детьми. Далее идут с двумя и с одним."
   ]
  },
  {
   "cell_type": "code",
   "execution_count": 59,
   "id": "20a47965",
   "metadata": {},
   "outputs": [
    {
     "data": {
      "text/html": [
       "<div>\n",
       "<style scoped>\n",
       "    .dataframe tbody tr th:only-of-type {\n",
       "        vertical-align: middle;\n",
       "    }\n",
       "\n",
       "    .dataframe tbody tr th {\n",
       "        vertical-align: top;\n",
       "    }\n",
       "\n",
       "    .dataframe thead th {\n",
       "        text-align: right;\n",
       "    }\n",
       "</style>\n",
       "<table border=\"1\" class=\"dataframe\">\n",
       "  <thead>\n",
       "    <tr style=\"text-align: right;\">\n",
       "      <th>debt</th>\n",
       "      <th>children</th>\n",
       "      <th>0</th>\n",
       "      <th>1</th>\n",
       "      <th>loan_default</th>\n",
       "    </tr>\n",
       "  </thead>\n",
       "  <tbody>\n",
       "    <tr>\n",
       "      <th>0</th>\n",
       "      <td>4</td>\n",
       "      <td>37.0</td>\n",
       "      <td>4.0</td>\n",
       "      <td>9.756098</td>\n",
       "    </tr>\n",
       "    <tr>\n",
       "      <th>1</th>\n",
       "      <td>2</td>\n",
       "      <td>1926.0</td>\n",
       "      <td>202.0</td>\n",
       "      <td>9.492481</td>\n",
       "    </tr>\n",
       "    <tr>\n",
       "      <th>2</th>\n",
       "      <td>1</td>\n",
       "      <td>4410.0</td>\n",
       "      <td>445.0</td>\n",
       "      <td>9.165808</td>\n",
       "    </tr>\n",
       "    <tr>\n",
       "      <th>3</th>\n",
       "      <td>3</td>\n",
       "      <td>303.0</td>\n",
       "      <td>27.0</td>\n",
       "      <td>8.181818</td>\n",
       "    </tr>\n",
       "    <tr>\n",
       "      <th>4</th>\n",
       "      <td>0</td>\n",
       "      <td>13028.0</td>\n",
       "      <td>1063.0</td>\n",
       "      <td>7.543822</td>\n",
       "    </tr>\n",
       "    <tr>\n",
       "      <th>5</th>\n",
       "      <td>5</td>\n",
       "      <td>9.0</td>\n",
       "      <td>NaN</td>\n",
       "      <td>NaN</td>\n",
       "    </tr>\n",
       "  </tbody>\n",
       "</table>\n",
       "</div>"
      ],
      "text/plain": [
       "debt  children        0       1  loan_default\n",
       "0            4     37.0     4.0      9.756098\n",
       "1            2   1926.0   202.0      9.492481\n",
       "2            1   4410.0   445.0      9.165808\n",
       "3            3    303.0    27.0      8.181818\n",
       "4            0  13028.0  1063.0      7.543822\n",
       "5            5      9.0     NaN           NaN"
      ]
     },
     "execution_count": 59,
     "metadata": {},
     "output_type": "execute_result"
    }
   ],
   "source": [
    "children_debt = credit_worthiness.pivot_table(index='children', columns= 'debt', values='days_employed', aggfunc='count')\n",
    "children_debt['loan_default'] = children_debt.loc[:, 1] / (children_debt.loc[:, 0]+children_debt.loc[:, 1]) * 100\n",
    "children_debt = children_debt.sort_values('loan_default', ascending=False).reset_index()\n",
    "children_debt"
   ]
  },
  {
   "cell_type": "code",
   "execution_count": 61,
   "id": "7c627ae6",
   "metadata": {},
   "outputs": [
    {
     "data": {
      "image/png": "[encoded data removed]",
      "text/plain": [
       "<Figure size 576x432 with 1 Axes>"
      ]
     },
     "metadata": {
      "needs_background": "light"
     },
     "output_type": "display_data"
    }
   ],
   "source": [
    "plt.figure(figsize=(8, 6))\n",
    "sns.barplot(x=children_debt['loan_default'],\n",
    "            y=['бездетный',\n",
    "               '1 ребенок',\n",
    "               '2 ребенка',\n",
    "               '3 ребенка',\n",
    "               '4 ребенка',\n",
    "               '5 детей']\n",
    "           )\n",
    "plt.title('Процент должников в зависимости от числа детей')\n",
    "plt.xlabel('Процент должников')\n",
    "plt.ylabel('Количество детей')\n",
    "plt.show()"
   ]
  },
  {
   "cell_type": "markdown",
   "id": "703e5202",
   "metadata": {},
   "source": [
    "### Процент должников в зависимости от цели кредита"
   ]
  },
  {
   "cell_type": "markdown",
   "id": "44f90263",
   "metadata": {},
   "source": [
    "<div style=\"border:solid green 2px; padding: 20px\">\n",
    "Наибольший процент задолженности — среди займов на автомобиль. На втором месте — кредит на получение образования."
   ]
  },
  {
   "cell_type": "code",
   "execution_count": 62,
   "id": "fbecc1c8",
   "metadata": {},
   "outputs": [
    {
     "data": {
      "text/html": [
       "<div>\n",
       "<style scoped>\n",
       "    .dataframe tbody tr th:only-of-type {\n",
       "        vertical-align: middle;\n",
       "    }\n",
       "\n",
       "    .dataframe tbody tr th {\n",
       "        vertical-align: top;\n",
       "    }\n",
       "\n",
       "    .dataframe thead th {\n",
       "        text-align: right;\n",
       "    }\n",
       "</style>\n",
       "<table border=\"1\" class=\"dataframe\">\n",
       "  <thead>\n",
       "    <tr style=\"text-align: right;\">\n",
       "      <th>debt</th>\n",
       "      <th>purpose_category</th>\n",
       "      <th>0</th>\n",
       "      <th>1</th>\n",
       "      <th>loan_default</th>\n",
       "    </tr>\n",
       "  </thead>\n",
       "  <tbody>\n",
       "    <tr>\n",
       "      <th>0</th>\n",
       "      <td>операции с автомобилем</td>\n",
       "      <td>3903</td>\n",
       "      <td>403</td>\n",
       "      <td>9.359034</td>\n",
       "    </tr>\n",
       "    <tr>\n",
       "      <th>1</th>\n",
       "      <td>получение образования</td>\n",
       "      <td>3643</td>\n",
       "      <td>370</td>\n",
       "      <td>9.220035</td>\n",
       "    </tr>\n",
       "    <tr>\n",
       "      <th>2</th>\n",
       "      <td>проведение свадьбы</td>\n",
       "      <td>2138</td>\n",
       "      <td>186</td>\n",
       "      <td>8.003442</td>\n",
       "    </tr>\n",
       "    <tr>\n",
       "      <th>3</th>\n",
       "      <td>операции с недвижимостью</td>\n",
       "      <td>10029</td>\n",
       "      <td>782</td>\n",
       "      <td>7.233373</td>\n",
       "    </tr>\n",
       "  </tbody>\n",
       "</table>\n",
       "</div>"
      ],
      "text/plain": [
       "debt          purpose_category      0    1  loan_default\n",
       "0       операции с автомобилем   3903  403      9.359034\n",
       "1        получение образования   3643  370      9.220035\n",
       "2           проведение свадьбы   2138  186      8.003442\n",
       "3     операции с недвижимостью  10029  782      7.233373"
      ]
     },
     "execution_count": 62,
     "metadata": {},
     "output_type": "execute_result"
    }
   ],
   "source": [
    "purpose_debt = credit_worthiness.pivot_table(index='purpose_category', columns= 'debt', values='days_employed', aggfunc='count')\n",
    "purpose_debt['loan_default'] = purpose_debt.loc[:, 1] / (purpose_debt.loc[:, 0]+purpose_debt.loc[:, 1]) * 100\n",
    "\n",
    "purpose_debt = purpose_debt.sort_values('loan_default', ascending=False).reset_index()\n",
    "purpose_debt"
   ]
  },
  {
   "cell_type": "code",
   "execution_count": 63,
   "id": "fae08f61",
   "metadata": {},
   "outputs": [
    {
     "data": {
      "image/png": "[encoded data removed]",
      "text/plain": [
       "<Figure size 576x432 with 1 Axes>"
      ]
     },
     "metadata": {
      "needs_background": "light"
     },
     "output_type": "display_data"
    }
   ],
   "source": [
    "plt.figure(figsize=(8, 6))\n",
    "sns.barplot(x=purpose_debt['loan_default'],\n",
    "            y=['операции с автомобилем',\n",
    "               'операции с недвижимостью',\n",
    "               'получение образования',\n",
    "               'проведение свадьбы']\n",
    "           )\n",
    "plt.title('Процент должников в зависимости от цели кредита')\n",
    "plt.xlabel('Процент должников')\n",
    "plt.ylabel('Цель кредита')\n",
    "plt.show()"
   ]
  },
  {
   "cell_type": "markdown",
   "id": "487efe18",
   "metadata": {},
   "source": [
    "## Общий вывод — \"портрет заемщика\":"
   ]
  },
  {
   "cell_type": "markdown",
   "id": "ee745b14",
   "metadata": {},
   "source": [
    "Исходя из проведенного исследования имеющихся данных, можно составить \"портрет\" **наиболее благонадежного заемщика**.\n",
    "Это человек:\n",
    "- собиращийся взять кредит на недвижимость (уровен задолженности среди таких заемщиков около 7%);\n",
    "- без детей (7,5%);\n",
    "- с доходом до 50 тыс. рублей (6%);\n",
    "- вдова/вдовец (6,6%).\n",
    "\n",
    "И наоборот, **наименее благонадежный заемщик** — это человек:\n",
    "- просящий займ на автомобиль (процент задолженности среди таких — 9,4%);\n",
    "- с четырьмя детьми (9,8%);\n",
    "- с доходом до 30 тыс. рублей (9,1%);\n",
    "- не женатый/не замужем (9,8%)."
   ]
  }
 ],
 "metadata": {
  "ExecuteTimeLog": [
   {
    "duration": 495,
    "start_time": "2022-04-07T06:34:08.190Z"
   },
   {
    "duration": 79,
    "start_time": "2022-04-07T06:34:26.708Z"
   },
   {
    "duration": 9,
    "start_time": "2022-04-07T06:39:15.267Z"
   },
   {
    "duration": 15,
    "start_time": "2022-04-07T06:42:37.540Z"
   },
   {
    "duration": 5,
    "start_time": "2022-04-07T07:12:58.234Z"
   },
   {
    "duration": 62,
    "start_time": "2022-04-07T07:14:34.614Z"
   },
   {
    "duration": 14,
    "start_time": "2022-04-07T07:20:42.838Z"
   },
   {
    "duration": 12,
    "start_time": "2022-04-07T07:21:17.329Z"
   },
   {
    "duration": 31,
    "start_time": "2022-04-07T07:23:57.980Z"
   },
   {
    "duration": 17,
    "start_time": "2022-04-07T07:24:14.253Z"
   },
   {
    "duration": 746,
    "start_time": "2022-04-07T07:28:12.263Z"
   },
   {
    "duration": 1276,
    "start_time": "2022-04-07T07:29:46.418Z"
   },
   {
    "duration": 16,
    "start_time": "2022-04-07T07:51:22.397Z"
   },
   {
    "duration": 507,
    "start_time": "2022-04-07T07:51:39.571Z"
   },
   {
    "duration": 16,
    "start_time": "2022-04-07T07:51:43.812Z"
   },
   {
    "duration": 5,
    "start_time": "2022-04-07T07:51:49.610Z"
   },
   {
    "duration": 6,
    "start_time": "2022-04-07T07:51:51.991Z"
   },
   {
    "duration": 27,
    "start_time": "2022-04-07T07:54:06.947Z"
   },
   {
    "duration": 72,
    "start_time": "2022-04-07T07:54:57.725Z"
   },
   {
    "duration": 13,
    "start_time": "2022-04-07T08:04:41.069Z"
   },
   {
    "duration": 21,
    "start_time": "2022-04-07T08:04:52.568Z"
   },
   {
    "duration": 3,
    "start_time": "2022-04-07T08:05:05.289Z"
   },
   {
    "duration": 20,
    "start_time": "2022-04-07T08:05:13.045Z"
   },
   {
    "duration": 6,
    "start_time": "2022-04-07T08:10:27.484Z"
   },
   {
    "duration": 5,
    "start_time": "2022-04-07T08:12:27.580Z"
   },
   {
    "duration": 12,
    "start_time": "2022-04-07T08:13:30.912Z"
   },
   {
    "duration": 162,
    "start_time": "2022-04-07T08:15:11.230Z"
   },
   {
    "duration": 5,
    "start_time": "2022-04-07T08:15:19.915Z"
   },
   {
    "duration": 12,
    "start_time": "2022-04-07T08:21:38.957Z"
   },
   {
    "duration": 12,
    "start_time": "2022-04-07T08:30:51.098Z"
   },
   {
    "duration": 2645,
    "start_time": "2022-04-07T08:48:29.544Z"
   },
   {
    "duration": 1364,
    "start_time": "2022-04-07T08:49:06.934Z"
   },
   {
    "duration": 9,
    "start_time": "2022-04-07T08:49:20.715Z"
   },
   {
    "duration": 14,
    "start_time": "2022-04-07T08:49:43.997Z"
   },
   {
    "duration": 4,
    "start_time": "2022-04-07T08:55:02.873Z"
   },
   {
    "duration": 14,
    "start_time": "2022-04-07T08:55:12.566Z"
   },
   {
    "duration": 17,
    "start_time": "2022-04-07T08:55:36.700Z"
   },
   {
    "duration": 4,
    "start_time": "2022-04-07T11:06:29.140Z"
   },
   {
    "duration": 498,
    "start_time": "2022-04-07T11:35:58.773Z"
   },
   {
    "duration": 5,
    "start_time": "2022-04-07T11:36:02.166Z"
   },
   {
    "duration": 16,
    "start_time": "2022-04-07T11:36:11.352Z"
   },
   {
    "duration": 6,
    "start_time": "2022-04-07T11:36:19.421Z"
   },
   {
    "duration": 6,
    "start_time": "2022-04-07T11:37:23.335Z"
   },
   {
    "duration": 2694,
    "start_time": "2022-04-07T11:38:02.116Z"
   },
   {
    "duration": 8,
    "start_time": "2022-04-07T11:38:27.523Z"
   },
   {
    "duration": 14,
    "start_time": "2022-04-07T11:38:34.242Z"
   },
   {
    "duration": 21,
    "start_time": "2022-04-07T11:38:45.395Z"
   },
   {
    "duration": 6,
    "start_time": "2022-04-07T11:46:41.856Z"
   },
   {
    "duration": 12,
    "start_time": "2022-04-07T11:52:25.643Z"
   },
   {
    "duration": 176,
    "start_time": "2022-04-07T12:28:30.003Z"
   },
   {
    "duration": 13,
    "start_time": "2022-04-07T12:28:34.602Z"
   },
   {
    "duration": 9,
    "start_time": "2022-04-07T12:28:55.413Z"
   },
   {
    "duration": 13,
    "start_time": "2022-04-07T12:29:20.835Z"
   },
   {
    "duration": 481,
    "start_time": "2022-04-07T12:36:23.803Z"
   },
   {
    "duration": 18,
    "start_time": "2022-04-07T12:36:27.292Z"
   },
   {
    "duration": 10,
    "start_time": "2022-04-07T12:39:31.024Z"
   },
   {
    "duration": 13,
    "start_time": "2022-04-07T12:39:37.694Z"
   },
   {
    "duration": 12,
    "start_time": "2022-04-07T12:40:39.836Z"
   },
   {
    "duration": 12,
    "start_time": "2022-04-07T12:42:55.504Z"
   },
   {
    "duration": 68,
    "start_time": "2022-04-07T12:46:22.836Z"
   },
   {
    "duration": 760,
    "start_time": "2022-04-07T12:46:36.648Z"
   },
   {
    "duration": 10,
    "start_time": "2022-04-07T12:48:01.048Z"
   },
   {
    "duration": 17,
    "start_time": "2022-04-07T12:48:08.400Z"
   },
   {
    "duration": 10,
    "start_time": "2022-04-07T12:48:20.652Z"
   },
   {
    "duration": 10,
    "start_time": "2022-04-07T12:48:42.053Z"
   },
   {
    "duration": 13,
    "start_time": "2022-04-07T12:49:47.935Z"
   },
   {
    "duration": 9,
    "start_time": "2022-04-07T12:49:56.518Z"
   },
   {
    "duration": 19,
    "start_time": "2022-04-07T12:55:02.784Z"
   },
   {
    "duration": 22,
    "start_time": "2022-04-07T13:10:21.705Z"
   },
   {
    "duration": 8,
    "start_time": "2022-04-07T13:10:59.833Z"
   },
   {
    "duration": 19,
    "start_time": "2022-04-07T13:11:18.704Z"
   },
   {
    "duration": 19,
    "start_time": "2022-04-07T13:12:47.910Z"
   },
   {
    "duration": 38,
    "start_time": "2022-04-07T13:17:01.075Z"
   },
   {
    "duration": 213,
    "start_time": "2022-04-07T13:17:14.776Z"
   },
   {
    "duration": 24,
    "start_time": "2022-04-07T13:17:23.969Z"
   },
   {
    "duration": 170,
    "start_time": "2022-04-07T13:18:49.211Z"
   },
   {
    "duration": 174,
    "start_time": "2022-04-07T13:18:56.898Z"
   },
   {
    "duration": 636,
    "start_time": "2022-04-07T13:20:16.114Z"
   },
   {
    "duration": 260,
    "start_time": "2022-04-07T13:21:03.329Z"
   },
   {
    "duration": 164,
    "start_time": "2022-04-07T13:21:10.450Z"
   },
   {
    "duration": 12,
    "start_time": "2022-04-07T13:21:46.329Z"
   },
   {
    "duration": 10,
    "start_time": "2022-04-07T13:23:54.951Z"
   },
   {
    "duration": 10,
    "start_time": "2022-04-07T13:24:02.027Z"
   },
   {
    "duration": 24,
    "start_time": "2022-04-07T13:24:20.838Z"
   },
   {
    "duration": 10,
    "start_time": "2022-04-07T13:24:29.245Z"
   },
   {
    "duration": 26,
    "start_time": "2022-04-07T13:26:12.336Z"
   },
   {
    "duration": 10,
    "start_time": "2022-04-07T13:26:24.874Z"
   },
   {
    "duration": 10,
    "start_time": "2022-04-07T13:26:33.914Z"
   },
   {
    "duration": 4,
    "start_time": "2022-04-07T13:27:06.639Z"
   },
   {
    "duration": 164,
    "start_time": "2022-04-07T13:27:52.040Z"
   },
   {
    "duration": 179,
    "start_time": "2022-04-07T13:27:55.254Z"
   },
   {
    "duration": 15,
    "start_time": "2022-04-07T13:32:24.004Z"
   },
   {
    "duration": 81,
    "start_time": "2022-04-07T13:32:24.021Z"
   },
   {
    "duration": 73,
    "start_time": "2022-04-07T13:33:42.143Z"
   },
   {
    "duration": 450,
    "start_time": "2022-04-07T13:33:46.923Z"
   },
   {
    "duration": 15,
    "start_time": "2022-04-07T13:33:49.568Z"
   },
   {
    "duration": 6,
    "start_time": "2022-04-07T13:33:53.819Z"
   },
   {
    "duration": 19,
    "start_time": "2022-04-07T13:33:56.591Z"
   },
   {
    "duration": 19,
    "start_time": "2022-04-07T13:34:17.747Z"
   },
   {
    "duration": 272,
    "start_time": "2022-04-07T13:34:35.048Z"
   },
   {
    "duration": 8,
    "start_time": "2022-04-07T13:34:40.555Z"
   },
   {
    "duration": 2735,
    "start_time": "2022-04-07T13:34:50.974Z"
   },
   {
    "duration": 21,
    "start_time": "2022-04-07T13:35:12.018Z"
   },
   {
    "duration": 3836,
    "start_time": "2022-04-07T13:35:30.340Z"
   },
   {
    "duration": 18,
    "start_time": "2022-04-07T13:35:54.466Z"
   },
   {
    "duration": 15,
    "start_time": "2022-04-07T13:36:24.533Z"
   },
   {
    "duration": 20,
    "start_time": "2022-04-07T13:36:44.267Z"
   },
   {
    "duration": 723,
    "start_time": "2022-04-07T13:59:15.472Z"
   },
   {
    "duration": 20,
    "start_time": "2022-04-07T13:59:20.228Z"
   },
   {
    "duration": 5,
    "start_time": "2022-04-07T13:59:30.289Z"
   },
   {
    "duration": 100,
    "start_time": "2022-04-07T13:59:40.437Z"
   },
   {
    "duration": 12,
    "start_time": "2022-04-07T14:09:11.510Z"
   },
   {
    "duration": 10,
    "start_time": "2022-04-07T16:00:08.144Z"
   },
   {
    "duration": 574,
    "start_time": "2022-04-07T16:00:33.996Z"
   },
   {
    "duration": 22,
    "start_time": "2022-04-07T16:00:37.707Z"
   },
   {
    "duration": 9,
    "start_time": "2022-04-07T16:00:46.856Z"
   },
   {
    "duration": 19,
    "start_time": "2022-04-07T16:01:02.715Z"
   },
   {
    "duration": 8,
    "start_time": "2022-04-07T16:01:10.744Z"
   },
   {
    "duration": 20,
    "start_time": "2022-04-07T16:01:13.354Z"
   },
   {
    "duration": 5,
    "start_time": "2022-04-07T16:01:35.571Z"
   },
   {
    "duration": 20,
    "start_time": "2022-04-07T16:01:42.176Z"
   },
   {
    "duration": 5,
    "start_time": "2022-04-07T16:01:46.950Z"
   },
   {
    "duration": 20,
    "start_time": "2022-04-07T16:01:49.122Z"
   },
   {
    "duration": 6,
    "start_time": "2022-04-07T16:11:23.778Z"
   },
   {
    "duration": 38,
    "start_time": "2022-04-07T16:11:49.735Z"
   },
   {
    "duration": 10,
    "start_time": "2022-04-07T16:12:45.947Z"
   },
   {
    "duration": 105,
    "start_time": "2022-04-07T16:13:13.370Z"
   },
   {
    "duration": 5,
    "start_time": "2022-04-07T16:13:44.077Z"
   },
   {
    "duration": 6,
    "start_time": "2022-04-07T16:13:50.228Z"
   },
   {
    "duration": 37,
    "start_time": "2022-04-07T16:13:57.078Z"
   },
   {
    "duration": 14,
    "start_time": "2022-04-07T16:17:37.789Z"
   },
   {
    "duration": 4,
    "start_time": "2022-04-07T16:18:08.626Z"
   },
   {
    "duration": 23,
    "start_time": "2022-04-07T16:18:30.875Z"
   },
   {
    "duration": 5,
    "start_time": "2022-04-07T16:18:58.614Z"
   },
   {
    "duration": 13,
    "start_time": "2022-04-07T16:21:43.138Z"
   },
   {
    "duration": 20,
    "start_time": "2022-04-07T16:23:23.358Z"
   },
   {
    "duration": 21,
    "start_time": "2022-04-07T16:26:02.457Z"
   },
   {
    "duration": 8,
    "start_time": "2022-04-07T16:26:56.885Z"
   },
   {
    "duration": 7,
    "start_time": "2022-04-07T16:28:40.730Z"
   },
   {
    "duration": 6,
    "start_time": "2022-04-07T16:29:04.335Z"
   },
   {
    "duration": 12,
    "start_time": "2022-04-07T16:29:13.998Z"
   },
   {
    "duration": 584,
    "start_time": "2022-04-07T16:29:51.666Z"
   },
   {
    "duration": 24,
    "start_time": "2022-04-07T16:29:54.919Z"
   },
   {
    "duration": 34,
    "start_time": "2022-04-07T16:29:58.165Z"
   },
   {
    "duration": 32,
    "start_time": "2022-04-07T16:30:35.539Z"
   },
   {
    "duration": 39,
    "start_time": "2022-04-07T16:34:04.197Z"
   },
   {
    "duration": 101,
    "start_time": "2022-04-07T16:34:28.727Z"
   },
   {
    "duration": 476,
    "start_time": "2022-04-07T16:35:32.115Z"
   },
   {
    "duration": 17,
    "start_time": "2022-04-07T16:36:28.915Z"
   },
   {
    "duration": 32,
    "start_time": "2022-04-07T16:36:45.260Z"
   },
   {
    "duration": 18,
    "start_time": "2022-04-07T16:37:07.534Z"
   },
   {
    "duration": 17,
    "start_time": "2022-04-07T16:37:24.082Z"
   },
   {
    "duration": 36,
    "start_time": "2022-04-07T16:38:33.306Z"
   },
   {
    "duration": 34,
    "start_time": "2022-04-07T16:39:06.828Z"
   },
   {
    "duration": 32,
    "start_time": "2022-04-07T16:39:32.943Z"
   },
   {
    "duration": 20,
    "start_time": "2022-04-07T16:40:19.412Z"
   },
   {
    "duration": 34,
    "start_time": "2022-04-07T16:40:39.135Z"
   },
   {
    "duration": 23,
    "start_time": "2022-04-07T16:40:43.978Z"
   },
   {
    "duration": 593,
    "start_time": "2022-04-07T16:41:12.174Z"
   },
   {
    "duration": 22,
    "start_time": "2022-04-07T16:41:16.331Z"
   },
   {
    "duration": 31,
    "start_time": "2022-04-07T16:41:42.483Z"
   },
   {
    "duration": 37,
    "start_time": "2022-04-07T16:42:23.772Z"
   },
   {
    "duration": 22,
    "start_time": "2022-04-07T16:42:37.091Z"
   },
   {
    "duration": 5,
    "start_time": "2022-04-07T16:43:43.825Z"
   },
   {
    "duration": 20,
    "start_time": "2022-04-07T16:47:30.436Z"
   },
   {
    "duration": 11,
    "start_time": "2022-04-07T16:48:45.553Z"
   },
   {
    "duration": 11,
    "start_time": "2022-04-07T16:51:06.463Z"
   },
   {
    "duration": 13,
    "start_time": "2022-04-07T16:54:01.268Z"
   },
   {
    "duration": 121,
    "start_time": "2022-04-07T18:20:04.034Z"
   },
   {
    "duration": 101,
    "start_time": "2022-04-07T18:20:17.138Z"
   },
   {
    "duration": 16,
    "start_time": "2022-04-07T18:20:36.982Z"
   },
   {
    "duration": 16,
    "start_time": "2022-04-07T18:23:14.591Z"
   },
   {
    "duration": 34,
    "start_time": "2022-04-07T18:23:22.276Z"
   },
   {
    "duration": 18,
    "start_time": "2022-04-07T18:24:08.965Z"
   },
   {
    "duration": 24,
    "start_time": "2022-04-07T18:24:37.348Z"
   },
   {
    "duration": 49,
    "start_time": "2022-04-07T18:24:50.319Z"
   },
   {
    "duration": 8,
    "start_time": "2022-04-07T18:30:41.933Z"
   },
   {
    "duration": 10,
    "start_time": "2022-04-07T18:30:50.592Z"
   },
   {
    "duration": 10,
    "start_time": "2022-04-07T18:31:53.667Z"
   },
   {
    "duration": 582,
    "start_time": "2022-04-07T18:32:21.674Z"
   },
   {
    "duration": 22,
    "start_time": "2022-04-07T18:32:26.603Z"
   },
   {
    "duration": 96,
    "start_time": "2022-04-07T18:40:53.220Z"
   },
   {
    "duration": 12,
    "start_time": "2022-04-07T18:41:06.981Z"
   },
   {
    "duration": 8,
    "start_time": "2022-04-07T18:41:49.023Z"
   },
   {
    "duration": 41,
    "start_time": "2022-04-07T18:42:42.079Z"
   },
   {
    "duration": 12,
    "start_time": "2022-04-07T18:43:53.230Z"
   },
   {
    "duration": 51,
    "start_time": "2022-04-07T18:43:56.930Z"
   },
   {
    "duration": 33,
    "start_time": "2022-04-07T18:44:42.763Z"
   },
   {
    "duration": 24,
    "start_time": "2022-04-07T18:47:49.586Z"
   },
   {
    "duration": 631,
    "start_time": "2022-04-07T18:48:41.913Z"
   },
   {
    "duration": 30,
    "start_time": "2022-04-07T18:48:45.369Z"
   },
   {
    "duration": 13,
    "start_time": "2022-04-07T18:48:56.868Z"
   },
   {
    "duration": 39,
    "start_time": "2022-04-07T18:49:55.265Z"
   },
   {
    "duration": 37,
    "start_time": "2022-04-07T18:50:15.887Z"
   },
   {
    "duration": 38,
    "start_time": "2022-04-07T18:50:47.932Z"
   },
   {
    "duration": 6,
    "start_time": "2022-04-07T18:50:56.431Z"
   },
   {
    "duration": 12,
    "start_time": "2022-04-07T18:50:58.285Z"
   },
   {
    "duration": 17,
    "start_time": "2022-04-07T18:51:00.799Z"
   },
   {
    "duration": 35,
    "start_time": "2022-04-07T18:51:17.215Z"
   },
   {
    "duration": 10,
    "start_time": "2022-04-07T18:52:11.042Z"
   },
   {
    "duration": 93,
    "start_time": "2022-04-07T19:02:42.340Z"
   },
   {
    "duration": 10,
    "start_time": "2022-04-07T19:02:48.999Z"
   },
   {
    "duration": 10,
    "start_time": "2022-04-07T19:03:21.264Z"
   },
   {
    "duration": 8,
    "start_time": "2022-04-07T19:04:42.712Z"
   },
   {
    "duration": 19,
    "start_time": "2022-04-07T19:09:49.399Z"
   },
   {
    "duration": 9,
    "start_time": "2022-04-07T19:17:25.979Z"
   },
   {
    "duration": 7,
    "start_time": "2022-04-07T19:18:22.704Z"
   },
   {
    "duration": 7,
    "start_time": "2022-04-07T19:18:39.964Z"
   },
   {
    "duration": 10,
    "start_time": "2022-04-07T19:19:03.396Z"
   },
   {
    "duration": 7,
    "start_time": "2022-04-07T19:22:03.944Z"
   },
   {
    "duration": 7,
    "start_time": "2022-04-07T19:22:24.895Z"
   },
   {
    "duration": 6,
    "start_time": "2022-04-07T19:22:32.541Z"
   },
   {
    "duration": 6,
    "start_time": "2022-04-07T19:22:42.166Z"
   },
   {
    "duration": 5,
    "start_time": "2022-04-07T19:22:45.943Z"
   },
   {
    "duration": 8,
    "start_time": "2022-04-07T19:22:53.290Z"
   },
   {
    "duration": 11,
    "start_time": "2022-04-07T19:22:56.209Z"
   },
   {
    "duration": 6,
    "start_time": "2022-04-07T19:23:00.297Z"
   },
   {
    "duration": 7,
    "start_time": "2022-04-07T19:23:20.464Z"
   },
   {
    "duration": 6,
    "start_time": "2022-04-07T19:23:26.508Z"
   },
   {
    "duration": 6,
    "start_time": "2022-04-07T19:25:13.973Z"
   },
   {
    "duration": 6,
    "start_time": "2022-04-07T19:25:23.915Z"
   },
   {
    "duration": 5,
    "start_time": "2022-04-07T19:25:31.306Z"
   },
   {
    "duration": 6,
    "start_time": "2022-04-07T20:00:08.064Z"
   },
   {
    "duration": 586,
    "start_time": "2022-04-07T20:14:39.670Z"
   },
   {
    "duration": 21,
    "start_time": "2022-04-07T20:14:42.210Z"
   },
   {
    "duration": 32,
    "start_time": "2022-04-07T20:14:50.203Z"
   },
   {
    "duration": 13,
    "start_time": "2022-04-07T20:14:54.314Z"
   },
   {
    "duration": 5,
    "start_time": "2022-04-07T20:14:58.296Z"
   },
   {
    "duration": 76,
    "start_time": "2022-04-07T20:15:01.269Z"
   },
   {
    "duration": 31,
    "start_time": "2022-04-07T20:18:16.450Z"
   },
   {
    "duration": 613,
    "start_time": "2022-04-07T20:18:32.034Z"
   },
   {
    "duration": 29,
    "start_time": "2022-04-07T20:19:28.607Z"
   },
   {
    "duration": 5,
    "start_time": "2022-04-07T20:19:33.533Z"
   },
   {
    "duration": 34,
    "start_time": "2022-04-07T20:19:37.146Z"
   },
   {
    "duration": 63,
    "start_time": "2022-04-07T20:20:32.190Z"
   },
   {
    "duration": 33,
    "start_time": "2022-04-07T20:35:30.506Z"
   },
   {
    "duration": 6,
    "start_time": "2022-04-07T21:02:42.396Z"
   },
   {
    "duration": 13,
    "start_time": "2022-04-07T21:09:17.955Z"
   },
   {
    "duration": 2160,
    "start_time": "2022-04-07T21:09:34.765Z"
   },
   {
    "duration": 31,
    "start_time": "2022-04-07T21:09:39.620Z"
   },
   {
    "duration": 48,
    "start_time": "2022-04-08T06:04:28.056Z"
   },
   {
    "duration": 439,
    "start_time": "2022-04-08T06:04:47.274Z"
   },
   {
    "duration": 16,
    "start_time": "2022-04-08T06:05:27.824Z"
   },
   {
    "duration": 19,
    "start_time": "2022-04-08T06:05:36.568Z"
   },
   {
    "duration": 4,
    "start_time": "2022-04-08T06:05:43.275Z"
   },
   {
    "duration": 8,
    "start_time": "2022-04-08T06:05:51.638Z"
   },
   {
    "duration": 43,
    "start_time": "2022-04-08T06:05:56.711Z"
   },
   {
    "duration": 7,
    "start_time": "2022-04-08T06:07:58.536Z"
   },
   {
    "duration": 5,
    "start_time": "2022-04-08T06:08:12.996Z"
   },
   {
    "duration": 6,
    "start_time": "2022-04-08T06:48:24.049Z"
   },
   {
    "duration": 20,
    "start_time": "2022-04-08T06:49:03.894Z"
   },
   {
    "duration": 4,
    "start_time": "2022-04-08T06:52:30.639Z"
   },
   {
    "duration": 21,
    "start_time": "2022-04-08T06:54:10.847Z"
   },
   {
    "duration": 20,
    "start_time": "2022-04-08T06:54:36.484Z"
   },
   {
    "duration": 25,
    "start_time": "2022-04-08T06:54:48.649Z"
   },
   {
    "duration": 19,
    "start_time": "2022-04-08T10:04:57.894Z"
   },
   {
    "duration": 23,
    "start_time": "2022-04-08T10:32:41.288Z"
   },
   {
    "duration": 22,
    "start_time": "2022-04-08T10:43:10.971Z"
   },
   {
    "duration": 1319,
    "start_time": "2022-04-08T10:46:33.343Z"
   },
   {
    "duration": 1289,
    "start_time": "2022-04-08T10:46:51.107Z"
   },
   {
    "duration": 5,
    "start_time": "2022-04-08T10:47:03.021Z"
   },
   {
    "duration": 5,
    "start_time": "2022-04-08T10:47:24.585Z"
   },
   {
    "duration": 463,
    "start_time": "2022-04-08T10:47:56.655Z"
   },
   {
    "duration": 15,
    "start_time": "2022-04-08T10:48:05.927Z"
   },
   {
    "duration": 19,
    "start_time": "2022-04-08T10:48:09.071Z"
   },
   {
    "duration": 67,
    "start_time": "2022-04-08T10:48:49.125Z"
   },
   {
    "duration": 65,
    "start_time": "2022-04-08T10:48:58.639Z"
   },
   {
    "duration": 66,
    "start_time": "2022-04-08T10:49:05.736Z"
   },
   {
    "duration": 21,
    "start_time": "2022-04-08T10:49:15.290Z"
   },
   {
    "duration": 4,
    "start_time": "2022-04-08T10:49:49.819Z"
   },
   {
    "duration": 4,
    "start_time": "2022-04-08T10:50:45.315Z"
   },
   {
    "duration": 4,
    "start_time": "2022-04-08T10:50:59.228Z"
   },
   {
    "duration": 4,
    "start_time": "2022-04-08T10:51:02.535Z"
   },
   {
    "duration": 3,
    "start_time": "2022-04-08T10:51:16.851Z"
   },
   {
    "duration": 7,
    "start_time": "2022-04-08T10:51:20.959Z"
   },
   {
    "duration": 23,
    "start_time": "2022-04-08T11:06:50.469Z"
   },
   {
    "duration": 22,
    "start_time": "2022-04-08T11:07:23.880Z"
   },
   {
    "duration": 21,
    "start_time": "2022-04-08T11:07:38.799Z"
   },
   {
    "duration": 458,
    "start_time": "2022-04-08T11:10:58.652Z"
   },
   {
    "duration": 15,
    "start_time": "2022-04-08T11:11:08.045Z"
   },
   {
    "duration": 595,
    "start_time": "2022-04-08T11:23:40.099Z"
   },
   {
    "duration": 16,
    "start_time": "2022-04-08T11:23:45.509Z"
   },
   {
    "duration": 21,
    "start_time": "2022-04-08T11:23:53.299Z"
   },
   {
    "duration": 3,
    "start_time": "2022-04-08T11:24:19.246Z"
   },
   {
    "duration": 7,
    "start_time": "2022-04-08T11:24:23.087Z"
   },
   {
    "duration": 44,
    "start_time": "2022-04-08T11:26:15.699Z"
   },
   {
    "duration": 20,
    "start_time": "2022-04-08T11:26:33.365Z"
   },
   {
    "duration": 4,
    "start_time": "2022-04-08T11:26:57.780Z"
   },
   {
    "duration": 4,
    "start_time": "2022-04-08T11:27:02.612Z"
   },
   {
    "duration": 4,
    "start_time": "2022-04-08T11:27:39.723Z"
   },
   {
    "duration": 4,
    "start_time": "2022-04-08T11:27:51.216Z"
   },
   {
    "duration": 23,
    "start_time": "2022-04-08T11:39:16.915Z"
   },
   {
    "duration": 4,
    "start_time": "2022-04-08T11:41:41.677Z"
   },
   {
    "duration": 4,
    "start_time": "2022-04-08T11:41:59.160Z"
   },
   {
    "duration": 4,
    "start_time": "2022-04-08T11:42:04.904Z"
   },
   {
    "duration": 4,
    "start_time": "2022-04-08T11:42:08.904Z"
   },
   {
    "duration": 21,
    "start_time": "2022-04-08T11:42:28.034Z"
   },
   {
    "duration": 4,
    "start_time": "2022-04-08T11:43:10.224Z"
   },
   {
    "duration": 4,
    "start_time": "2022-04-08T11:43:16.276Z"
   },
   {
    "duration": 21,
    "start_time": "2022-04-08T11:43:57.318Z"
   },
   {
    "duration": 23,
    "start_time": "2022-04-08T11:44:37.970Z"
   },
   {
    "duration": 24,
    "start_time": "2022-04-08T11:44:49.457Z"
   },
   {
    "duration": 24,
    "start_time": "2022-04-08T11:44:57.081Z"
   },
   {
    "duration": 27,
    "start_time": "2022-04-08T11:45:21.585Z"
   },
   {
    "duration": 4,
    "start_time": "2022-04-08T11:45:58.843Z"
   },
   {
    "duration": 20,
    "start_time": "2022-04-08T11:46:12.670Z"
   },
   {
    "duration": 21,
    "start_time": "2022-04-08T11:46:33.452Z"
   },
   {
    "duration": 20,
    "start_time": "2022-04-08T11:46:49.311Z"
   },
   {
    "duration": 19,
    "start_time": "2022-04-08T11:46:55.259Z"
   },
   {
    "duration": 23,
    "start_time": "2022-04-08T11:47:11.800Z"
   },
   {
    "duration": 23,
    "start_time": "2022-04-08T11:47:19.809Z"
   },
   {
    "duration": 23,
    "start_time": "2022-04-08T11:47:24.688Z"
   },
   {
    "duration": 22,
    "start_time": "2022-04-08T11:47:30.277Z"
   },
   {
    "duration": 41,
    "start_time": "2022-04-08T12:33:08.294Z"
   },
   {
    "duration": 25,
    "start_time": "2022-04-08T12:33:28.042Z"
   },
   {
    "duration": 29,
    "start_time": "2022-04-08T12:33:34.119Z"
   },
   {
    "duration": 19,
    "start_time": "2022-04-08T12:33:54.310Z"
   },
   {
    "duration": 76,
    "start_time": "2022-04-08T12:34:24.468Z"
   },
   {
    "duration": 5,
    "start_time": "2022-04-08T12:34:28.778Z"
   },
   {
    "duration": 5,
    "start_time": "2022-04-08T12:34:37.640Z"
   },
   {
    "duration": 5,
    "start_time": "2022-04-08T12:34:41.597Z"
   },
   {
    "duration": 6,
    "start_time": "2022-04-08T12:34:47.804Z"
   },
   {
    "duration": 7,
    "start_time": "2022-04-08T12:35:15.157Z"
   },
   {
    "duration": 64,
    "start_time": "2022-04-08T12:39:17.607Z"
   },
   {
    "duration": 9,
    "start_time": "2022-04-08T12:39:26.683Z"
   },
   {
    "duration": 24,
    "start_time": "2022-04-08T12:39:38.232Z"
   },
   {
    "duration": 26,
    "start_time": "2022-04-08T12:40:56.959Z"
   },
   {
    "duration": 23,
    "start_time": "2022-04-08T12:41:00.467Z"
   },
   {
    "duration": 435,
    "start_time": "2022-04-08T12:41:44.200Z"
   },
   {
    "duration": 4,
    "start_time": "2022-04-08T12:42:03.185Z"
   },
   {
    "duration": 44,
    "start_time": "2022-04-08T12:42:06.045Z"
   },
   {
    "duration": 24,
    "start_time": "2022-04-08T12:42:12.319Z"
   },
   {
    "duration": 22,
    "start_time": "2022-04-08T12:42:38.009Z"
   },
   {
    "duration": 30,
    "start_time": "2022-04-08T12:49:22.556Z"
   },
   {
    "duration": 20,
    "start_time": "2022-04-08T12:49:56.414Z"
   },
   {
    "duration": 7,
    "start_time": "2022-04-08T12:56:20.133Z"
   },
   {
    "duration": 25,
    "start_time": "2022-04-08T12:58:41.162Z"
   },
   {
    "duration": 20,
    "start_time": "2022-04-08T13:06:00.730Z"
   },
   {
    "duration": 23,
    "start_time": "2022-04-08T13:06:10.304Z"
   },
   {
    "duration": 1497,
    "start_time": "2022-04-08T13:06:31.684Z"
   },
   {
    "duration": 10,
    "start_time": "2022-04-08T13:06:39.749Z"
   },
   {
    "duration": 12,
    "start_time": "2022-04-08T13:06:56.498Z"
   },
   {
    "duration": 8,
    "start_time": "2022-04-08T13:07:21.495Z"
   },
   {
    "duration": 20,
    "start_time": "2022-04-08T13:11:07.923Z"
   },
   {
    "duration": 6,
    "start_time": "2022-04-08T13:27:57.551Z"
   },
   {
    "duration": 19,
    "start_time": "2022-04-08T13:27:59.956Z"
   },
   {
    "duration": 143,
    "start_time": "2022-04-08T13:30:09.097Z"
   },
   {
    "duration": 1334,
    "start_time": "2022-04-08T13:30:37.391Z"
   },
   {
    "duration": 10,
    "start_time": "2022-04-08T13:31:04.221Z"
   },
   {
    "duration": 5,
    "start_time": "2022-04-08T13:31:39.031Z"
   },
   {
    "duration": 10,
    "start_time": "2022-04-08T13:32:07.034Z"
   },
   {
    "duration": 6,
    "start_time": "2022-04-08T13:32:11.185Z"
   },
   {
    "duration": 22,
    "start_time": "2022-04-08T13:33:48.072Z"
   },
   {
    "duration": 19,
    "start_time": "2022-04-08T13:34:30.935Z"
   },
   {
    "duration": 1397,
    "start_time": "2022-04-08T13:34:53.665Z"
   },
   {
    "duration": 18,
    "start_time": "2022-04-08T13:37:06.791Z"
   },
   {
    "duration": 15,
    "start_time": "2022-04-08T13:52:36.472Z"
   },
   {
    "duration": 12,
    "start_time": "2022-04-08T13:52:44.118Z"
   },
   {
    "duration": 25,
    "start_time": "2022-04-08T13:54:13.883Z"
   },
   {
    "duration": 6,
    "start_time": "2022-04-08T13:55:34.768Z"
   },
   {
    "duration": 6,
    "start_time": "2022-04-08T13:55:41.756Z"
   },
   {
    "duration": 5,
    "start_time": "2022-04-08T13:55:50.990Z"
   },
   {
    "duration": 8,
    "start_time": "2022-04-08T13:56:06.619Z"
   },
   {
    "duration": 16,
    "start_time": "2022-04-08T13:56:30.911Z"
   },
   {
    "duration": 18,
    "start_time": "2022-04-08T13:56:43.263Z"
   },
   {
    "duration": 7,
    "start_time": "2022-04-08T13:56:47.677Z"
   },
   {
    "duration": 16,
    "start_time": "2022-04-08T13:57:02.994Z"
   },
   {
    "duration": 480,
    "start_time": "2022-04-08T13:57:38.614Z"
   },
   {
    "duration": 18,
    "start_time": "2022-04-08T13:57:43.755Z"
   },
   {
    "duration": 15,
    "start_time": "2022-04-08T14:06:57.841Z"
   },
   {
    "duration": 19,
    "start_time": "2022-04-08T14:07:02.275Z"
   },
   {
    "duration": 4,
    "start_time": "2022-04-08T14:08:33.153Z"
   },
   {
    "duration": 7,
    "start_time": "2022-04-08T14:08:35.238Z"
   },
   {
    "duration": 45,
    "start_time": "2022-04-08T14:08:37.448Z"
   },
   {
    "duration": 26,
    "start_time": "2022-04-08T14:08:43.675Z"
   },
   {
    "duration": 48,
    "start_time": "2022-04-08T14:08:49.758Z"
   },
   {
    "duration": 7,
    "start_time": "2022-04-08T14:09:05.233Z"
   },
   {
    "duration": 7,
    "start_time": "2022-04-08T14:09:09.301Z"
   },
   {
    "duration": 6,
    "start_time": "2022-04-08T14:35:58.714Z"
   },
   {
    "duration": 85,
    "start_time": "2022-04-08T14:39:56.131Z"
   },
   {
    "duration": 5,
    "start_time": "2022-04-08T14:42:51.525Z"
   },
   {
    "duration": 18,
    "start_time": "2022-04-08T14:43:15.394Z"
   },
   {
    "duration": 7,
    "start_time": "2022-04-08T14:43:40.907Z"
   },
   {
    "duration": 35,
    "start_time": "2022-04-08T14:46:44.517Z"
   },
   {
    "duration": 18,
    "start_time": "2022-04-08T14:47:06.667Z"
   },
   {
    "duration": 36,
    "start_time": "2022-04-08T14:47:30.617Z"
   },
   {
    "duration": 19,
    "start_time": "2022-04-08T14:47:56.461Z"
   },
   {
    "duration": 18,
    "start_time": "2022-04-08T14:48:05.488Z"
   },
   {
    "duration": 7,
    "start_time": "2022-04-08T14:49:55.067Z"
   },
   {
    "duration": 7,
    "start_time": "2022-04-08T14:51:25.078Z"
   },
   {
    "duration": 17,
    "start_time": "2022-04-08T14:51:44.099Z"
   },
   {
    "duration": 21,
    "start_time": "2022-04-08T15:25:01.735Z"
   },
   {
    "duration": 9,
    "start_time": "2022-04-08T15:25:54.197Z"
   },
   {
    "duration": 26,
    "start_time": "2022-04-08T15:26:01.931Z"
   },
   {
    "duration": 8,
    "start_time": "2022-04-08T15:26:10.720Z"
   },
   {
    "duration": 17,
    "start_time": "2022-04-08T15:26:17.061Z"
   },
   {
    "duration": 23,
    "start_time": "2022-04-08T15:26:33.855Z"
   },
   {
    "duration": 31,
    "start_time": "2022-04-08T15:34:19.562Z"
   },
   {
    "duration": 19,
    "start_time": "2022-04-08T15:34:33.346Z"
   },
   {
    "duration": 28,
    "start_time": "2022-04-08T15:34:38.078Z"
   },
   {
    "duration": 18,
    "start_time": "2022-04-08T15:35:01.815Z"
   },
   {
    "duration": 16,
    "start_time": "2022-04-08T15:35:14.597Z"
   },
   {
    "duration": 17,
    "start_time": "2022-04-08T15:35:19.950Z"
   },
   {
    "duration": 19,
    "start_time": "2022-04-08T15:35:40.797Z"
   },
   {
    "duration": 28,
    "start_time": "2022-04-08T15:35:57.866Z"
   },
   {
    "duration": 93,
    "start_time": "2022-04-08T15:37:22.432Z"
   },
   {
    "duration": 71,
    "start_time": "2022-04-08T15:37:27.216Z"
   },
   {
    "duration": 7,
    "start_time": "2022-04-08T15:37:55.070Z"
   },
   {
    "duration": 11,
    "start_time": "2022-04-08T15:38:52.900Z"
   },
   {
    "duration": 6,
    "start_time": "2022-04-08T15:39:34.760Z"
   },
   {
    "duration": 7,
    "start_time": "2022-04-08T15:54:46.873Z"
   },
   {
    "duration": 7,
    "start_time": "2022-04-08T15:55:18.682Z"
   },
   {
    "duration": 6,
    "start_time": "2022-04-08T15:55:56.711Z"
   },
   {
    "duration": 7,
    "start_time": "2022-04-08T15:56:37.569Z"
   },
   {
    "duration": 8,
    "start_time": "2022-04-08T15:57:05.387Z"
   },
   {
    "duration": 17,
    "start_time": "2022-04-08T17:15:24.655Z"
   },
   {
    "duration": 27,
    "start_time": "2022-04-08T17:18:00.956Z"
   },
   {
    "duration": 26,
    "start_time": "2022-04-08T17:18:39.705Z"
   },
   {
    "duration": 1447,
    "start_time": "2022-04-08T17:18:52.180Z"
   },
   {
    "duration": 19,
    "start_time": "2022-04-08T17:19:05.161Z"
   },
   {
    "duration": 19,
    "start_time": "2022-04-08T17:19:12.250Z"
   },
   {
    "duration": 41,
    "start_time": "2022-04-08T17:19:28.361Z"
   },
   {
    "duration": 7,
    "start_time": "2022-04-08T17:39:40.636Z"
   },
   {
    "duration": 5,
    "start_time": "2022-04-08T17:46:24.349Z"
   },
   {
    "duration": 5,
    "start_time": "2022-04-08T17:47:01.272Z"
   },
   {
    "duration": 5,
    "start_time": "2022-04-08T17:47:15.195Z"
   },
   {
    "duration": 8,
    "start_time": "2022-04-08T17:51:56.966Z"
   },
   {
    "duration": 9,
    "start_time": "2022-04-08T17:52:09.467Z"
   },
   {
    "duration": 9,
    "start_time": "2022-04-08T17:53:01.148Z"
   },
   {
    "duration": 20,
    "start_time": "2022-04-08T17:53:57.805Z"
   },
   {
    "duration": 8,
    "start_time": "2022-04-08T17:56:29.366Z"
   },
   {
    "duration": 11,
    "start_time": "2022-04-08T17:56:41.473Z"
   },
   {
    "duration": 3,
    "start_time": "2022-04-08T17:57:13.445Z"
   },
   {
    "duration": 21,
    "start_time": "2022-04-08T17:57:23.839Z"
   },
   {
    "duration": 6,
    "start_time": "2022-04-08T17:57:53.437Z"
   },
   {
    "duration": 14,
    "start_time": "2022-04-08T17:58:40.173Z"
   },
   {
    "duration": 10,
    "start_time": "2022-04-08T18:25:44.840Z"
   },
   {
    "duration": 21,
    "start_time": "2022-04-08T18:27:06.250Z"
   },
   {
    "duration": 19,
    "start_time": "2022-04-08T18:27:17.763Z"
   },
   {
    "duration": 10,
    "start_time": "2022-04-08T19:01:21.171Z"
   },
   {
    "duration": 13,
    "start_time": "2022-04-08T19:02:29.212Z"
   },
   {
    "duration": 81,
    "start_time": "2022-04-08T19:03:45.571Z"
   },
   {
    "duration": 11,
    "start_time": "2022-04-08T19:03:56.120Z"
   },
   {
    "duration": 13,
    "start_time": "2022-04-08T19:04:21.058Z"
   },
   {
    "duration": 18,
    "start_time": "2022-04-08T19:06:36.991Z"
   },
   {
    "duration": 16,
    "start_time": "2022-04-08T19:07:07.130Z"
   },
   {
    "duration": 26,
    "start_time": "2022-04-08T19:07:26.445Z"
   },
   {
    "duration": 479,
    "start_time": "2022-04-09T07:13:57.871Z"
   },
   {
    "duration": 15,
    "start_time": "2022-04-09T07:14:02.088Z"
   },
   {
    "duration": 19,
    "start_time": "2022-04-09T07:14:19.354Z"
   },
   {
    "duration": 3,
    "start_time": "2022-04-09T07:14:35.886Z"
   },
   {
    "duration": 41,
    "start_time": "2022-04-09T07:15:13.596Z"
   },
   {
    "duration": 25,
    "start_time": "2022-04-09T07:16:32.417Z"
   },
   {
    "duration": 16,
    "start_time": "2022-04-09T07:17:42.482Z"
   },
   {
    "duration": 24,
    "start_time": "2022-04-09T07:18:01.287Z"
   },
   {
    "duration": 4,
    "start_time": "2022-04-09T07:18:54.780Z"
   },
   {
    "duration": 24,
    "start_time": "2022-04-09T07:19:35.341Z"
   },
   {
    "duration": 24,
    "start_time": "2022-04-09T07:19:53.277Z"
   },
   {
    "duration": 21,
    "start_time": "2022-04-09T07:21:01.986Z"
   },
   {
    "duration": 21,
    "start_time": "2022-04-09T07:21:07.719Z"
   },
   {
    "duration": 441,
    "start_time": "2022-04-09T07:49:25.017Z"
   },
   {
    "duration": 4,
    "start_time": "2022-04-09T07:49:35.104Z"
   },
   {
    "duration": 4,
    "start_time": "2022-04-09T07:49:37.365Z"
   },
   {
    "duration": 41,
    "start_time": "2022-04-09T07:49:41.200Z"
   },
   {
    "duration": 24,
    "start_time": "2022-04-09T07:49:46.450Z"
   },
   {
    "duration": 21,
    "start_time": "2022-04-09T07:49:53.794Z"
   },
   {
    "duration": 7,
    "start_time": "2022-04-09T07:50:00.389Z"
   },
   {
    "duration": 9,
    "start_time": "2022-04-09T07:50:11.359Z"
   },
   {
    "duration": 5,
    "start_time": "2022-04-09T07:50:19.246Z"
   },
   {
    "duration": 8,
    "start_time": "2022-04-09T07:50:25.228Z"
   },
   {
    "duration": 7,
    "start_time": "2022-04-09T07:50:42.081Z"
   },
   {
    "duration": 15,
    "start_time": "2022-04-09T07:50:46.390Z"
   },
   {
    "duration": 19,
    "start_time": "2022-04-09T07:51:00.313Z"
   },
   {
    "duration": 34,
    "start_time": "2022-04-09T07:51:24.595Z"
   },
   {
    "duration": 18,
    "start_time": "2022-04-09T07:51:30.473Z"
   },
   {
    "duration": 59,
    "start_time": "2022-04-09T07:52:22.412Z"
   },
   {
    "duration": 5,
    "start_time": "2022-04-09T07:52:41.039Z"
   },
   {
    "duration": 15,
    "start_time": "2022-04-09T07:52:54.108Z"
   },
   {
    "duration": 205,
    "start_time": "2022-04-09T07:57:27.233Z"
   },
   {
    "duration": 2807,
    "start_time": "2022-04-09T07:57:41.697Z"
   },
   {
    "duration": 15,
    "start_time": "2022-04-09T07:57:59.396Z"
   },
   {
    "duration": 521,
    "start_time": "2022-04-09T07:58:55.848Z"
   },
   {
    "duration": 13,
    "start_time": "2022-04-09T07:58:56.371Z"
   },
   {
    "duration": 17,
    "start_time": "2022-04-09T07:58:56.385Z"
   },
   {
    "duration": 3,
    "start_time": "2022-04-09T07:58:56.404Z"
   },
   {
    "duration": 10,
    "start_time": "2022-04-09T07:58:56.408Z"
   },
   {
    "duration": 63,
    "start_time": "2022-04-09T07:58:56.419Z"
   },
   {
    "duration": 24,
    "start_time": "2022-04-09T07:58:56.483Z"
   },
   {
    "duration": 21,
    "start_time": "2022-04-09T07:58:56.508Z"
   },
   {
    "duration": 6,
    "start_time": "2022-04-09T07:58:56.530Z"
   },
   {
    "duration": 10,
    "start_time": "2022-04-09T07:58:56.538Z"
   },
   {
    "duration": 32,
    "start_time": "2022-04-09T07:58:56.550Z"
   },
   {
    "duration": 5,
    "start_time": "2022-04-09T07:58:56.584Z"
   },
   {
    "duration": 7,
    "start_time": "2022-04-09T07:58:56.591Z"
   },
   {
    "duration": 6,
    "start_time": "2022-04-09T07:58:56.599Z"
   },
   {
    "duration": 16,
    "start_time": "2022-04-09T07:58:56.606Z"
   },
   {
    "duration": 20,
    "start_time": "2022-04-09T07:58:57.008Z"
   },
   {
    "duration": 33,
    "start_time": "2022-04-09T07:58:57.030Z"
   },
   {
    "duration": 29,
    "start_time": "2022-04-09T07:59:01.479Z"
   },
   {
    "duration": 18,
    "start_time": "2022-04-09T07:59:05.269Z"
   },
   {
    "duration": 17,
    "start_time": "2022-04-09T07:59:33.515Z"
   },
   {
    "duration": 463,
    "start_time": "2022-04-09T20:01:05.561Z"
   },
   {
    "duration": 13,
    "start_time": "2022-04-09T20:01:06.025Z"
   },
   {
    "duration": 18,
    "start_time": "2022-04-09T20:01:06.040Z"
   },
   {
    "duration": 11,
    "start_time": "2022-04-09T20:01:06.060Z"
   },
   {
    "duration": 9,
    "start_time": "2022-04-09T20:01:06.072Z"
   },
   {
    "duration": 36,
    "start_time": "2022-04-09T20:01:06.082Z"
   },
   {
    "duration": 22,
    "start_time": "2022-04-09T20:01:06.120Z"
   },
   {
    "duration": 40,
    "start_time": "2022-04-09T20:01:06.143Z"
   },
   {
    "duration": 6,
    "start_time": "2022-04-09T20:01:06.184Z"
   },
   {
    "duration": 5,
    "start_time": "2022-04-09T20:01:06.192Z"
   },
   {
    "duration": 9,
    "start_time": "2022-04-09T20:01:06.198Z"
   },
   {
    "duration": 4,
    "start_time": "2022-04-09T20:01:06.209Z"
   },
   {
    "duration": 7,
    "start_time": "2022-04-09T20:01:06.215Z"
   },
   {
    "duration": 6,
    "start_time": "2022-04-09T20:01:06.224Z"
   },
   {
    "duration": 17,
    "start_time": "2022-04-09T20:01:06.325Z"
   },
   {
    "duration": 18,
    "start_time": "2022-04-09T20:01:06.642Z"
   },
   {
    "duration": 33,
    "start_time": "2022-04-09T20:01:06.754Z"
   },
   {
    "duration": 17,
    "start_time": "2022-04-09T20:01:06.789Z"
   },
   {
    "duration": 15,
    "start_time": "2022-04-09T20:01:06.807Z"
   },
   {
    "duration": 59,
    "start_time": "2022-04-09T20:01:42.763Z"
   },
   {
    "duration": 5,
    "start_time": "2022-04-09T20:02:00.901Z"
   },
   {
    "duration": 6,
    "start_time": "2022-04-09T20:02:18.057Z"
   },
   {
    "duration": 12,
    "start_time": "2022-04-09T20:02:55.485Z"
   },
   {
    "duration": 11,
    "start_time": "2022-04-09T20:03:01.050Z"
   },
   {
    "duration": 8,
    "start_time": "2022-04-09T20:03:12.208Z"
   },
   {
    "duration": 6,
    "start_time": "2022-04-09T20:04:40.045Z"
   },
   {
    "duration": 6,
    "start_time": "2022-04-09T20:04:53.755Z"
   },
   {
    "duration": 7,
    "start_time": "2022-04-09T20:05:04.660Z"
   },
   {
    "duration": 1590,
    "start_time": "2022-04-09T20:05:46.101Z"
   },
   {
    "duration": 4,
    "start_time": "2022-04-09T20:05:58.479Z"
   },
   {
    "duration": 453,
    "start_time": "2022-04-09T20:06:34.245Z"
   },
   {
    "duration": 62,
    "start_time": "2022-04-09T20:06:49.472Z"
   },
   {
    "duration": 7,
    "start_time": "2022-04-09T20:08:45.441Z"
   },
   {
    "duration": 449,
    "start_time": "2022-04-09T20:09:46.665Z"
   },
   {
    "duration": 12,
    "start_time": "2022-04-09T20:09:47.116Z"
   },
   {
    "duration": 18,
    "start_time": "2022-04-09T20:09:47.130Z"
   },
   {
    "duration": 2,
    "start_time": "2022-04-09T20:09:47.150Z"
   },
   {
    "duration": 20,
    "start_time": "2022-04-09T20:09:47.154Z"
   },
   {
    "duration": 37,
    "start_time": "2022-04-09T20:09:47.176Z"
   },
   {
    "duration": 22,
    "start_time": "2022-04-09T20:09:47.214Z"
   },
   {
    "duration": 40,
    "start_time": "2022-04-09T20:09:47.238Z"
   },
   {
    "duration": 6,
    "start_time": "2022-04-09T20:09:47.279Z"
   },
   {
    "duration": 5,
    "start_time": "2022-04-09T20:09:47.286Z"
   },
   {
    "duration": 9,
    "start_time": "2022-04-09T20:09:47.292Z"
   },
   {
    "duration": 5,
    "start_time": "2022-04-09T20:09:47.464Z"
   },
   {
    "duration": 9,
    "start_time": "2022-04-09T20:09:47.471Z"
   },
   {
    "duration": 6,
    "start_time": "2022-04-09T20:09:47.481Z"
   },
   {
    "duration": 13,
    "start_time": "2022-04-09T20:09:47.576Z"
   },
   {
    "duration": 18,
    "start_time": "2022-04-09T20:09:47.591Z"
   },
   {
    "duration": 30,
    "start_time": "2022-04-09T20:09:47.611Z"
   },
   {
    "duration": 17,
    "start_time": "2022-04-09T20:09:47.892Z"
   },
   {
    "duration": 13,
    "start_time": "2022-04-09T20:09:47.911Z"
   },
   {
    "duration": 7,
    "start_time": "2022-04-09T20:10:45.879Z"
   },
   {
    "duration": 10,
    "start_time": "2022-04-09T20:12:05.538Z"
   },
   {
    "duration": 458,
    "start_time": "2022-04-09T20:12:38.640Z"
   },
   {
    "duration": 62,
    "start_time": "2022-04-09T20:15:32.587Z"
   },
   {
    "duration": 54,
    "start_time": "2022-04-09T20:17:07.471Z"
   },
   {
    "duration": 449,
    "start_time": "2022-04-09T20:19:05.946Z"
   },
   {
    "duration": 13,
    "start_time": "2022-04-09T20:19:06.397Z"
   },
   {
    "duration": 17,
    "start_time": "2022-04-09T20:19:06.412Z"
   },
   {
    "duration": 3,
    "start_time": "2022-04-09T20:19:06.432Z"
   },
   {
    "duration": 10,
    "start_time": "2022-04-09T20:19:06.436Z"
   },
   {
    "duration": 34,
    "start_time": "2022-04-09T20:19:06.471Z"
   },
   {
    "duration": 22,
    "start_time": "2022-04-09T20:19:06.506Z"
   },
   {
    "duration": 19,
    "start_time": "2022-04-09T20:19:06.530Z"
   },
   {
    "duration": 6,
    "start_time": "2022-04-09T20:19:06.571Z"
   },
   {
    "duration": 5,
    "start_time": "2022-04-09T20:19:06.775Z"
   },
   {
    "duration": 11,
    "start_time": "2022-04-09T20:19:06.781Z"
   },
   {
    "duration": 5,
    "start_time": "2022-04-09T20:19:06.793Z"
   },
   {
    "duration": 7,
    "start_time": "2022-04-09T20:19:06.889Z"
   },
   {
    "duration": 5,
    "start_time": "2022-04-09T20:19:06.898Z"
   },
   {
    "duration": 13,
    "start_time": "2022-04-09T20:19:06.905Z"
   },
   {
    "duration": 16,
    "start_time": "2022-04-09T20:19:07.342Z"
   },
   {
    "duration": 30,
    "start_time": "2022-04-09T20:19:07.906Z"
   },
   {
    "duration": 16,
    "start_time": "2022-04-09T20:19:07.938Z"
   },
   {
    "duration": 14,
    "start_time": "2022-04-09T20:19:07.955Z"
   },
   {
    "duration": 17,
    "start_time": "2022-04-09T20:19:23.636Z"
   },
   {
    "duration": 14,
    "start_time": "2022-04-09T20:20:17.959Z"
   },
   {
    "duration": 5,
    "start_time": "2022-04-09T20:21:18.036Z"
   },
   {
    "duration": 6,
    "start_time": "2022-04-09T20:21:35.667Z"
   },
   {
    "duration": 459,
    "start_time": "2022-04-09T20:22:03.948Z"
   },
   {
    "duration": 3,
    "start_time": "2022-04-09T20:23:57.642Z"
   },
   {
    "duration": 19,
    "start_time": "2022-04-09T20:24:16.647Z"
   },
   {
    "duration": 3,
    "start_time": "2022-04-09T20:24:31.251Z"
   },
   {
    "duration": 7,
    "start_time": "2022-04-09T20:24:35.692Z"
   },
   {
    "duration": 7,
    "start_time": "2022-04-09T20:25:02.753Z"
   },
   {
    "duration": 9,
    "start_time": "2022-04-09T20:25:14.312Z"
   },
   {
    "duration": 6,
    "start_time": "2022-04-09T20:25:28.897Z"
   },
   {
    "duration": 23,
    "start_time": "2022-04-09T21:07:36.988Z"
   },
   {
    "duration": 19,
    "start_time": "2022-04-09T21:07:56.522Z"
   },
   {
    "duration": 32,
    "start_time": "2022-04-09T21:08:31.423Z"
   },
   {
    "duration": 384,
    "start_time": "2022-04-09T21:10:12.321Z"
   },
   {
    "duration": 5,
    "start_time": "2022-04-09T21:10:26.506Z"
   },
   {
    "duration": 4,
    "start_time": "2022-04-09T21:11:10.394Z"
   },
   {
    "duration": 7,
    "start_time": "2022-04-09T21:11:58.514Z"
   },
   {
    "duration": 7,
    "start_time": "2022-04-09T21:12:13.712Z"
   },
   {
    "duration": 39,
    "start_time": "2022-04-09T21:12:46.042Z"
   },
   {
    "duration": 11,
    "start_time": "2022-04-09T21:13:46.702Z"
   },
   {
    "duration": 11,
    "start_time": "2022-04-09T21:14:43.007Z"
   },
   {
    "duration": 419,
    "start_time": "2022-04-09T21:15:04.893Z"
   },
   {
    "duration": 46,
    "start_time": "2022-04-09T21:15:12.202Z"
   },
   {
    "duration": 59,
    "start_time": "2022-04-09T21:15:21.300Z"
   },
   {
    "duration": 404,
    "start_time": "2022-04-09T21:16:39.902Z"
   },
   {
    "duration": 12,
    "start_time": "2022-04-09T21:16:40.308Z"
   },
   {
    "duration": 18,
    "start_time": "2022-04-09T21:16:40.322Z"
   },
   {
    "duration": 3,
    "start_time": "2022-04-09T21:16:40.342Z"
   },
   {
    "duration": 27,
    "start_time": "2022-04-09T21:16:40.346Z"
   },
   {
    "duration": 38,
    "start_time": "2022-04-09T21:16:40.374Z"
   },
   {
    "duration": 22,
    "start_time": "2022-04-09T21:16:40.413Z"
   },
   {
    "duration": 35,
    "start_time": "2022-04-09T21:16:40.436Z"
   },
   {
    "duration": 6,
    "start_time": "2022-04-09T21:16:40.473Z"
   },
   {
    "duration": 6,
    "start_time": "2022-04-09T21:16:40.481Z"
   },
   {
    "duration": 9,
    "start_time": "2022-04-09T21:16:40.488Z"
   },
   {
    "duration": 5,
    "start_time": "2022-04-09T21:16:40.498Z"
   },
   {
    "duration": 7,
    "start_time": "2022-04-09T21:16:40.505Z"
   },
   {
    "duration": 6,
    "start_time": "2022-04-09T21:16:40.631Z"
   },
   {
    "duration": 15,
    "start_time": "2022-04-09T21:16:40.640Z"
   },
   {
    "duration": 18,
    "start_time": "2022-04-09T21:16:40.756Z"
   },
   {
    "duration": 30,
    "start_time": "2022-04-09T21:16:40.776Z"
   },
   {
    "duration": 17,
    "start_time": "2022-04-09T21:16:40.807Z"
   },
   {
    "duration": 13,
    "start_time": "2022-04-09T21:16:40.898Z"
   },
   {
    "duration": 15,
    "start_time": "2022-04-09T21:17:33.434Z"
   },
   {
    "duration": 116,
    "start_time": "2022-04-09T21:18:01.440Z"
   },
   {
    "duration": 9,
    "start_time": "2022-04-09T21:18:06.274Z"
   },
   {
    "duration": 549,
    "start_time": "2022-04-10T06:19:56.000Z"
   },
   {
    "duration": 17,
    "start_time": "2022-04-10T06:19:56.551Z"
   },
   {
    "duration": 22,
    "start_time": "2022-04-10T06:19:56.569Z"
   },
   {
    "duration": 4,
    "start_time": "2022-04-10T06:19:56.593Z"
   },
   {
    "duration": 34,
    "start_time": "2022-04-10T06:19:56.599Z"
   },
   {
    "duration": 47,
    "start_time": "2022-04-10T06:19:56.635Z"
   },
   {
    "duration": 27,
    "start_time": "2022-04-10T06:19:56.684Z"
   },
   {
    "duration": 26,
    "start_time": "2022-04-10T06:19:56.732Z"
   },
   {
    "duration": 7,
    "start_time": "2022-04-10T06:19:56.760Z"
   },
   {
    "duration": 6,
    "start_time": "2022-04-10T06:19:56.769Z"
   },
   {
    "duration": 12,
    "start_time": "2022-04-10T06:19:56.776Z"
   },
   {
    "duration": 4,
    "start_time": "2022-04-10T06:19:56.790Z"
   },
   {
    "duration": 5,
    "start_time": "2022-04-10T06:19:57.199Z"
   },
   {
    "duration": 12,
    "start_time": "2022-04-10T06:19:57.206Z"
   },
   {
    "duration": 6,
    "start_time": "2022-04-10T06:19:57.220Z"
   },
   {
    "duration": 17,
    "start_time": "2022-04-10T06:19:57.309Z"
   },
   {
    "duration": 21,
    "start_time": "2022-04-10T06:19:58.005Z"
   },
   {
    "duration": 38,
    "start_time": "2022-04-10T06:19:58.233Z"
   },
   {
    "duration": 20,
    "start_time": "2022-04-10T06:19:58.273Z"
   },
   {
    "duration": 38,
    "start_time": "2022-04-10T06:19:58.294Z"
   },
   {
    "duration": 10,
    "start_time": "2022-04-10T06:20:58.419Z"
   },
   {
    "duration": 1143,
    "start_time": "2022-04-10T06:21:43.829Z"
   },
   {
    "duration": 2319,
    "start_time": "2022-04-10T06:21:50.125Z"
   },
   {
    "duration": 10,
    "start_time": "2022-04-10T06:22:20.166Z"
   },
   {
    "duration": 1096,
    "start_time": "2022-04-10T06:22:39.553Z"
   },
   {
    "duration": 134,
    "start_time": "2022-04-10T06:22:45.683Z"
   },
   {
    "duration": 2173,
    "start_time": "2022-04-10T06:22:49.198Z"
   },
   {
    "duration": 2250,
    "start_time": "2022-04-10T06:23:06.358Z"
   },
   {
    "duration": 6,
    "start_time": "2022-04-10T06:23:21.162Z"
   },
   {
    "duration": 5,
    "start_time": "2022-04-10T06:23:31.670Z"
   },
   {
    "duration": 14,
    "start_time": "2022-04-10T06:24:12.809Z"
   },
   {
    "duration": 488,
    "start_time": "2022-04-10T06:25:50.049Z"
   },
   {
    "duration": 15,
    "start_time": "2022-04-10T06:25:50.539Z"
   },
   {
    "duration": 22,
    "start_time": "2022-04-10T06:25:50.556Z"
   },
   {
    "duration": 3,
    "start_time": "2022-04-10T06:25:50.580Z"
   },
   {
    "duration": 10,
    "start_time": "2022-04-10T06:25:50.585Z"
   },
   {
    "duration": 71,
    "start_time": "2022-04-10T06:25:50.597Z"
   },
   {
    "duration": 29,
    "start_time": "2022-04-10T06:25:50.670Z"
   },
   {
    "duration": 46,
    "start_time": "2022-04-10T06:25:50.700Z"
   },
   {
    "duration": 7,
    "start_time": "2022-04-10T06:25:50.748Z"
   },
   {
    "duration": 7,
    "start_time": "2022-04-10T06:25:50.757Z"
   },
   {
    "duration": 14,
    "start_time": "2022-04-10T06:25:50.765Z"
   },
   {
    "duration": 27,
    "start_time": "2022-04-10T06:25:50.780Z"
   },
   {
    "duration": 6,
    "start_time": "2022-04-10T06:25:50.884Z"
   },
   {
    "duration": 11,
    "start_time": "2022-04-10T06:25:50.892Z"
   },
   {
    "duration": 8,
    "start_time": "2022-04-10T06:25:50.904Z"
   },
   {
    "duration": 17,
    "start_time": "2022-04-10T06:25:50.996Z"
   },
   {
    "duration": 20,
    "start_time": "2022-04-10T06:25:51.342Z"
   },
   {
    "duration": 37,
    "start_time": "2022-04-10T06:25:51.580Z"
   },
   {
    "duration": 20,
    "start_time": "2022-04-10T06:25:51.619Z"
   },
   {
    "duration": 16,
    "start_time": "2022-04-10T06:25:51.641Z"
   },
   {
    "duration": 10,
    "start_time": "2022-04-10T06:25:58.698Z"
   },
   {
    "duration": 10,
    "start_time": "2022-04-10T06:26:22.363Z"
   },
   {
    "duration": 14,
    "start_time": "2022-04-10T06:26:36.577Z"
   },
   {
    "duration": 14,
    "start_time": "2022-04-10T06:26:44.631Z"
   },
   {
    "duration": 10,
    "start_time": "2022-04-10T06:27:05.938Z"
   },
   {
    "duration": 9,
    "start_time": "2022-04-10T06:27:26.073Z"
   },
   {
    "duration": 1101,
    "start_time": "2022-04-10T06:27:53.280Z"
   },
   {
    "duration": 17,
    "start_time": "2022-04-10T06:27:54.383Z"
   },
   {
    "duration": 39,
    "start_time": "2022-04-10T06:27:54.402Z"
   },
   {
    "duration": 4,
    "start_time": "2022-04-10T06:27:54.444Z"
   },
   {
    "duration": 10,
    "start_time": "2022-04-10T06:27:54.450Z"
   },
   {
    "duration": 47,
    "start_time": "2022-04-10T06:27:54.462Z"
   },
   {
    "duration": 29,
    "start_time": "2022-04-10T06:27:54.531Z"
   },
   {
    "duration": 26,
    "start_time": "2022-04-10T06:27:54.562Z"
   },
   {
    "duration": 7,
    "start_time": "2022-04-10T06:27:54.590Z"
   },
   {
    "duration": 7,
    "start_time": "2022-04-10T06:27:54.632Z"
   },
   {
    "duration": 11,
    "start_time": "2022-04-10T06:27:54.640Z"
   },
   {
    "duration": 15,
    "start_time": "2022-04-10T06:27:54.653Z"
   },
   {
    "duration": 5,
    "start_time": "2022-04-10T06:27:54.670Z"
   },
   {
    "duration": 8,
    "start_time": "2022-04-10T06:27:54.677Z"
   },
   {
    "duration": 45,
    "start_time": "2022-04-10T06:27:54.687Z"
   },
   {
    "duration": 19,
    "start_time": "2022-04-10T06:27:54.734Z"
   },
   {
    "duration": 21,
    "start_time": "2022-04-10T06:27:54.755Z"
   },
   {
    "duration": 66,
    "start_time": "2022-04-10T06:27:54.777Z"
   },
   {
    "duration": 20,
    "start_time": "2022-04-10T06:27:54.844Z"
   },
   {
    "duration": 15,
    "start_time": "2022-04-10T06:27:54.866Z"
   },
   {
    "duration": 10,
    "start_time": "2022-04-10T06:28:06.652Z"
   },
   {
    "duration": 10,
    "start_time": "2022-04-10T06:28:56.815Z"
   },
   {
    "duration": 12,
    "start_time": "2022-04-10T06:29:04.763Z"
   },
   {
    "duration": 9,
    "start_time": "2022-04-10T06:29:09.208Z"
   },
   {
    "duration": 8,
    "start_time": "2022-04-10T06:29:33.634Z"
   },
   {
    "duration": 6,
    "start_time": "2022-04-10T06:29:44.285Z"
   },
   {
    "duration": 521,
    "start_time": "2022-04-10T06:30:07.202Z"
   },
   {
    "duration": 16,
    "start_time": "2022-04-10T06:30:07.725Z"
   },
   {
    "duration": 26,
    "start_time": "2022-04-10T06:30:07.742Z"
   },
   {
    "duration": 3,
    "start_time": "2022-04-10T06:30:07.770Z"
   },
   {
    "duration": 18,
    "start_time": "2022-04-10T06:30:07.774Z"
   },
   {
    "duration": 52,
    "start_time": "2022-04-10T06:30:07.793Z"
   },
   {
    "duration": 26,
    "start_time": "2022-04-10T06:30:07.847Z"
   },
   {
    "duration": 23,
    "start_time": "2022-04-10T06:30:07.875Z"
   },
   {
    "duration": 8,
    "start_time": "2022-04-10T06:30:07.899Z"
   },
   {
    "duration": 5,
    "start_time": "2022-04-10T06:30:07.933Z"
   },
   {
    "duration": 15,
    "start_time": "2022-04-10T06:30:07.940Z"
   },
   {
    "duration": 13,
    "start_time": "2022-04-10T06:30:16.160Z"
   },
   {
    "duration": 15,
    "start_time": "2022-04-10T06:30:42.291Z"
   },
   {
    "duration": 9,
    "start_time": "2022-04-10T06:31:21.152Z"
   },
   {
    "duration": 513,
    "start_time": "2022-04-10T06:31:44.135Z"
   },
   {
    "duration": 16,
    "start_time": "2022-04-10T06:31:44.651Z"
   },
   {
    "duration": 22,
    "start_time": "2022-04-10T06:31:44.669Z"
   },
   {
    "duration": 3,
    "start_time": "2022-04-10T06:31:44.694Z"
   },
   {
    "duration": 37,
    "start_time": "2022-04-10T06:31:44.699Z"
   },
   {
    "duration": 49,
    "start_time": "2022-04-10T06:31:44.737Z"
   },
   {
    "duration": 45,
    "start_time": "2022-04-10T06:31:44.788Z"
   },
   {
    "duration": 25,
    "start_time": "2022-04-10T06:31:44.835Z"
   },
   {
    "duration": 8,
    "start_time": "2022-04-10T06:31:44.861Z"
   },
   {
    "duration": 9,
    "start_time": "2022-04-10T06:31:44.871Z"
   },
   {
    "duration": 10,
    "start_time": "2022-04-10T06:31:44.882Z"
   },
   {
    "duration": 42,
    "start_time": "2022-04-10T06:31:44.894Z"
   },
   {
    "duration": 6,
    "start_time": "2022-04-10T06:31:44.937Z"
   },
   {
    "duration": 11,
    "start_time": "2022-04-10T06:31:44.944Z"
   },
   {
    "duration": 7,
    "start_time": "2022-04-10T06:31:44.956Z"
   },
   {
    "duration": 18,
    "start_time": "2022-04-10T06:31:44.965Z"
   },
   {
    "duration": 54,
    "start_time": "2022-04-10T06:31:44.984Z"
   },
   {
    "duration": 38,
    "start_time": "2022-04-10T06:31:45.041Z"
   },
   {
    "duration": 19,
    "start_time": "2022-04-10T06:31:45.082Z"
   },
   {
    "duration": 40,
    "start_time": "2022-04-10T06:31:45.103Z"
   },
   {
    "duration": 7,
    "start_time": "2022-04-10T06:32:04.612Z"
   },
   {
    "duration": 5,
    "start_time": "2022-04-10T06:32:07.703Z"
   },
   {
    "duration": 5,
    "start_time": "2022-04-10T06:32:12.411Z"
   },
   {
    "duration": 129,
    "start_time": "2022-04-10T06:50:26.095Z"
   },
   {
    "duration": 5,
    "start_time": "2022-04-10T06:50:50.630Z"
   },
   {
    "duration": 23,
    "start_time": "2022-04-10T06:55:56.922Z"
   },
   {
    "duration": 24,
    "start_time": "2022-04-10T06:57:39.823Z"
   },
   {
    "duration": 25,
    "start_time": "2022-04-10T07:00:18.247Z"
   },
   {
    "duration": 27,
    "start_time": "2022-04-10T07:02:34.371Z"
   },
   {
    "duration": 26,
    "start_time": "2022-04-10T07:02:49.848Z"
   },
   {
    "duration": 33,
    "start_time": "2022-04-10T07:04:11.533Z"
   },
   {
    "duration": 25,
    "start_time": "2022-04-10T07:04:21.460Z"
   },
   {
    "duration": 24,
    "start_time": "2022-04-10T07:04:35.606Z"
   },
   {
    "duration": 80,
    "start_time": "2022-04-10T07:12:39.899Z"
   },
   {
    "duration": 14,
    "start_time": "2022-04-10T07:12:54.321Z"
   },
   {
    "duration": 25,
    "start_time": "2022-04-10T07:13:03.786Z"
   },
   {
    "duration": 7,
    "start_time": "2022-04-10T07:22:53.734Z"
   },
   {
    "duration": 151,
    "start_time": "2022-04-10T07:45:11.748Z"
   },
   {
    "duration": 4,
    "start_time": "2022-04-10T07:45:37.593Z"
   },
   {
    "duration": 6,
    "start_time": "2022-04-10T07:46:17.848Z"
   },
   {
    "duration": 35,
    "start_time": "2022-04-10T07:47:01.078Z"
   },
   {
    "duration": 161,
    "start_time": "2022-04-10T07:47:32.104Z"
   },
   {
    "duration": 150,
    "start_time": "2022-04-10T07:47:51.012Z"
   },
   {
    "duration": 6,
    "start_time": "2022-04-10T07:47:57.396Z"
   },
   {
    "duration": 5,
    "start_time": "2022-04-10T07:48:44.909Z"
   },
   {
    "duration": 4,
    "start_time": "2022-04-10T07:49:08.751Z"
   },
   {
    "duration": 5,
    "start_time": "2022-04-10T07:49:43.781Z"
   },
   {
    "duration": 4,
    "start_time": "2022-04-10T07:50:35.576Z"
   },
   {
    "duration": 5,
    "start_time": "2022-04-10T07:50:43.277Z"
   },
   {
    "duration": 4,
    "start_time": "2022-04-10T07:50:53.687Z"
   },
   {
    "duration": 7,
    "start_time": "2022-04-10T07:51:24.338Z"
   },
   {
    "duration": 7,
    "start_time": "2022-04-10T07:52:35.930Z"
   },
   {
    "duration": 10,
    "start_time": "2022-04-10T07:53:59.326Z"
   },
   {
    "duration": 33,
    "start_time": "2022-04-10T07:54:04.208Z"
   },
   {
    "duration": 8,
    "start_time": "2022-04-10T07:59:09.348Z"
   },
   {
    "duration": 9,
    "start_time": "2022-04-10T07:59:18.203Z"
   },
   {
    "duration": 9,
    "start_time": "2022-04-10T07:59:23.429Z"
   },
   {
    "duration": 9,
    "start_time": "2022-04-10T07:59:27.448Z"
   },
   {
    "duration": 5,
    "start_time": "2022-04-10T07:59:37.315Z"
   },
   {
    "duration": 8,
    "start_time": "2022-04-10T07:59:49.011Z"
   },
   {
    "duration": 5,
    "start_time": "2022-04-10T08:00:00.721Z"
   },
   {
    "duration": 12,
    "start_time": "2022-04-10T08:00:22.623Z"
   },
   {
    "duration": 6,
    "start_time": "2022-04-10T08:00:26.418Z"
   },
   {
    "duration": 24,
    "start_time": "2022-04-10T08:28:29.649Z"
   },
   {
    "duration": 2288,
    "start_time": "2022-04-10T08:59:20.387Z"
   },
   {
    "duration": 2226,
    "start_time": "2022-04-10T08:59:46.059Z"
   },
   {
    "duration": 527,
    "start_time": "2022-04-10T09:00:04.523Z"
   },
   {
    "duration": 17,
    "start_time": "2022-04-10T09:00:05.052Z"
   },
   {
    "duration": 25,
    "start_time": "2022-04-10T09:00:05.070Z"
   },
   {
    "duration": 4,
    "start_time": "2022-04-10T09:00:05.098Z"
   },
   {
    "duration": 31,
    "start_time": "2022-04-10T09:00:05.103Z"
   },
   {
    "duration": 55,
    "start_time": "2022-04-10T09:00:05.136Z"
   },
   {
    "duration": 40,
    "start_time": "2022-04-10T09:00:05.193Z"
   },
   {
    "duration": 28,
    "start_time": "2022-04-10T09:00:05.235Z"
   },
   {
    "duration": 8,
    "start_time": "2022-04-10T09:00:05.264Z"
   },
   {
    "duration": 13,
    "start_time": "2022-04-10T09:00:05.275Z"
   },
   {
    "duration": 26,
    "start_time": "2022-04-10T09:00:05.290Z"
   },
   {
    "duration": 52,
    "start_time": "2022-04-10T09:00:05.318Z"
   },
   {
    "duration": 20,
    "start_time": "2022-04-10T09:00:05.371Z"
   },
   {
    "duration": 24,
    "start_time": "2022-04-10T09:00:05.392Z"
   },
   {
    "duration": 27,
    "start_time": "2022-04-10T09:00:05.418Z"
   },
   {
    "duration": 26,
    "start_time": "2022-04-10T09:00:05.447Z"
   },
   {
    "duration": 24,
    "start_time": "2022-04-10T09:00:05.475Z"
   },
   {
    "duration": 40,
    "start_time": "2022-04-10T09:00:05.500Z"
   },
   {
    "duration": 21,
    "start_time": "2022-04-10T09:00:05.542Z"
   },
   {
    "duration": 20,
    "start_time": "2022-04-10T09:00:05.564Z"
   },
   {
    "duration": 51,
    "start_time": "2022-04-10T09:00:05.585Z"
   },
   {
    "duration": 6,
    "start_time": "2022-04-10T09:00:05.638Z"
   },
   {
    "duration": 24,
    "start_time": "2022-04-10T09:00:14.622Z"
   },
   {
    "duration": 18,
    "start_time": "2022-04-10T09:04:36.851Z"
   },
   {
    "duration": 18,
    "start_time": "2022-04-10T09:06:45.925Z"
   },
   {
    "duration": 21,
    "start_time": "2022-04-10T09:08:50.032Z"
   },
   {
    "duration": 14,
    "start_time": "2022-04-10T09:11:12.214Z"
   },
   {
    "duration": 17,
    "start_time": "2022-04-10T09:11:21.567Z"
   },
   {
    "duration": 30,
    "start_time": "2022-04-10T09:12:19.721Z"
   },
   {
    "duration": 1753,
    "start_time": "2022-04-10T09:13:30.531Z"
   },
   {
    "duration": 1653,
    "start_time": "2022-04-10T09:13:42.764Z"
   },
   {
    "duration": 16,
    "start_time": "2022-04-10T09:13:50.958Z"
   },
   {
    "duration": 23,
    "start_time": "2022-04-10T09:14:35.062Z"
   },
   {
    "duration": 2248,
    "start_time": "2022-04-10T09:15:16.155Z"
   },
   {
    "duration": 4,
    "start_time": "2022-04-10T09:15:39.404Z"
   },
   {
    "duration": 23,
    "start_time": "2022-04-10T09:15:42.321Z"
   },
   {
    "duration": 1692,
    "start_time": "2022-04-10T09:15:58.905Z"
   },
   {
    "duration": 17,
    "start_time": "2022-04-10T09:20:58.847Z"
   },
   {
    "duration": 15,
    "start_time": "2022-04-10T09:21:36.736Z"
   },
   {
    "duration": 16,
    "start_time": "2022-04-10T09:21:50.259Z"
   },
   {
    "duration": 18,
    "start_time": "2022-04-10T09:22:08.162Z"
   },
   {
    "duration": 19,
    "start_time": "2022-04-10T09:22:38.830Z"
   },
   {
    "duration": 17,
    "start_time": "2022-04-10T09:22:50.764Z"
   },
   {
    "duration": 1777,
    "start_time": "2022-04-10T09:23:17.606Z"
   },
   {
    "duration": 1597,
    "start_time": "2022-04-10T09:23:26.647Z"
   },
   {
    "duration": 1690,
    "start_time": "2022-04-10T09:23:36.697Z"
   },
   {
    "duration": 18,
    "start_time": "2022-04-10T09:23:46.099Z"
   },
   {
    "duration": 16,
    "start_time": "2022-04-10T09:23:53.666Z"
   },
   {
    "duration": 17,
    "start_time": "2022-04-10T09:24:01.953Z"
   },
   {
    "duration": 15,
    "start_time": "2022-04-10T09:27:57.469Z"
   },
   {
    "duration": 16,
    "start_time": "2022-04-10T09:28:29.273Z"
   },
   {
    "duration": 151,
    "start_time": "2022-04-10T09:28:39.131Z"
   },
   {
    "duration": 16,
    "start_time": "2022-04-10T09:28:43.010Z"
   },
   {
    "duration": 17,
    "start_time": "2022-04-10T09:28:50.434Z"
   },
   {
    "duration": 15,
    "start_time": "2022-04-10T09:29:10.283Z"
   },
   {
    "duration": 15,
    "start_time": "2022-04-10T09:29:14.289Z"
   },
   {
    "duration": 21,
    "start_time": "2022-04-10T09:29:24.911Z"
   },
   {
    "duration": 27,
    "start_time": "2022-04-10T09:29:59.480Z"
   },
   {
    "duration": 20,
    "start_time": "2022-04-10T09:31:45.082Z"
   },
   {
    "duration": 21,
    "start_time": "2022-04-10T09:31:52.023Z"
   },
   {
    "duration": 20,
    "start_time": "2022-04-10T09:32:00.787Z"
   },
   {
    "duration": 19,
    "start_time": "2022-04-10T09:32:04.220Z"
   },
   {
    "duration": 14662,
    "start_time": "2022-04-10T09:35:08.173Z"
   },
   {
    "duration": 5,
    "start_time": "2022-04-10T09:35:39.721Z"
   },
   {
    "duration": 4515,
    "start_time": "2022-04-10T09:35:49.156Z"
   },
   {
    "duration": 5,
    "start_time": "2022-04-10T09:36:14.227Z"
   },
   {
    "duration": 7,
    "start_time": "2022-04-10T09:36:21.700Z"
   },
   {
    "duration": 18,
    "start_time": "2022-04-10T09:36:41.306Z"
   },
   {
    "duration": 21,
    "start_time": "2022-04-10T09:38:06.963Z"
   },
   {
    "duration": 19,
    "start_time": "2022-04-10T09:55:16.711Z"
   },
   {
    "duration": 20,
    "start_time": "2022-04-10T09:55:22.379Z"
   },
   {
    "duration": 22,
    "start_time": "2022-04-10T10:00:05.707Z"
   },
   {
    "duration": 21,
    "start_time": "2022-04-10T10:04:09.698Z"
   },
   {
    "duration": 13,
    "start_time": "2022-04-10T10:04:50.607Z"
   },
   {
    "duration": 20,
    "start_time": "2022-04-10T10:25:30.208Z"
   },
   {
    "duration": 17,
    "start_time": "2022-04-10T10:26:03.392Z"
   },
   {
    "duration": 23,
    "start_time": "2022-04-10T10:26:10.032Z"
   },
   {
    "duration": 22,
    "start_time": "2022-04-10T10:31:45.077Z"
   },
   {
    "duration": 18,
    "start_time": "2022-04-10T12:51:44.936Z"
   },
   {
    "duration": 21,
    "start_time": "2022-04-10T12:52:00.979Z"
   },
   {
    "duration": 7,
    "start_time": "2022-04-10T12:55:11.442Z"
   },
   {
    "duration": 2253,
    "start_time": "2022-04-10T12:55:17.398Z"
   },
   {
    "duration": 7,
    "start_time": "2022-04-10T12:55:25.717Z"
   },
   {
    "duration": 6,
    "start_time": "2022-04-10T12:55:36.629Z"
   },
   {
    "duration": 7,
    "start_time": "2022-04-10T12:55:45.234Z"
   },
   {
    "duration": 5,
    "start_time": "2022-04-10T12:55:58.048Z"
   },
   {
    "duration": 10,
    "start_time": "2022-04-10T12:57:38.945Z"
   },
   {
    "duration": 9,
    "start_time": "2022-04-10T12:58:04.350Z"
   },
   {
    "duration": 7,
    "start_time": "2022-04-10T12:59:05.442Z"
   },
   {
    "duration": 1050,
    "start_time": "2022-04-10T12:59:28.294Z"
   },
   {
    "duration": 142,
    "start_time": "2022-04-10T12:59:44.398Z"
   },
   {
    "duration": 134,
    "start_time": "2022-04-10T13:10:46.215Z"
   },
   {
    "duration": 130,
    "start_time": "2022-04-10T13:11:23.346Z"
   },
   {
    "duration": 128,
    "start_time": "2022-04-10T13:12:36.604Z"
   },
   {
    "duration": 129,
    "start_time": "2022-04-10T13:12:41.701Z"
   },
   {
    "duration": 123,
    "start_time": "2022-04-10T13:12:47.397Z"
   },
   {
    "duration": 162,
    "start_time": "2022-04-10T13:15:03.671Z"
   },
   {
    "duration": 196,
    "start_time": "2022-04-10T13:15:14.756Z"
   },
   {
    "duration": 126,
    "start_time": "2022-04-10T13:24:22.992Z"
   },
   {
    "duration": 129,
    "start_time": "2022-04-10T13:24:30.315Z"
   },
   {
    "duration": 133,
    "start_time": "2022-04-10T13:24:35.244Z"
   },
   {
    "duration": 120,
    "start_time": "2022-04-10T13:31:29.378Z"
   },
   {
    "duration": 119,
    "start_time": "2022-04-10T13:31:39.568Z"
   },
   {
    "duration": 120,
    "start_time": "2022-04-10T13:31:42.595Z"
   },
   {
    "duration": 145,
    "start_time": "2022-04-10T13:40:49.233Z"
   },
   {
    "duration": 141,
    "start_time": "2022-04-10T13:43:44.628Z"
   },
   {
    "duration": 134,
    "start_time": "2022-04-10T13:43:59.420Z"
   },
   {
    "duration": 17,
    "start_time": "2022-04-10T13:46:30.384Z"
   },
   {
    "duration": 1293,
    "start_time": "2022-04-10T13:47:24.268Z"
   },
   {
    "duration": 16,
    "start_time": "2022-04-10T13:47:25.563Z"
   },
   {
    "duration": 22,
    "start_time": "2022-04-10T13:47:25.581Z"
   },
   {
    "duration": 4,
    "start_time": "2022-04-10T13:47:25.605Z"
   },
   {
    "duration": 8,
    "start_time": "2022-04-10T13:47:25.632Z"
   },
   {
    "duration": 47,
    "start_time": "2022-04-10T13:47:25.642Z"
   },
   {
    "duration": 44,
    "start_time": "2022-04-10T13:47:25.691Z"
   },
   {
    "duration": 26,
    "start_time": "2022-04-10T13:47:25.737Z"
   },
   {
    "duration": 7,
    "start_time": "2022-04-10T13:47:25.765Z"
   },
   {
    "duration": 9,
    "start_time": "2022-04-10T13:47:25.775Z"
   },
   {
    "duration": 15,
    "start_time": "2022-04-10T13:47:25.786Z"
   },
   {
    "duration": 42,
    "start_time": "2022-04-10T13:47:25.803Z"
   },
   {
    "duration": 6,
    "start_time": "2022-04-10T13:47:25.847Z"
   },
   {
    "duration": 10,
    "start_time": "2022-04-10T13:47:25.854Z"
   },
   {
    "duration": 7,
    "start_time": "2022-04-10T13:47:25.866Z"
   },
   {
    "duration": 20,
    "start_time": "2022-04-10T13:47:25.875Z"
   },
   {
    "duration": 51,
    "start_time": "2022-04-10T13:47:25.897Z"
   },
   {
    "duration": 36,
    "start_time": "2022-04-10T13:47:25.949Z"
   },
   {
    "duration": 20,
    "start_time": "2022-04-10T13:47:25.987Z"
   },
   {
    "duration": 39,
    "start_time": "2022-04-10T13:47:26.009Z"
   },
   {
    "duration": 25,
    "start_time": "2022-04-10T13:47:26.049Z"
   },
   {
    "duration": 6,
    "start_time": "2022-04-10T13:47:26.076Z"
   },
   {
    "duration": 58,
    "start_time": "2022-04-10T13:47:26.083Z"
   },
   {
    "duration": 21,
    "start_time": "2022-04-10T13:47:57.317Z"
   },
   {
    "duration": 3,
    "start_time": "2022-04-10T13:48:08.211Z"
   },
   {
    "duration": 153,
    "start_time": "2022-04-10T13:48:13.618Z"
   },
   {
    "duration": 5,
    "start_time": "2022-04-10T13:55:41.199Z"
   },
   {
    "duration": 22,
    "start_time": "2022-04-10T13:58:27.968Z"
   },
   {
    "duration": 162,
    "start_time": "2022-04-10T14:01:08.526Z"
   },
   {
    "duration": 137,
    "start_time": "2022-04-10T14:04:11.986Z"
   },
   {
    "duration": 128,
    "start_time": "2022-04-10T14:08:25.862Z"
   },
   {
    "duration": 107,
    "start_time": "2022-04-10T14:16:08.798Z"
   },
   {
    "duration": 22,
    "start_time": "2022-04-10T14:16:17.177Z"
   },
   {
    "duration": 137,
    "start_time": "2022-04-10T14:16:21.712Z"
   },
   {
    "duration": 147,
    "start_time": "2022-04-10T14:16:45.390Z"
   },
   {
    "duration": 148,
    "start_time": "2022-04-10T14:17:18.614Z"
   },
   {
    "duration": 24,
    "start_time": "2022-04-10T14:17:48.699Z"
   },
   {
    "duration": 130,
    "start_time": "2022-04-10T14:18:35.272Z"
   },
   {
    "duration": 133,
    "start_time": "2022-04-10T14:18:53.336Z"
   },
   {
    "duration": 214,
    "start_time": "2022-04-10T14:19:04.391Z"
   },
   {
    "duration": 156,
    "start_time": "2022-04-10T14:19:18.627Z"
   },
   {
    "duration": 136,
    "start_time": "2022-04-10T14:19:45.432Z"
   },
   {
    "duration": 19,
    "start_time": "2022-04-10T14:24:09.335Z"
   },
   {
    "duration": 133,
    "start_time": "2022-04-10T14:28:11.272Z"
   },
   {
    "duration": 14,
    "start_time": "2022-04-10T14:28:29.608Z"
   },
   {
    "duration": 23,
    "start_time": "2022-04-10T14:28:38.620Z"
   },
   {
    "duration": 1130,
    "start_time": "2022-04-10T14:29:52.508Z"
   },
   {
    "duration": 24,
    "start_time": "2022-04-10T14:30:05.159Z"
   },
   {
    "duration": 16,
    "start_time": "2022-04-10T14:30:41.500Z"
   },
   {
    "duration": 20,
    "start_time": "2022-04-10T14:30:55.600Z"
   },
   {
    "duration": 32,
    "start_time": "2022-04-10T14:31:51.638Z"
   },
   {
    "duration": 23,
    "start_time": "2022-04-10T14:32:00.219Z"
   },
   {
    "duration": 26,
    "start_time": "2022-04-10T14:32:17.829Z"
   },
   {
    "duration": 129,
    "start_time": "2022-04-10T14:53:13.298Z"
   },
   {
    "duration": 125,
    "start_time": "2022-04-10T15:09:54.859Z"
   },
   {
    "duration": 140,
    "start_time": "2022-04-10T15:14:09.385Z"
   },
   {
    "duration": 127,
    "start_time": "2022-04-10T15:14:30.883Z"
   },
   {
    "duration": 154,
    "start_time": "2022-04-10T15:15:14.596Z"
   },
   {
    "duration": 184,
    "start_time": "2022-04-10T15:15:34.956Z"
   },
   {
    "duration": 4,
    "start_time": "2022-04-10T15:53:55.121Z"
   },
   {
    "duration": 1357,
    "start_time": "2022-04-10T15:54:06.828Z"
   },
   {
    "duration": 18,
    "start_time": "2022-04-10T15:54:12.757Z"
   },
   {
    "duration": 22,
    "start_time": "2022-04-10T15:54:16.885Z"
   },
   {
    "duration": 4,
    "start_time": "2022-04-10T15:54:24.137Z"
   },
   {
    "duration": 19,
    "start_time": "2022-04-10T15:54:33.899Z"
   },
   {
    "duration": 45,
    "start_time": "2022-04-10T15:56:22.822Z"
   },
   {
    "duration": 24,
    "start_time": "2022-04-10T15:57:41.008Z"
   },
   {
    "duration": 14,
    "start_time": "2022-04-10T15:59:24.074Z"
   },
   {
    "duration": 8,
    "start_time": "2022-04-10T16:00:47.066Z"
   },
   {
    "duration": 22,
    "start_time": "2022-04-10T16:00:52.315Z"
   },
   {
    "duration": 14,
    "start_time": "2022-04-10T16:01:05.306Z"
   },
   {
    "duration": 18,
    "start_time": "2022-04-10T16:01:11.863Z"
   },
   {
    "duration": 9,
    "start_time": "2022-04-10T16:01:28.322Z"
   },
   {
    "duration": 108,
    "start_time": "2022-04-10T16:01:37.415Z"
   },
   {
    "duration": 22,
    "start_time": "2022-04-10T16:01:49.373Z"
   },
   {
    "duration": 15,
    "start_time": "2022-04-10T16:02:01.356Z"
   },
   {
    "duration": 15,
    "start_time": "2022-04-10T16:02:06.383Z"
   },
   {
    "duration": 15,
    "start_time": "2022-04-10T16:02:11.050Z"
   },
   {
    "duration": 9,
    "start_time": "2022-04-10T16:02:23.540Z"
   },
   {
    "duration": 8,
    "start_time": "2022-04-10T16:03:56.935Z"
   },
   {
    "duration": 4,
    "start_time": "2022-04-10T16:06:30.646Z"
   },
   {
    "duration": 5,
    "start_time": "2022-04-10T16:06:41.690Z"
   },
   {
    "duration": 15,
    "start_time": "2022-04-10T16:06:48.771Z"
   },
   {
    "duration": 27,
    "start_time": "2022-04-10T16:07:18.513Z"
   },
   {
    "duration": 12,
    "start_time": "2022-04-10T16:07:38.508Z"
   },
   {
    "duration": 14,
    "start_time": "2022-04-10T16:07:43.839Z"
   },
   {
    "duration": 10,
    "start_time": "2022-04-10T16:09:12.983Z"
   },
   {
    "duration": 8,
    "start_time": "2022-04-10T16:09:30.883Z"
   },
   {
    "duration": 38,
    "start_time": "2022-04-10T16:09:53.603Z"
   },
   {
    "duration": 24,
    "start_time": "2022-04-10T16:10:30.974Z"
   },
   {
    "duration": 12,
    "start_time": "2022-04-10T16:10:47.623Z"
   },
   {
    "duration": 13,
    "start_time": "2022-04-10T16:10:53.650Z"
   },
   {
    "duration": 11,
    "start_time": "2022-04-10T16:12:58.386Z"
   },
   {
    "duration": 25,
    "start_time": "2022-04-10T16:13:15.312Z"
   },
   {
    "duration": 20,
    "start_time": "2022-04-10T16:14:29.049Z"
   },
   {
    "duration": 17,
    "start_time": "2022-04-10T16:14:53.885Z"
   },
   {
    "duration": 20,
    "start_time": "2022-04-10T16:15:03.975Z"
   },
   {
    "duration": 31,
    "start_time": "2022-04-10T16:22:57.875Z"
   },
   {
    "duration": 27,
    "start_time": "2022-04-10T16:35:02.380Z"
   },
   {
    "duration": 8,
    "start_time": "2022-04-10T16:35:40.678Z"
   },
   {
    "duration": 9,
    "start_time": "2022-04-10T16:36:45.498Z"
   },
   {
    "duration": 10,
    "start_time": "2022-04-10T16:36:49.994Z"
   },
   {
    "duration": 15,
    "start_time": "2022-04-10T16:39:58.180Z"
   },
   {
    "duration": 8,
    "start_time": "2022-04-10T16:41:20.254Z"
   },
   {
    "duration": 9,
    "start_time": "2022-04-10T16:41:24.240Z"
   },
   {
    "duration": 8,
    "start_time": "2022-04-10T16:41:59.648Z"
   },
   {
    "duration": 20,
    "start_time": "2022-04-10T16:42:02.120Z"
   },
   {
    "duration": 22,
    "start_time": "2022-04-10T16:42:24.957Z"
   },
   {
    "duration": 26,
    "start_time": "2022-04-10T16:45:53.194Z"
   },
   {
    "duration": 30,
    "start_time": "2022-04-10T16:46:04.488Z"
   },
   {
    "duration": 30,
    "start_time": "2022-04-10T16:46:22.453Z"
   },
   {
    "duration": 20,
    "start_time": "2022-04-10T16:46:57.627Z"
   },
   {
    "duration": 26,
    "start_time": "2022-04-10T16:47:19.543Z"
   },
   {
    "duration": 18,
    "start_time": "2022-04-10T16:48:26.502Z"
   },
   {
    "duration": 41,
    "start_time": "2022-04-10T16:48:37.048Z"
   },
   {
    "duration": 30,
    "start_time": "2022-04-10T16:48:53.919Z"
   },
   {
    "duration": 17,
    "start_time": "2022-04-10T16:49:03.545Z"
   },
   {
    "duration": 27,
    "start_time": "2022-04-10T16:49:08.661Z"
   },
   {
    "duration": 35,
    "start_time": "2022-04-10T16:49:36.834Z"
   },
   {
    "duration": 28,
    "start_time": "2022-04-10T16:54:34.543Z"
   },
   {
    "duration": 3,
    "start_time": "2022-04-10T16:59:37.962Z"
   },
   {
    "duration": 10,
    "start_time": "2022-04-10T17:01:26.256Z"
   },
   {
    "duration": 28,
    "start_time": "2022-04-10T17:01:33.645Z"
   },
   {
    "duration": 159,
    "start_time": "2022-04-10T17:01:36.127Z"
   },
   {
    "duration": 20,
    "start_time": "2022-04-10T17:02:10.572Z"
   },
   {
    "duration": 138,
    "start_time": "2022-04-10T17:03:15.557Z"
   },
   {
    "duration": 22,
    "start_time": "2022-04-10T17:04:37.500Z"
   },
   {
    "duration": 145,
    "start_time": "2022-04-10T17:06:47.640Z"
   },
   {
    "duration": 24,
    "start_time": "2022-04-10T17:07:47.261Z"
   },
   {
    "duration": 1440,
    "start_time": "2022-04-10T17:22:45.398Z"
   },
   {
    "duration": 17,
    "start_time": "2022-04-10T17:22:46.840Z"
   },
   {
    "duration": 25,
    "start_time": "2022-04-10T17:22:46.859Z"
   },
   {
    "duration": 4,
    "start_time": "2022-04-10T17:22:46.886Z"
   },
   {
    "duration": 43,
    "start_time": "2022-04-10T17:22:46.891Z"
   },
   {
    "duration": 48,
    "start_time": "2022-04-10T17:22:46.936Z"
   },
   {
    "duration": 7,
    "start_time": "2022-04-10T17:22:46.986Z"
   },
   {
    "duration": 57,
    "start_time": "2022-04-10T17:22:46.995Z"
   },
   {
    "duration": 27,
    "start_time": "2022-04-10T17:22:47.054Z"
   },
   {
    "duration": 7,
    "start_time": "2022-04-10T17:22:47.083Z"
   },
   {
    "duration": 8,
    "start_time": "2022-04-10T17:22:47.092Z"
   },
   {
    "duration": 37,
    "start_time": "2022-04-10T17:22:47.102Z"
   },
   {
    "duration": 14,
    "start_time": "2022-04-10T17:22:47.141Z"
   },
   {
    "duration": 6,
    "start_time": "2022-04-10T17:22:47.158Z"
   },
   {
    "duration": 13,
    "start_time": "2022-04-10T17:22:47.166Z"
   },
   {
    "duration": 52,
    "start_time": "2022-04-10T17:22:47.181Z"
   },
   {
    "duration": 21,
    "start_time": "2022-04-10T17:22:47.235Z"
   },
   {
    "duration": 7,
    "start_time": "2022-04-10T17:22:47.257Z"
   },
   {
    "duration": 19,
    "start_time": "2022-04-10T17:22:47.266Z"
   },
   {
    "duration": 24,
    "start_time": "2022-04-10T17:22:47.332Z"
   },
   {
    "duration": 20,
    "start_time": "2022-04-10T17:22:47.357Z"
   },
   {
    "duration": 54,
    "start_time": "2022-04-10T17:22:47.379Z"
   },
   {
    "duration": 16,
    "start_time": "2022-04-10T17:22:47.434Z"
   },
   {
    "duration": 36,
    "start_time": "2022-04-10T17:22:47.452Z"
   },
   {
    "duration": 43,
    "start_time": "2022-04-10T17:22:47.490Z"
   },
   {
    "duration": 28,
    "start_time": "2022-04-10T17:22:47.534Z"
   },
   {
    "duration": 23,
    "start_time": "2022-04-10T17:22:47.563Z"
   },
   {
    "duration": 184,
    "start_time": "2022-04-10T17:22:47.590Z"
   },
   {
    "duration": 22,
    "start_time": "2022-04-10T17:22:47.775Z"
   },
   {
    "duration": 148,
    "start_time": "2022-04-10T17:22:47.798Z"
   },
   {
    "duration": 22,
    "start_time": "2022-04-10T17:22:47.948Z"
   },
   {
    "duration": 162,
    "start_time": "2022-04-10T17:22:47.971Z"
   },
   {
    "duration": 24,
    "start_time": "2022-04-10T17:22:48.135Z"
   },
   {
    "duration": 148,
    "start_time": "2022-04-10T17:22:48.161Z"
   },
   {
    "duration": 2644,
    "start_time": "2022-04-20T12:22:53.003Z"
   },
   {
    "duration": 13,
    "start_time": "2022-04-20T12:22:55.649Z"
   },
   {
    "duration": 17,
    "start_time": "2022-04-20T12:22:55.664Z"
   },
   {
    "duration": 19,
    "start_time": "2022-04-20T12:22:55.683Z"
   },
   {
    "duration": 8,
    "start_time": "2022-04-20T12:22:55.704Z"
   },
   {
    "duration": 38,
    "start_time": "2022-04-20T12:22:55.713Z"
   },
   {
    "duration": 6,
    "start_time": "2022-04-20T12:22:55.752Z"
   },
   {
    "duration": 47,
    "start_time": "2022-04-20T12:22:55.759Z"
   },
   {
    "duration": 20,
    "start_time": "2022-04-20T12:22:55.807Z"
   },
   {
    "duration": 6,
    "start_time": "2022-04-20T12:22:55.828Z"
   },
   {
    "duration": 5,
    "start_time": "2022-04-20T12:22:55.835Z"
   },
   {
    "duration": 9,
    "start_time": "2022-04-20T12:22:55.841Z"
   },
   {
    "duration": 10,
    "start_time": "2022-04-20T12:22:55.852Z"
   },
   {
    "duration": 35,
    "start_time": "2022-04-20T12:22:55.865Z"
   },
   {
    "duration": 5,
    "start_time": "2022-04-20T12:22:55.902Z"
   },
   {
    "duration": 10,
    "start_time": "2022-04-20T12:22:55.909Z"
   },
   {
    "duration": 19,
    "start_time": "2022-04-20T12:22:55.921Z"
   },
   {
    "duration": 65,
    "start_time": "2022-04-20T12:22:55.942Z"
   },
   {
    "duration": 19,
    "start_time": "2022-04-20T12:22:56.009Z"
   },
   {
    "duration": 25,
    "start_time": "2022-04-20T12:22:56.030Z"
   },
   {
    "duration": 59,
    "start_time": "2022-04-20T12:22:56.056Z"
   },
   {
    "duration": 19,
    "start_time": "2022-04-20T12:22:56.117Z"
   },
   {
    "duration": 68,
    "start_time": "2022-04-20T12:22:56.137Z"
   },
   {
    "duration": 33,
    "start_time": "2022-04-20T12:22:56.206Z"
   },
   {
    "duration": 6,
    "start_time": "2022-04-20T12:22:56.241Z"
   },
   {
    "duration": 56,
    "start_time": "2022-04-20T12:22:56.248Z"
   },
   {
    "duration": 19,
    "start_time": "2022-04-20T12:22:56.305Z"
   },
   {
    "duration": 189,
    "start_time": "2022-04-20T12:22:56.326Z"
   },
   {
    "duration": 19,
    "start_time": "2022-04-20T12:22:56.516Z"
   },
   {
    "duration": 188,
    "start_time": "2022-04-20T12:22:56.537Z"
   },
   {
    "duration": 20,
    "start_time": "2022-04-20T12:22:56.726Z"
   },
   {
    "duration": 142,
    "start_time": "2022-04-20T12:22:56.747Z"
   },
   {
    "duration": 29,
    "start_time": "2022-04-20T12:22:56.890Z"
   },
   {
    "duration": 145,
    "start_time": "2022-04-20T12:22:56.921Z"
   },
   {
    "duration": 69,
    "start_time": "2022-04-21T06:55:04.253Z"
   },
   {
    "duration": 1801,
    "start_time": "2022-04-21T06:55:10.290Z"
   },
   {
    "duration": 106,
    "start_time": "2022-04-21T06:55:14.915Z"
   },
   {
    "duration": 45,
    "start_time": "2022-04-21T06:55:22.357Z"
   },
   {
    "duration": 147,
    "start_time": "2022-04-21T07:44:01.260Z"
   },
   {
    "duration": 46,
    "start_time": "2022-04-21T07:44:07.178Z"
   },
   {
    "duration": 136,
    "start_time": "2022-04-21T07:54:28.797Z"
   },
   {
    "duration": 41,
    "start_time": "2022-04-21T07:54:36.656Z"
   },
   {
    "duration": 38,
    "start_time": "2022-04-21T07:54:40.573Z"
   },
   {
    "duration": 55,
    "start_time": "2022-04-21T07:54:56.042Z"
   },
   {
    "duration": 44,
    "start_time": "2022-04-21T07:55:11.782Z"
   },
   {
    "duration": 17,
    "start_time": "2022-04-21T11:01:58.434Z"
   },
   {
    "duration": 21,
    "start_time": "2022-04-21T11:12:10.285Z"
   },
   {
    "duration": 20,
    "start_time": "2022-04-21T11:13:44.851Z"
   },
   {
    "duration": 2401,
    "start_time": "2022-04-21T11:35:31.759Z"
   },
   {
    "duration": 108,
    "start_time": "2022-04-21T11:35:34.337Z"
   },
   {
    "duration": 22,
    "start_time": "2022-04-21T11:35:46.305Z"
   },
   {
    "duration": 52,
    "start_time": "2022-04-21T11:36:39.020Z"
   },
   {
    "duration": 30,
    "start_time": "2022-04-21T11:38:45.749Z"
   },
   {
    "duration": 5,
    "start_time": "2022-04-21T11:38:59.725Z"
   },
   {
    "duration": 10,
    "start_time": "2022-04-21T11:39:05.761Z"
   },
   {
    "duration": 68,
    "start_time": "2022-04-21T11:43:03.623Z"
   },
   {
    "duration": 60,
    "start_time": "2022-04-21T11:44:13.116Z"
   },
   {
    "duration": 10,
    "start_time": "2022-04-21T11:44:33.866Z"
   },
   {
    "duration": 41,
    "start_time": "2022-04-21T11:49:07.096Z"
   },
   {
    "duration": 42,
    "start_time": "2022-04-21T11:49:13.873Z"
   },
   {
    "duration": 38,
    "start_time": "2022-04-21T11:49:18.791Z"
   },
   {
    "duration": 4,
    "start_time": "2022-04-21T11:49:36.221Z"
   },
   {
    "duration": 96,
    "start_time": "2022-04-21T11:49:36.230Z"
   },
   {
    "duration": 20,
    "start_time": "2022-04-21T11:49:36.329Z"
   },
   {
    "duration": 66,
    "start_time": "2022-04-21T11:49:36.351Z"
   },
   {
    "duration": 33,
    "start_time": "2022-04-21T11:49:36.420Z"
   },
   {
    "duration": 9,
    "start_time": "2022-04-21T11:49:36.455Z"
   },
   {
    "duration": 13,
    "start_time": "2022-04-21T11:49:36.480Z"
   },
   {
    "duration": 64,
    "start_time": "2022-04-21T11:49:36.496Z"
   },
   {
    "duration": 26,
    "start_time": "2022-04-21T11:49:36.562Z"
   },
   {
    "duration": 40,
    "start_time": "2022-04-21T11:49:36.590Z"
   },
   {
    "duration": 37,
    "start_time": "2022-04-21T11:49:42.975Z"
   },
   {
    "duration": 9,
    "start_time": "2022-04-21T11:49:56.914Z"
   },
   {
    "duration": 9,
    "start_time": "2022-04-21T11:50:01.007Z"
   },
   {
    "duration": 13,
    "start_time": "2022-04-21T11:52:21.362Z"
   },
   {
    "duration": 20,
    "start_time": "2022-04-21T11:52:32.665Z"
   },
   {
    "duration": 5,
    "start_time": "2022-04-21T11:54:37.891Z"
   },
   {
    "duration": 9,
    "start_time": "2022-04-21T11:54:43.218Z"
   },
   {
    "duration": 11,
    "start_time": "2022-04-21T11:54:45.644Z"
   },
   {
    "duration": 35,
    "start_time": "2022-04-21T12:34:12.478Z"
   },
   {
    "duration": 21,
    "start_time": "2022-04-21T12:34:46.678Z"
   },
   {
    "duration": 4,
    "start_time": "2022-04-21T16:06:49.960Z"
   },
   {
    "duration": 7,
    "start_time": "2022-04-21T16:07:02.188Z"
   },
   {
    "duration": 5,
    "start_time": "2022-04-21T16:08:03.242Z"
   },
   {
    "duration": 35,
    "start_time": "2022-04-21T16:29:59.903Z"
   },
   {
    "duration": 40,
    "start_time": "2022-04-21T16:32:44.121Z"
   },
   {
    "duration": 32,
    "start_time": "2022-04-21T16:32:51.622Z"
   },
   {
    "duration": 70,
    "start_time": "2022-04-21T18:55:58.688Z"
   },
   {
    "duration": 1808,
    "start_time": "2022-04-21T18:56:09.765Z"
   },
   {
    "duration": 7,
    "start_time": "2022-04-21T18:56:11.576Z"
   },
   {
    "duration": 324,
    "start_time": "2022-04-21T18:56:11.586Z"
   },
   {
    "duration": 22,
    "start_time": "2022-04-21T18:56:11.912Z"
   },
   {
    "duration": 50,
    "start_time": "2022-04-21T18:56:11.954Z"
   },
   {
    "duration": 51,
    "start_time": "2022-04-21T18:56:12.007Z"
   },
   {
    "duration": 5,
    "start_time": "2022-04-21T18:56:12.061Z"
   },
   {
    "duration": 13,
    "start_time": "2022-04-21T18:56:12.069Z"
   },
   {
    "duration": 98,
    "start_time": "2022-04-21T18:56:12.085Z"
   },
   {
    "duration": 11,
    "start_time": "2022-04-21T18:56:12.185Z"
   },
   {
    "duration": 60,
    "start_time": "2022-04-21T18:56:12.198Z"
   },
   {
    "duration": 37,
    "start_time": "2022-04-21T18:56:12.260Z"
   },
   {
    "duration": 10,
    "start_time": "2022-04-21T18:56:12.300Z"
   },
   {
    "duration": 38,
    "start_time": "2022-04-21T18:56:12.315Z"
   },
   {
    "duration": 13,
    "start_time": "2022-04-21T18:56:12.355Z"
   },
   {
    "duration": 17,
    "start_time": "2022-04-21T18:56:12.370Z"
   },
   {
    "duration": 5,
    "start_time": "2022-04-21T18:56:12.390Z"
   },
   {
    "duration": 9,
    "start_time": "2022-04-21T18:56:12.397Z"
   },
   {
    "duration": 51,
    "start_time": "2022-04-21T18:56:12.408Z"
   },
   {
    "duration": 32,
    "start_time": "2022-04-21T18:56:12.461Z"
   },
   {
    "duration": 62,
    "start_time": "2022-04-21T18:56:12.495Z"
   },
   {
    "duration": 112,
    "start_time": "2022-04-21T18:56:12.559Z"
   },
   {
    "duration": 0,
    "start_time": "2022-04-21T18:56:12.674Z"
   },
   {
    "duration": 0,
    "start_time": "2022-04-21T18:56:12.676Z"
   },
   {
    "duration": 8,
    "start_time": "2022-04-21T19:00:51.150Z"
   },
   {
    "duration": 7,
    "start_time": "2022-04-21T19:01:01.892Z"
   },
   {
    "duration": 8,
    "start_time": "2022-04-21T19:06:03.595Z"
   },
   {
    "duration": 13,
    "start_time": "2022-04-21T19:06:27.440Z"
   },
   {
    "duration": 30,
    "start_time": "2022-04-21T19:08:32.875Z"
   },
   {
    "duration": 28,
    "start_time": "2022-04-21T19:08:55.706Z"
   },
   {
    "duration": 46,
    "start_time": "2022-04-21T19:09:02.364Z"
   },
   {
    "duration": 25,
    "start_time": "2022-04-21T19:09:21.334Z"
   },
   {
    "duration": 13,
    "start_time": "2022-04-21T19:10:36.466Z"
   },
   {
    "duration": 13,
    "start_time": "2022-04-21T19:10:57.437Z"
   },
   {
    "duration": 34,
    "start_time": "2022-04-21T19:11:05.257Z"
   },
   {
    "duration": 11,
    "start_time": "2022-04-21T19:11:37.852Z"
   },
   {
    "duration": 15,
    "start_time": "2022-04-21T19:13:17.242Z"
   },
   {
    "duration": 17,
    "start_time": "2022-04-21T19:13:42.497Z"
   },
   {
    "duration": 15,
    "start_time": "2022-04-21T19:15:59.770Z"
   },
   {
    "duration": 14,
    "start_time": "2022-04-21T19:16:49.019Z"
   },
   {
    "duration": 7,
    "start_time": "2022-04-21T19:21:15.985Z"
   },
   {
    "duration": 4,
    "start_time": "2022-04-21T19:40:55.985Z"
   },
   {
    "duration": 9,
    "start_time": "2022-04-21T19:41:21.903Z"
   },
   {
    "duration": 11,
    "start_time": "2022-04-21T19:43:32.354Z"
   },
   {
    "duration": 25,
    "start_time": "2022-04-21T19:55:55.465Z"
   },
   {
    "duration": 18,
    "start_time": "2022-04-21T19:56:40.335Z"
   },
   {
    "duration": 25,
    "start_time": "2022-04-21T19:56:57.831Z"
   },
   {
    "duration": 18,
    "start_time": "2022-04-21T19:57:04.525Z"
   },
   {
    "duration": 24,
    "start_time": "2022-04-21T19:57:15.357Z"
   },
   {
    "duration": 30,
    "start_time": "2022-04-21T19:57:40.988Z"
   },
   {
    "duration": 22,
    "start_time": "2022-04-21T20:09:04.093Z"
   },
   {
    "duration": 11,
    "start_time": "2022-04-21T20:09:24.508Z"
   },
   {
    "duration": 1514,
    "start_time": "2022-04-21T20:13:25.664Z"
   },
   {
    "duration": 106,
    "start_time": "2022-04-21T20:13:30.222Z"
   },
   {
    "duration": 23,
    "start_time": "2022-04-21T20:13:36.108Z"
   },
   {
    "duration": 33,
    "start_time": "2022-04-21T20:13:51.245Z"
   },
   {
    "duration": 33,
    "start_time": "2022-04-21T20:14:30.554Z"
   },
   {
    "duration": 29,
    "start_time": "2022-04-21T20:14:32.843Z"
   },
   {
    "duration": 32,
    "start_time": "2022-04-21T20:14:34.506Z"
   },
   {
    "duration": 52,
    "start_time": "2022-04-21T20:14:53.020Z"
   },
   {
    "duration": 15,
    "start_time": "2022-04-21T20:16:34.191Z"
   },
   {
    "duration": 32,
    "start_time": "2022-04-21T20:19:39.547Z"
   },
   {
    "duration": 9,
    "start_time": "2022-04-21T20:20:25.095Z"
   },
   {
    "duration": 18,
    "start_time": "2022-04-21T20:21:15.651Z"
   },
   {
    "duration": 10,
    "start_time": "2022-04-21T20:22:54.244Z"
   },
   {
    "duration": 10,
    "start_time": "2022-04-21T20:23:01.024Z"
   },
   {
    "duration": 35,
    "start_time": "2022-04-21T20:25:51.580Z"
   },
   {
    "duration": 57,
    "start_time": "2022-04-21T20:26:05.026Z"
   },
   {
    "duration": 34,
    "start_time": "2022-04-21T20:26:06.977Z"
   },
   {
    "duration": 7,
    "start_time": "2022-04-21T20:26:56.602Z"
   },
   {
    "duration": 1705,
    "start_time": "2022-04-21T21:34:23.726Z"
   },
   {
    "duration": 112,
    "start_time": "2022-04-21T21:34:25.434Z"
   },
   {
    "duration": 52,
    "start_time": "2022-04-21T21:34:25.552Z"
   },
   {
    "duration": 50,
    "start_time": "2022-04-21T21:34:31.446Z"
   },
   {
    "duration": 31,
    "start_time": "2022-04-21T21:34:37.176Z"
   },
   {
    "duration": 5,
    "start_time": "2022-04-21T21:34:46.021Z"
   },
   {
    "duration": 10,
    "start_time": "2022-04-21T21:34:50.757Z"
   },
   {
    "duration": 65,
    "start_time": "2022-04-21T21:34:54.709Z"
   },
   {
    "duration": 10,
    "start_time": "2022-04-21T21:35:43.737Z"
   },
   {
    "duration": 39,
    "start_time": "2022-04-21T21:35:49.764Z"
   },
   {
    "duration": 37,
    "start_time": "2022-04-21T21:36:12.116Z"
   },
   {
    "duration": 11,
    "start_time": "2022-04-21T21:36:17.673Z"
   },
   {
    "duration": 8,
    "start_time": "2022-04-21T21:36:31.612Z"
   },
   {
    "duration": 14,
    "start_time": "2022-04-21T21:36:44.765Z"
   },
   {
    "duration": 19,
    "start_time": "2022-04-21T21:36:55.824Z"
   },
   {
    "duration": 6,
    "start_time": "2022-04-21T21:37:26.356Z"
   },
   {
    "duration": 8,
    "start_time": "2022-04-21T21:37:30.716Z"
   },
   {
    "duration": 11,
    "start_time": "2022-04-21T21:37:33.305Z"
   },
   {
    "duration": 32,
    "start_time": "2022-04-21T21:38:15.829Z"
   },
   {
    "duration": 19,
    "start_time": "2022-04-21T21:38:39.449Z"
   },
   {
    "duration": 32,
    "start_time": "2022-04-21T21:39:11.805Z"
   },
   {
    "duration": 30,
    "start_time": "2022-04-21T21:41:21.229Z"
   },
   {
    "duration": 8,
    "start_time": "2022-04-21T21:53:03.153Z"
   },
   {
    "duration": 6,
    "start_time": "2022-04-21T21:53:40.146Z"
   },
   {
    "duration": 5,
    "start_time": "2022-04-21T21:54:42.738Z"
   },
   {
    "duration": 7,
    "start_time": "2022-04-21T21:55:12.398Z"
   },
   {
    "duration": 33,
    "start_time": "2022-04-21T21:55:39.066Z"
   },
   {
    "duration": 31,
    "start_time": "2022-04-21T22:00:30.169Z"
   },
   {
    "duration": 9,
    "start_time": "2022-04-21T22:02:46.667Z"
   },
   {
    "duration": 145,
    "start_time": "2022-04-21T22:04:41.484Z"
   },
   {
    "duration": 18,
    "start_time": "2022-04-21T22:05:12.377Z"
   },
   {
    "duration": 32,
    "start_time": "2022-04-21T22:09:38.969Z"
   },
   {
    "duration": 9,
    "start_time": "2022-04-21T22:13:09.885Z"
   },
   {
    "duration": 8,
    "start_time": "2022-04-21T22:15:02.733Z"
   },
   {
    "duration": 51,
    "start_time": "2022-04-21T22:16:26.441Z"
   },
   {
    "duration": 1310,
    "start_time": "2022-04-22T06:38:42.376Z"
   },
   {
    "duration": 84,
    "start_time": "2022-04-22T06:38:45.335Z"
   },
   {
    "duration": 23,
    "start_time": "2022-04-22T06:38:49.412Z"
   },
   {
    "duration": 35,
    "start_time": "2022-04-22T06:38:52.838Z"
   },
   {
    "duration": 29,
    "start_time": "2022-04-22T06:39:02.850Z"
   },
   {
    "duration": 4,
    "start_time": "2022-04-22T06:39:06.153Z"
   },
   {
    "duration": 8,
    "start_time": "2022-04-22T06:39:08.517Z"
   },
   {
    "duration": 42,
    "start_time": "2022-04-22T06:39:12.139Z"
   },
   {
    "duration": 7,
    "start_time": "2022-04-22T06:39:17.049Z"
   },
   {
    "duration": 27,
    "start_time": "2022-04-22T06:39:21.704Z"
   },
   {
    "duration": 23,
    "start_time": "2022-04-22T06:39:24.623Z"
   },
   {
    "duration": 8,
    "start_time": "2022-04-22T06:39:29.978Z"
   },
   {
    "duration": 6,
    "start_time": "2022-04-22T06:39:35.329Z"
   },
   {
    "duration": 9,
    "start_time": "2022-04-22T06:39:40.170Z"
   },
   {
    "duration": 12,
    "start_time": "2022-04-22T06:39:42.371Z"
   },
   {
    "duration": 4,
    "start_time": "2022-04-22T06:39:49.139Z"
   },
   {
    "duration": 5,
    "start_time": "2022-04-22T06:39:54.895Z"
   },
   {
    "duration": 8,
    "start_time": "2022-04-22T06:39:57.279Z"
   },
   {
    "duration": 7,
    "start_time": "2022-04-22T06:40:00.748Z"
   },
   {
    "duration": 17,
    "start_time": "2022-04-22T06:40:04.648Z"
   },
   {
    "duration": 24,
    "start_time": "2022-04-22T06:40:13.037Z"
   },
   {
    "duration": 21,
    "start_time": "2022-04-22T06:40:15.182Z"
   },
   {
    "duration": 27,
    "start_time": "2022-04-22T06:43:28.247Z"
   },
   {
    "duration": 7,
    "start_time": "2022-04-22T06:44:21.817Z"
   },
   {
    "duration": 6,
    "start_time": "2022-04-22T06:45:02.064Z"
   },
   {
    "duration": 5,
    "start_time": "2022-04-22T06:45:32.504Z"
   },
   {
    "duration": 1154,
    "start_time": "2022-04-22T06:48:27.296Z"
   },
   {
    "duration": 76,
    "start_time": "2022-04-22T06:48:28.452Z"
   },
   {
    "duration": 29,
    "start_time": "2022-04-22T06:48:28.530Z"
   },
   {
    "duration": 47,
    "start_time": "2022-04-22T06:48:28.561Z"
   },
   {
    "duration": 20,
    "start_time": "2022-04-22T06:48:28.610Z"
   },
   {
    "duration": 3,
    "start_time": "2022-04-22T06:48:28.632Z"
   },
   {
    "duration": 8,
    "start_time": "2022-04-22T06:48:28.637Z"
   },
   {
    "duration": 76,
    "start_time": "2022-04-22T06:48:28.647Z"
   },
   {
    "duration": 7,
    "start_time": "2022-04-22T06:48:28.724Z"
   },
   {
    "duration": 25,
    "start_time": "2022-04-22T06:48:28.734Z"
   },
   {
    "duration": 22,
    "start_time": "2022-04-22T06:48:28.761Z"
   },
   {
    "duration": 13,
    "start_time": "2022-04-22T06:48:28.814Z"
   },
   {
    "duration": 6,
    "start_time": "2022-04-22T06:48:28.829Z"
   },
   {
    "duration": 9,
    "start_time": "2022-04-22T06:48:28.837Z"
   },
   {
    "duration": 12,
    "start_time": "2022-04-22T06:48:28.848Z"
   },
   {
    "duration": 4,
    "start_time": "2022-04-22T06:48:28.861Z"
   },
   {
    "duration": 6,
    "start_time": "2022-04-22T06:48:28.866Z"
   },
   {
    "duration": 50,
    "start_time": "2022-04-22T06:48:28.873Z"
   },
   {
    "duration": 6,
    "start_time": "2022-04-22T06:48:28.925Z"
   },
   {
    "duration": 16,
    "start_time": "2022-04-22T06:48:32.729Z"
   },
   {
    "duration": 23,
    "start_time": "2022-04-22T06:48:36.093Z"
   },
   {
    "duration": 20,
    "start_time": "2022-04-22T06:49:15.219Z"
   },
   {
    "duration": 21,
    "start_time": "2022-04-22T06:49:18.775Z"
   },
   {
    "duration": 29,
    "start_time": "2022-04-22T06:50:34.823Z"
   },
   {
    "duration": 21,
    "start_time": "2022-04-22T06:51:37.644Z"
   },
   {
    "duration": 29,
    "start_time": "2022-04-22T06:55:26.791Z"
   },
   {
    "duration": 24,
    "start_time": "2022-04-22T07:16:32.910Z"
   },
   {
    "duration": 18,
    "start_time": "2022-04-22T07:16:49.689Z"
   },
   {
    "duration": 21,
    "start_time": "2022-04-22T07:17:06.837Z"
   },
   {
    "duration": 35,
    "start_time": "2022-04-22T09:23:57.055Z"
   },
   {
    "duration": 23,
    "start_time": "2022-04-22T09:32:56.020Z"
   },
   {
    "duration": 19,
    "start_time": "2022-04-22T09:33:25.270Z"
   },
   {
    "duration": 2,
    "start_time": "2022-04-22T10:26:50.266Z"
   },
   {
    "duration": 114,
    "start_time": "2022-04-22T13:01:44.792Z"
   },
   {
    "duration": 1091,
    "start_time": "2022-04-22T13:17:36.734Z"
   },
   {
    "duration": 77,
    "start_time": "2022-04-22T13:17:40.001Z"
   },
   {
    "duration": 24,
    "start_time": "2022-04-22T13:17:57.899Z"
   },
   {
    "duration": 35,
    "start_time": "2022-04-22T13:18:01.514Z"
   },
   {
    "duration": 20,
    "start_time": "2022-04-22T13:18:49.967Z"
   },
   {
    "duration": 4,
    "start_time": "2022-04-22T13:18:56.062Z"
   },
   {
    "duration": 8,
    "start_time": "2022-04-22T13:18:58.903Z"
   },
   {
    "duration": 41,
    "start_time": "2022-04-22T13:19:02.328Z"
   },
   {
    "duration": 8,
    "start_time": "2022-04-22T13:19:17.012Z"
   },
   {
    "duration": 29,
    "start_time": "2022-04-22T13:19:19.800Z"
   },
   {
    "duration": 25,
    "start_time": "2022-04-22T13:19:23.251Z"
   },
   {
    "duration": 8,
    "start_time": "2022-04-22T13:19:33.631Z"
   },
   {
    "duration": 6,
    "start_time": "2022-04-22T13:19:45.914Z"
   },
   {
    "duration": 9,
    "start_time": "2022-04-22T13:19:50.128Z"
   },
   {
    "duration": 13,
    "start_time": "2022-04-22T13:19:52.217Z"
   },
   {
    "duration": 4,
    "start_time": "2022-04-22T13:25:33.123Z"
   },
   {
    "duration": 5,
    "start_time": "2022-04-22T13:25:38.058Z"
   },
   {
    "duration": 8,
    "start_time": "2022-04-22T13:25:40.160Z"
   },
   {
    "duration": 8,
    "start_time": "2022-04-22T13:25:43.512Z"
   },
   {
    "duration": 16,
    "start_time": "2022-04-22T13:25:45.730Z"
   },
   {
    "duration": 23,
    "start_time": "2022-04-22T13:26:04.715Z"
   },
   {
    "duration": 19,
    "start_time": "2022-04-22T13:26:07.219Z"
   },
   {
    "duration": 20,
    "start_time": "2022-04-22T13:26:16.687Z"
   },
   {
    "duration": 23,
    "start_time": "2022-04-22T13:26:21.412Z"
   },
   {
    "duration": 20,
    "start_time": "2022-04-22T13:27:16.450Z"
   },
   {
    "duration": 16,
    "start_time": "2022-04-22T13:28:59.862Z"
   },
   {
    "duration": 19,
    "start_time": "2022-04-22T13:29:09.682Z"
   },
   {
    "duration": 37,
    "start_time": "2022-04-22T13:29:17.377Z"
   },
   {
    "duration": 7,
    "start_time": "2022-04-22T13:29:21.756Z"
   },
   {
    "duration": 95,
    "start_time": "2022-04-22T13:29:50.616Z"
   },
   {
    "duration": 7,
    "start_time": "2022-04-22T13:29:54.748Z"
   },
   {
    "duration": 24,
    "start_time": "2022-04-22T13:30:26.835Z"
   },
   {
    "duration": 18,
    "start_time": "2022-04-22T13:30:52.112Z"
   },
   {
    "duration": 143,
    "start_time": "2022-04-22T13:30:58.612Z"
   },
   {
    "duration": 21,
    "start_time": "2022-04-22T13:33:38.971Z"
   },
   {
    "duration": 121,
    "start_time": "2022-04-22T13:34:16.104Z"
   },
   {
    "duration": 20,
    "start_time": "2022-04-22T13:34:20.838Z"
   },
   {
    "duration": 118,
    "start_time": "2022-04-22T13:34:41.018Z"
   },
   {
    "duration": 21,
    "start_time": "2022-04-22T13:34:44.115Z"
   },
   {
    "duration": 115,
    "start_time": "2022-04-22T13:35:09.562Z"
   },
   {
    "duration": 1092,
    "start_time": "2022-04-22T13:35:32.706Z"
   },
   {
    "duration": 72,
    "start_time": "2022-04-22T13:35:33.799Z"
   },
   {
    "duration": 23,
    "start_time": "2022-04-22T13:35:33.873Z"
   },
   {
    "duration": 34,
    "start_time": "2022-04-22T13:35:33.906Z"
   },
   {
    "duration": 19,
    "start_time": "2022-04-22T13:35:33.941Z"
   },
   {
    "duration": 2,
    "start_time": "2022-04-22T13:35:33.962Z"
   },
   {
    "duration": 6,
    "start_time": "2022-04-22T13:35:33.966Z"
   },
   {
    "duration": 67,
    "start_time": "2022-04-22T13:35:33.974Z"
   },
   {
    "duration": 6,
    "start_time": "2022-04-22T13:35:34.043Z"
   },
   {
    "duration": 23,
    "start_time": "2022-04-22T13:35:34.051Z"
   },
   {
    "duration": 39,
    "start_time": "2022-04-22T13:35:34.076Z"
   },
   {
    "duration": 8,
    "start_time": "2022-04-22T13:35:34.116Z"
   },
   {
    "duration": 4,
    "start_time": "2022-04-22T13:35:34.125Z"
   },
   {
    "duration": 8,
    "start_time": "2022-04-22T13:35:34.131Z"
   },
   {
    "duration": 12,
    "start_time": "2022-04-22T13:35:34.140Z"
   },
   {
    "duration": 4,
    "start_time": "2022-04-22T13:35:34.153Z"
   },
   {
    "duration": 6,
    "start_time": "2022-04-22T13:35:34.158Z"
   },
   {
    "duration": 43,
    "start_time": "2022-04-22T13:35:34.165Z"
   },
   {
    "duration": 6,
    "start_time": "2022-04-22T13:35:34.209Z"
   },
   {
    "duration": 16,
    "start_time": "2022-04-22T13:35:34.217Z"
   },
   {
    "duration": 20,
    "start_time": "2022-04-22T13:35:34.235Z"
   },
   {
    "duration": 17,
    "start_time": "2022-04-22T13:35:34.256Z"
   },
   {
    "duration": 44,
    "start_time": "2022-04-22T13:35:34.274Z"
   },
   {
    "duration": 22,
    "start_time": "2022-04-22T13:35:34.319Z"
   },
   {
    "duration": 16,
    "start_time": "2022-04-22T13:35:34.343Z"
   },
   {
    "duration": 18,
    "start_time": "2022-04-22T13:35:34.361Z"
   },
   {
    "duration": 35,
    "start_time": "2022-04-22T13:35:34.408Z"
   },
   {
    "duration": 6,
    "start_time": "2022-04-22T13:35:34.447Z"
   },
   {
    "duration": 20,
    "start_time": "2022-04-22T13:35:34.455Z"
   },
   {
    "duration": 48,
    "start_time": "2022-04-22T13:35:34.477Z"
   },
   {
    "duration": 145,
    "start_time": "2022-04-22T13:35:34.526Z"
   },
   {
    "duration": 19,
    "start_time": "2022-04-22T13:35:34.672Z"
   },
   {
    "duration": 132,
    "start_time": "2022-04-22T13:35:34.692Z"
   },
   {
    "duration": 20,
    "start_time": "2022-04-22T13:35:34.825Z"
   },
   {
    "duration": 131,
    "start_time": "2022-04-22T13:35:34.847Z"
   },
   {
    "duration": 29,
    "start_time": "2022-04-22T13:35:34.979Z"
   },
   {
    "duration": 114,
    "start_time": "2022-04-22T13:35:35.010Z"
   }
  ],
  "celltoolbar": "Необработанный формат ячейки",
  "kernelspec": {
   "display_name": "Python 3 (ipykernel)",
   "language": "python",
   "name": "python3"
  },
  "language_info": {
   "codemirror_mode": {
    "name": "ipython",
    "version": 3
   },
   "file_extension": ".py",
   "mimetype": "text/x-python",
   "name": "python",
   "nbconvert_exporter": "python",
   "pygments_lexer": "ipython3",
   "version": "3.9.7"
  },
  "toc": {
   "base_numbering": 1,
   "nav_menu": {},
   "number_sections": true,
   "sideBar": true,
   "skip_h1_title": true,
   "title_cell": "Table of Contents",
   "title_sidebar": "Contents",
   "toc_cell": true,
   "toc_position": {
    "height": "calc(100% - 180px)",
    "left": "10px",
    "top": "150px",
    "width": "308.594px"
   },
   "toc_section_display": true,
   "toc_window_display": false
  }
 },
 "nbformat": 4,
 "nbformat_minor": 5
}
