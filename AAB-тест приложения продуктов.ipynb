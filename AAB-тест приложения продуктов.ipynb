{
 "cells": [
  {
   "cell_type": "markdown",
   "id": "958b3536",
   "metadata": {
    "toc": true
   },
   "source": [
    "<h1>Содержание<span class=\"tocSkip\"></span></h1>\n",
    "<div class=\"toc\"><ul class=\"toc-item\"><li><span><a href=\"#Описание-проекта\" data-toc-modified-id=\"Описание-проекта-1\"><span class=\"toc-item-num\">1&nbsp;&nbsp;</span>Описание проекта</a></span></li><li><span><a href=\"#Предобработка-и-изучение-данных\" data-toc-modified-id=\"Предобработка-и-изучение-данных-2\"><span class=\"toc-item-num\">2&nbsp;&nbsp;</span>Предобработка и изучение данных</a></span></li><li><span><a href=\"#Изучение-воронки-событий\" data-toc-modified-id=\"Изучение-воронки-событий-3\"><span class=\"toc-item-num\">3&nbsp;&nbsp;</span>Изучение воронки событий</a></span></li><li><span><a href=\"#Результаты-эксперимента\" data-toc-modified-id=\"Результаты-эксперимента-4\"><span class=\"toc-item-num\">4&nbsp;&nbsp;</span>Результаты эксперимента</a></span><ul class=\"toc-item\"><li><span><a href=\"#АА-тест\" data-toc-modified-id=\"АА-тест-4.1\"><span class=\"toc-item-num\">4.1&nbsp;&nbsp;</span>АА-тест</a></span></li><li><span><a href=\"#AB-тест\" data-toc-modified-id=\"AB-тест-4.2\"><span class=\"toc-item-num\">4.2&nbsp;&nbsp;</span>AB-тест</a></span></li></ul></li><li><span><a href=\"#Выводы\" data-toc-modified-id=\"Выводы-5\"><span class=\"toc-item-num\">5&nbsp;&nbsp;</span>Выводы</a></span></li><li><span><a href=\"#Рекомендации\" data-toc-modified-id=\"Рекомендации-6\"><span class=\"toc-item-num\">6&nbsp;&nbsp;</span>Рекомендации</a></span></li></ul></div>"
   ]
  },
  {
   "cell_type": "markdown",
   "id": "cf46b2e8",
   "metadata": {},
   "source": [
    "# A/A/B-тест мобильного приложения по продаже продуктов питания"
   ]
  },
  {
   "cell_type": "markdown",
   "id": "7f0093be",
   "metadata": {},
   "source": [
    "## Описание проекта"
   ]
  },
  {
   "cell_type": "markdown",
   "id": "2d5b8468",
   "metadata": {},
   "source": [
    "Стартапу, который продаёт продукты питания, необходимо разобраться, как ведут себя пользователи мобильного приложения.\n",
    "\n",
    "Необходимо <b>изучить воронку продаж</b>, узнать, на каких шагах \"отваливается\" больше всего пользователей.\n",
    "\n",
    "Также предстоит <b>изучить результаты A/A/B-теста</b> (с двумя контрольными и одной экспериментальной группами). Для исследуемой группы пользователей в приложении был изменен шрифт.\n",
    "\n",
    "Для проверки правильности настройки системы, которая собирает данные о пользователях, сравним сначала две контрольные группы между собой (А/A-тест), и только затем экспериментальную группу (A/B-тест).\n",
    "\n",
    "<b>Имеющиеся данные</b>:\n",
    "\n",
    "Файл 'logs_exp.csv'. Каждая запись в логе — это действие пользователя, или событие.\n",
    "\n",
    "Столбцы:\n",
    "- EventName — название события;\n",
    "- DeviceIDHash — уникальный идентификатор пользователя;\n",
    "- EventTimestamp — время события;\n",
    "- ExpId — номер эксперимента: 246 и 247 — контрольные группы, 248 — экспериментальная."
   ]
  },
  {
   "cell_type": "markdown",
   "id": "31fa2440",
   "metadata": {},
   "source": [
    "## Предобработка и изучение данных"
   ]
  },
  {
   "cell_type": "code",
   "execution_count": 1,
   "id": "37ce932c",
   "metadata": {},
   "outputs": [],
   "source": [
    "import pandas as pd\n",
    "import numpy as np\n",
    "from datetime import datetime\n",
    "import matplotlib.pyplot as plt\n",
    "from plotly import graph_objects as go\n",
    "from scipy import stats as st\n",
    "import math as mth"
   ]
  },
  {
   "cell_type": "code",
   "execution_count": 2,
   "id": "1e24adbc",
   "metadata": {},
   "outputs": [],
   "source": [
    "try:\n",
    "    df = pd.read_csv('C:/Users/Антон/datasets/logs_exp.csv', sep='\\t')\n",
    "except FileNotFoundError:\n",
    "    df = pd.read_csv('/datasets/logs_exp.csv', sep='\\t')"
   ]
  },
  {
   "cell_type": "code",
   "execution_count": 3,
   "id": "fb94ff67",
   "metadata": {},
   "outputs": [
    {
     "data": {
      "text/html": [
       "<div>\n",
       "<style scoped>\n",
       "    .dataframe tbody tr th:only-of-type {\n",
       "        vertical-align: middle;\n",
       "    }\n",
       "\n",
       "    .dataframe tbody tr th {\n",
       "        vertical-align: top;\n",
       "    }\n",
       "\n",
       "    .dataframe thead th {\n",
       "        text-align: right;\n",
       "    }\n",
       "</style>\n",
       "<table border=\"1\" class=\"dataframe\">\n",
       "  <thead>\n",
       "    <tr style=\"text-align: right;\">\n",
       "      <th></th>\n",
       "      <th>EventName</th>\n",
       "      <th>DeviceIDHash</th>\n",
       "      <th>EventTimestamp</th>\n",
       "      <th>ExpId</th>\n",
       "    </tr>\n",
       "  </thead>\n",
       "  <tbody>\n",
       "    <tr>\n",
       "      <th>0</th>\n",
       "      <td>MainScreenAppear</td>\n",
       "      <td>4575588528974610257</td>\n",
       "      <td>1564029816</td>\n",
       "      <td>246</td>\n",
       "    </tr>\n",
       "    <tr>\n",
       "      <th>1</th>\n",
       "      <td>MainScreenAppear</td>\n",
       "      <td>7416695313311560658</td>\n",
       "      <td>1564053102</td>\n",
       "      <td>246</td>\n",
       "    </tr>\n",
       "    <tr>\n",
       "      <th>2</th>\n",
       "      <td>PaymentScreenSuccessful</td>\n",
       "      <td>3518123091307005509</td>\n",
       "      <td>1564054127</td>\n",
       "      <td>248</td>\n",
       "    </tr>\n",
       "    <tr>\n",
       "      <th>3</th>\n",
       "      <td>CartScreenAppear</td>\n",
       "      <td>3518123091307005509</td>\n",
       "      <td>1564054127</td>\n",
       "      <td>248</td>\n",
       "    </tr>\n",
       "    <tr>\n",
       "      <th>4</th>\n",
       "      <td>PaymentScreenSuccessful</td>\n",
       "      <td>6217807653094995999</td>\n",
       "      <td>1564055322</td>\n",
       "      <td>248</td>\n",
       "    </tr>\n",
       "    <tr>\n",
       "      <th>...</th>\n",
       "      <td>...</td>\n",
       "      <td>...</td>\n",
       "      <td>...</td>\n",
       "      <td>...</td>\n",
       "    </tr>\n",
       "    <tr>\n",
       "      <th>244121</th>\n",
       "      <td>MainScreenAppear</td>\n",
       "      <td>4599628364049201812</td>\n",
       "      <td>1565212345</td>\n",
       "      <td>247</td>\n",
       "    </tr>\n",
       "    <tr>\n",
       "      <th>244122</th>\n",
       "      <td>MainScreenAppear</td>\n",
       "      <td>5849806612437486590</td>\n",
       "      <td>1565212439</td>\n",
       "      <td>246</td>\n",
       "    </tr>\n",
       "    <tr>\n",
       "      <th>244123</th>\n",
       "      <td>MainScreenAppear</td>\n",
       "      <td>5746969938801999050</td>\n",
       "      <td>1565212483</td>\n",
       "      <td>246</td>\n",
       "    </tr>\n",
       "    <tr>\n",
       "      <th>244124</th>\n",
       "      <td>MainScreenAppear</td>\n",
       "      <td>5746969938801999050</td>\n",
       "      <td>1565212498</td>\n",
       "      <td>246</td>\n",
       "    </tr>\n",
       "    <tr>\n",
       "      <th>244125</th>\n",
       "      <td>OffersScreenAppear</td>\n",
       "      <td>5746969938801999050</td>\n",
       "      <td>1565212517</td>\n",
       "      <td>246</td>\n",
       "    </tr>\n",
       "  </tbody>\n",
       "</table>\n",
       "<p>244126 rows × 4 columns</p>\n",
       "</div>"
      ],
      "text/plain": [
       "                      EventName         DeviceIDHash  EventTimestamp  ExpId\n",
       "0              MainScreenAppear  4575588528974610257      1564029816    246\n",
       "1              MainScreenAppear  7416695313311560658      1564053102    246\n",
       "2       PaymentScreenSuccessful  3518123091307005509      1564054127    248\n",
       "3              CartScreenAppear  3518123091307005509      1564054127    248\n",
       "4       PaymentScreenSuccessful  6217807653094995999      1564055322    248\n",
       "...                         ...                  ...             ...    ...\n",
       "244121         MainScreenAppear  4599628364049201812      1565212345    247\n",
       "244122         MainScreenAppear  5849806612437486590      1565212439    246\n",
       "244123         MainScreenAppear  5746969938801999050      1565212483    246\n",
       "244124         MainScreenAppear  5746969938801999050      1565212498    246\n",
       "244125       OffersScreenAppear  5746969938801999050      1565212517    246\n",
       "\n",
       "[244126 rows x 4 columns]"
      ]
     },
     "execution_count": 3,
     "metadata": {},
     "output_type": "execute_result"
    }
   ],
   "source": [
    "df"
   ]
  },
  {
   "cell_type": "code",
   "execution_count": 4,
   "id": "c96a7125",
   "metadata": {},
   "outputs": [
    {
     "name": "stdout",
     "output_type": "stream",
     "text": [
      "<class 'pandas.core.frame.DataFrame'>\n",
      "RangeIndex: 244126 entries, 0 to 244125\n",
      "Data columns (total 4 columns):\n",
      " #   Column          Non-Null Count   Dtype \n",
      "---  ------          --------------   ----- \n",
      " 0   EventName       244126 non-null  object\n",
      " 1   DeviceIDHash    244126 non-null  int64 \n",
      " 2   EventTimestamp  244126 non-null  int64 \n",
      " 3   ExpId           244126 non-null  int64 \n",
      "dtypes: int64(3), object(1)\n",
      "memory usage: 7.5+ MB\n"
     ]
    }
   ],
   "source": [
    "df.info()"
   ]
  },
  {
   "cell_type": "code",
   "execution_count": 5,
   "id": "541f82d4",
   "metadata": {},
   "outputs": [],
   "source": [
    "# функция для обнаружения неявных пустых значений\n",
    "# в качестве дефолтного аргумента сделаем кортеж из возможных пустых значений\n",
    "\n",
    "def nan_values(df, nan_list=('',' ', '\"\"', '\" \"', None, np.nan)):\n",
    "    \n",
    "    # создаем пустые списки для формирования выходного датафрейма\n",
    "    list_count=[]\n",
    "    odds=[]\n",
    "    list_share=[]\n",
    "    \n",
    "    # цикл проходится по всем столбцам исходного датафрейма\n",
    "    for col in df.columns:\n",
    "        \n",
    "        # и наполняет первый список количеством пустых значений\n",
    "        list_count.append(sum(df[col].isin(nan_list)))\n",
    "        \n",
    "        # второй список — разницей между общим числом строк в исходном датафрейме и количеством пустых значений\n",
    "        odds.append(len(df)-sum(df[col].isin(nan_list)))\n",
    "        \n",
    "        # третий — долей пустых значений\n",
    "        list_share.append(round(sum(df[col].isin(nan_list)) * 100 / len(df), 2))\n",
    "    \n",
    "    # выходной датафрейм\n",
    "    missing_values = pd.DataFrame({'column_name' : df.columns,\n",
    "                                   'num_missing' : list_count,\n",
    "                                   'odds' : odds,\n",
    "                                   'percent_missing' : list_share})\n",
    "    return missing_values"
   ]
  },
  {
   "cell_type": "code",
   "execution_count": 6,
   "id": "049eb647",
   "metadata": {},
   "outputs": [
    {
     "data": {
      "text/html": [
       "<div>\n",
       "<style scoped>\n",
       "    .dataframe tbody tr th:only-of-type {\n",
       "        vertical-align: middle;\n",
       "    }\n",
       "\n",
       "    .dataframe tbody tr th {\n",
       "        vertical-align: top;\n",
       "    }\n",
       "\n",
       "    .dataframe thead th {\n",
       "        text-align: right;\n",
       "    }\n",
       "</style>\n",
       "<table border=\"1\" class=\"dataframe\">\n",
       "  <thead>\n",
       "    <tr style=\"text-align: right;\">\n",
       "      <th></th>\n",
       "      <th>column_name</th>\n",
       "      <th>num_missing</th>\n",
       "      <th>odds</th>\n",
       "      <th>percent_missing</th>\n",
       "    </tr>\n",
       "  </thead>\n",
       "  <tbody>\n",
       "    <tr>\n",
       "      <th>0</th>\n",
       "      <td>EventName</td>\n",
       "      <td>0</td>\n",
       "      <td>244126</td>\n",
       "      <td>0.0</td>\n",
       "    </tr>\n",
       "    <tr>\n",
       "      <th>1</th>\n",
       "      <td>DeviceIDHash</td>\n",
       "      <td>0</td>\n",
       "      <td>244126</td>\n",
       "      <td>0.0</td>\n",
       "    </tr>\n",
       "    <tr>\n",
       "      <th>2</th>\n",
       "      <td>EventTimestamp</td>\n",
       "      <td>0</td>\n",
       "      <td>244126</td>\n",
       "      <td>0.0</td>\n",
       "    </tr>\n",
       "    <tr>\n",
       "      <th>3</th>\n",
       "      <td>ExpId</td>\n",
       "      <td>0</td>\n",
       "      <td>244126</td>\n",
       "      <td>0.0</td>\n",
       "    </tr>\n",
       "  </tbody>\n",
       "</table>\n",
       "</div>"
      ],
      "text/plain": [
       "      column_name  num_missing    odds  percent_missing\n",
       "0       EventName            0  244126              0.0\n",
       "1    DeviceIDHash            0  244126              0.0\n",
       "2  EventTimestamp            0  244126              0.0\n",
       "3           ExpId            0  244126              0.0"
      ]
     },
     "execution_count": 6,
     "metadata": {},
     "output_type": "execute_result"
    }
   ],
   "source": [
    "nan_values(df)"
   ]
  },
  {
   "cell_type": "code",
   "execution_count": 7,
   "id": "8e5ec8f7",
   "metadata": {},
   "outputs": [],
   "source": [
    "df.columns = ['event_name', 'user_id', 'event_timestamp', 'group']"
   ]
  },
  {
   "cell_type": "code",
   "execution_count": 8,
   "id": "a80ca39a",
   "metadata": {},
   "outputs": [
    {
     "data": {
      "text/plain": [
       "413"
      ]
     },
     "execution_count": 8,
     "metadata": {},
     "output_type": "execute_result"
    }
   ],
   "source": [
    "df.duplicated().sum()"
   ]
  },
  {
   "cell_type": "code",
   "execution_count": 9,
   "id": "b96bb0ac",
   "metadata": {},
   "outputs": [
    {
     "name": "stdout",
     "output_type": "stream",
     "text": [
      "Доля удаленных дубликатов — 0.17%\n"
     ]
    }
   ],
   "source": [
    "print(f\"Доля удаленных дубликатов — {round(df.duplicated().sum()/df['user_id'].count()*100,2)}%\")"
   ]
  },
  {
   "cell_type": "code",
   "execution_count": 10,
   "id": "7e4305bb",
   "metadata": {},
   "outputs": [],
   "source": [
    "df = df.drop_duplicates().copy()"
   ]
  },
  {
   "cell_type": "code",
   "execution_count": 11,
   "id": "4ccf3aaa",
   "metadata": {},
   "outputs": [
    {
     "data": {
      "text/html": [
       "<div>\n",
       "<style scoped>\n",
       "    .dataframe tbody tr th:only-of-type {\n",
       "        vertical-align: middle;\n",
       "    }\n",
       "\n",
       "    .dataframe tbody tr th {\n",
       "        vertical-align: top;\n",
       "    }\n",
       "\n",
       "    .dataframe thead th {\n",
       "        text-align: right;\n",
       "    }\n",
       "</style>\n",
       "<table border=\"1\" class=\"dataframe\">\n",
       "  <thead>\n",
       "    <tr style=\"text-align: right;\">\n",
       "      <th></th>\n",
       "      <th>event_name</th>\n",
       "      <th>user_id</th>\n",
       "      <th>event_timestamp</th>\n",
       "      <th>group</th>\n",
       "      <th>datetime</th>\n",
       "      <th>date</th>\n",
       "    </tr>\n",
       "  </thead>\n",
       "  <tbody>\n",
       "    <tr>\n",
       "      <th>0</th>\n",
       "      <td>MainScreenAppear</td>\n",
       "      <td>4575588528974610257</td>\n",
       "      <td>1564029816</td>\n",
       "      <td>246</td>\n",
       "      <td>2019-07-25 04:43:36</td>\n",
       "      <td>2019-07-25</td>\n",
       "    </tr>\n",
       "    <tr>\n",
       "      <th>1</th>\n",
       "      <td>MainScreenAppear</td>\n",
       "      <td>7416695313311560658</td>\n",
       "      <td>1564053102</td>\n",
       "      <td>246</td>\n",
       "      <td>2019-07-25 11:11:42</td>\n",
       "      <td>2019-07-25</td>\n",
       "    </tr>\n",
       "    <tr>\n",
       "      <th>2</th>\n",
       "      <td>PaymentScreenSuccessful</td>\n",
       "      <td>3518123091307005509</td>\n",
       "      <td>1564054127</td>\n",
       "      <td>248</td>\n",
       "      <td>2019-07-25 11:28:47</td>\n",
       "      <td>2019-07-25</td>\n",
       "    </tr>\n",
       "    <tr>\n",
       "      <th>3</th>\n",
       "      <td>CartScreenAppear</td>\n",
       "      <td>3518123091307005509</td>\n",
       "      <td>1564054127</td>\n",
       "      <td>248</td>\n",
       "      <td>2019-07-25 11:28:47</td>\n",
       "      <td>2019-07-25</td>\n",
       "    </tr>\n",
       "    <tr>\n",
       "      <th>4</th>\n",
       "      <td>PaymentScreenSuccessful</td>\n",
       "      <td>6217807653094995999</td>\n",
       "      <td>1564055322</td>\n",
       "      <td>248</td>\n",
       "      <td>2019-07-25 11:48:42</td>\n",
       "      <td>2019-07-25</td>\n",
       "    </tr>\n",
       "    <tr>\n",
       "      <th>...</th>\n",
       "      <td>...</td>\n",
       "      <td>...</td>\n",
       "      <td>...</td>\n",
       "      <td>...</td>\n",
       "      <td>...</td>\n",
       "      <td>...</td>\n",
       "    </tr>\n",
       "    <tr>\n",
       "      <th>244121</th>\n",
       "      <td>MainScreenAppear</td>\n",
       "      <td>4599628364049201812</td>\n",
       "      <td>1565212345</td>\n",
       "      <td>247</td>\n",
       "      <td>2019-08-07 21:12:25</td>\n",
       "      <td>2019-08-07</td>\n",
       "    </tr>\n",
       "    <tr>\n",
       "      <th>244122</th>\n",
       "      <td>MainScreenAppear</td>\n",
       "      <td>5849806612437486590</td>\n",
       "      <td>1565212439</td>\n",
       "      <td>246</td>\n",
       "      <td>2019-08-07 21:13:59</td>\n",
       "      <td>2019-08-07</td>\n",
       "    </tr>\n",
       "    <tr>\n",
       "      <th>244123</th>\n",
       "      <td>MainScreenAppear</td>\n",
       "      <td>5746969938801999050</td>\n",
       "      <td>1565212483</td>\n",
       "      <td>246</td>\n",
       "      <td>2019-08-07 21:14:43</td>\n",
       "      <td>2019-08-07</td>\n",
       "    </tr>\n",
       "    <tr>\n",
       "      <th>244124</th>\n",
       "      <td>MainScreenAppear</td>\n",
       "      <td>5746969938801999050</td>\n",
       "      <td>1565212498</td>\n",
       "      <td>246</td>\n",
       "      <td>2019-08-07 21:14:58</td>\n",
       "      <td>2019-08-07</td>\n",
       "    </tr>\n",
       "    <tr>\n",
       "      <th>244125</th>\n",
       "      <td>OffersScreenAppear</td>\n",
       "      <td>5746969938801999050</td>\n",
       "      <td>1565212517</td>\n",
       "      <td>246</td>\n",
       "      <td>2019-08-07 21:15:17</td>\n",
       "      <td>2019-08-07</td>\n",
       "    </tr>\n",
       "  </tbody>\n",
       "</table>\n",
       "<p>243713 rows × 6 columns</p>\n",
       "</div>"
      ],
      "text/plain": [
       "                     event_name              user_id  event_timestamp  group  \\\n",
       "0              MainScreenAppear  4575588528974610257       1564029816    246   \n",
       "1              MainScreenAppear  7416695313311560658       1564053102    246   \n",
       "2       PaymentScreenSuccessful  3518123091307005509       1564054127    248   \n",
       "3              CartScreenAppear  3518123091307005509       1564054127    248   \n",
       "4       PaymentScreenSuccessful  6217807653094995999       1564055322    248   \n",
       "...                         ...                  ...              ...    ...   \n",
       "244121         MainScreenAppear  4599628364049201812       1565212345    247   \n",
       "244122         MainScreenAppear  5849806612437486590       1565212439    246   \n",
       "244123         MainScreenAppear  5746969938801999050       1565212483    246   \n",
       "244124         MainScreenAppear  5746969938801999050       1565212498    246   \n",
       "244125       OffersScreenAppear  5746969938801999050       1565212517    246   \n",
       "\n",
       "                   datetime        date  \n",
       "0       2019-07-25 04:43:36  2019-07-25  \n",
       "1       2019-07-25 11:11:42  2019-07-25  \n",
       "2       2019-07-25 11:28:47  2019-07-25  \n",
       "3       2019-07-25 11:28:47  2019-07-25  \n",
       "4       2019-07-25 11:48:42  2019-07-25  \n",
       "...                     ...         ...  \n",
       "244121  2019-08-07 21:12:25  2019-08-07  \n",
       "244122  2019-08-07 21:13:59  2019-08-07  \n",
       "244123  2019-08-07 21:14:43  2019-08-07  \n",
       "244124  2019-08-07 21:14:58  2019-08-07  \n",
       "244125  2019-08-07 21:15:17  2019-08-07  \n",
       "\n",
       "[243713 rows x 6 columns]"
      ]
     },
     "execution_count": 11,
     "metadata": {},
     "output_type": "execute_result"
    }
   ],
   "source": [
    "df['datetime'] = df['event_timestamp'].apply(lambda x: datetime.utcfromtimestamp(x).strftime('%Y-%m-%d %H:%M:%S'))\n",
    "df['date'] = df['event_timestamp'].apply(lambda x: datetime.utcfromtimestamp(x).strftime('%Y-%m-%d'))\n",
    "df"
   ]
  },
  {
   "cell_type": "code",
   "execution_count": 13,
   "id": "6877c583",
   "metadata": {},
   "outputs": [
    {
     "data": {
      "text/html": [
       "<div>\n",
       "<style scoped>\n",
       "    .dataframe tbody tr th:only-of-type {\n",
       "        vertical-align: middle;\n",
       "    }\n",
       "\n",
       "    .dataframe tbody tr th {\n",
       "        vertical-align: top;\n",
       "    }\n",
       "\n",
       "    .dataframe thead th {\n",
       "        text-align: right;\n",
       "    }\n",
       "</style>\n",
       "<table border=\"1\" class=\"dataframe\">\n",
       "  <thead>\n",
       "    <tr style=\"text-align: right;\">\n",
       "      <th></th>\n",
       "      <th>event_name</th>\n",
       "      <th>user_id</th>\n",
       "    </tr>\n",
       "  </thead>\n",
       "  <tbody>\n",
       "    <tr>\n",
       "      <th>0</th>\n",
       "      <td>MainScreenAppear</td>\n",
       "      <td>119101</td>\n",
       "    </tr>\n",
       "    <tr>\n",
       "      <th>1</th>\n",
       "      <td>OffersScreenAppear</td>\n",
       "      <td>46808</td>\n",
       "    </tr>\n",
       "    <tr>\n",
       "      <th>2</th>\n",
       "      <td>CartScreenAppear</td>\n",
       "      <td>42668</td>\n",
       "    </tr>\n",
       "    <tr>\n",
       "      <th>3</th>\n",
       "      <td>PaymentScreenSuccessful</td>\n",
       "      <td>34118</td>\n",
       "    </tr>\n",
       "    <tr>\n",
       "      <th>4</th>\n",
       "      <td>Tutorial</td>\n",
       "      <td>1018</td>\n",
       "    </tr>\n",
       "  </tbody>\n",
       "</table>\n",
       "</div>"
      ],
      "text/plain": [
       "                event_name  user_id\n",
       "0         MainScreenAppear   119101\n",
       "1       OffersScreenAppear    46808\n",
       "2         CartScreenAppear    42668\n",
       "3  PaymentScreenSuccessful    34118\n",
       "4                 Tutorial     1018"
      ]
     },
     "execution_count": 13,
     "metadata": {},
     "output_type": "execute_result"
    }
   ],
   "source": [
    "df.groupby('event_name')['user_id'].count().sort_values(ascending=False).reset_index()"
   ]
  },
  {
   "cell_type": "markdown",
   "id": "eda5aa1e",
   "metadata": {},
   "source": [
    "Общее число событий равно размеру всего датафрейма — 243713.\n",
    "\n",
    "В логе пять событий:\n",
    "- Главный экран (MainScreenAppear) — встречается 119101 раз;\n",
    "- Экран с выбором продуктов (OffersScreenAppear) — 46808 раз;\n",
    "- Корзина (CartScreenAppear) — 42668 раз;\n",
    "- Экран с соощением об успешной оплате (PaymentScreenSuccessful) — 34118 раз;\n",
    "- Страница с инструкцией (Tutorial) — 1018 раз."
   ]
  },
  {
   "cell_type": "code",
   "execution_count": 14,
   "id": "c6221e84",
   "metadata": {},
   "outputs": [
    {
     "name": "stdout",
     "output_type": "stream",
     "text": [
      "Число уникальных пользователей во всем логе — 7551.\n"
     ]
    }
   ],
   "source": [
    "print(f\"Число уникальных пользователей во всем логе — {df['user_id'].nunique()}.\")"
   ]
  },
  {
   "cell_type": "code",
   "execution_count": 15,
   "id": "8724d4ac",
   "metadata": {},
   "outputs": [
    {
     "name": "stdout",
     "output_type": "stream",
     "text": [
      "Среднее число событий на пользователя — 32.\n",
      "Медианное число событий на пользователя — 20.\n"
     ]
    }
   ],
   "source": [
    "print(f\"Среднее число событий на пользователя — {round(df['event_name'].count()/df['user_id'].nunique())}.\")\n",
    "events_median = df.groupby('user_id')['event_name'].count()\n",
    "print(f\"Медианное число событий на пользователя — {int(events_median.median())}.\")"
   ]
  },
  {
   "cell_type": "code",
   "execution_count": 16,
   "id": "4dd04b2f",
   "metadata": {},
   "outputs": [
    {
     "data": {
      "text/plain": [
       "user_id\n",
       "6304868067479728361    2307\n",
       "197027893265565660     1998\n",
       "4623191541214045580    1768\n",
       "6932517045703054087    1439\n",
       "1754140665440434215    1221\n",
       "3337471580007169353    1186\n",
       "7738058666231999878     888\n",
       "1055544042902443290     854\n",
       "4713748699910253089     824\n",
       "8118046800480174342     755\n",
       "1989685320445148348     729\n",
       "3521696259961091617     702\n",
       "3610536745613892312     661\n",
       "1100007125648169445     661\n",
       "2305766456715991733     658\n",
       "5996739817823449506     585\n",
       "3940194724501792579     569\n",
       "8173190940950873857     555\n",
       "2768580714092136945     529\n",
       "674541835027541643      496\n",
       "Name: event_name, dtype: int64"
      ]
     },
     "execution_count": 16,
     "metadata": {},
     "output_type": "execute_result"
    }
   ],
   "source": [
    "events_median.sort_values(ascending=False).head(20)"
   ]
  },
  {
   "cell_type": "code",
   "execution_count": 17,
   "id": "8dd143d3",
   "metadata": {},
   "outputs": [
    {
     "name": "stdout",
     "output_type": "stream",
     "text": [
      "2019-07-25\n",
      "2019-08-07\n"
     ]
    }
   ],
   "source": [
    "print(df['date'].min())\n",
    "print(df['date'].max())"
   ]
  },
  {
   "cell_type": "markdown",
   "id": "3674f5a6",
   "metadata": {},
   "source": [
    "Эксперимент проводился с 25 июля по 7 августа 2019 года."
   ]
  },
  {
   "cell_type": "markdown",
   "id": "dc3c33d4",
   "metadata": {},
   "source": [
    "Построим гистограмму и определим, в какие дни логи наиболее полные."
   ]
  },
  {
   "cell_type": "code",
   "execution_count": 18,
   "id": "b78af7f7",
   "metadata": {},
   "outputs": [
    {
     "data": {
      "image/png": "[encoded data removed]",
      "text/plain": [
       "<Figure size 864x432 with 1 Axes>"
      ]
     },
     "metadata": {
      "needs_background": "light"
     },
     "output_type": "display_data"
    }
   ],
   "source": [
    "df['date'].hist(bins=14, figsize=(12,6))\n",
    "plt.xticks(rotation=45)\n",
    "plt.xlabel('Дата')\n",
    "plt.ylabel('Число событий')\n",
    "plt.title('Количество событий во времени')\n",
    "plt.show()"
   ]
  },
  {
   "cell_type": "markdown",
   "id": "bc47a859",
   "metadata": {},
   "source": [
    "По факту, самые полные данные имеются лишь за одну неделю — с 1 по 7 августа. Отсечем остальное."
   ]
  },
  {
   "cell_type": "code",
   "execution_count": 19,
   "id": "00fdf994",
   "metadata": {},
   "outputs": [
    {
     "data": {
      "text/html": [
       "<div>\n",
       "<style scoped>\n",
       "    .dataframe tbody tr th:only-of-type {\n",
       "        vertical-align: middle;\n",
       "    }\n",
       "\n",
       "    .dataframe tbody tr th {\n",
       "        vertical-align: top;\n",
       "    }\n",
       "\n",
       "    .dataframe thead th {\n",
       "        text-align: right;\n",
       "    }\n",
       "</style>\n",
       "<table border=\"1\" class=\"dataframe\">\n",
       "  <thead>\n",
       "    <tr style=\"text-align: right;\">\n",
       "      <th></th>\n",
       "      <th>event_name</th>\n",
       "      <th>user_id</th>\n",
       "      <th>event_timestamp</th>\n",
       "      <th>group</th>\n",
       "      <th>datetime</th>\n",
       "      <th>date</th>\n",
       "    </tr>\n",
       "  </thead>\n",
       "  <tbody>\n",
       "    <tr>\n",
       "      <th>0</th>\n",
       "      <td>Tutorial</td>\n",
       "      <td>3737462046622621720</td>\n",
       "      <td>1564618048</td>\n",
       "      <td>246</td>\n",
       "      <td>2019-08-01 00:07:28</td>\n",
       "      <td>2019-08-01</td>\n",
       "    </tr>\n",
       "    <tr>\n",
       "      <th>1</th>\n",
       "      <td>MainScreenAppear</td>\n",
       "      <td>3737462046622621720</td>\n",
       "      <td>1564618080</td>\n",
       "      <td>246</td>\n",
       "      <td>2019-08-01 00:08:00</td>\n",
       "      <td>2019-08-01</td>\n",
       "    </tr>\n",
       "    <tr>\n",
       "      <th>2</th>\n",
       "      <td>MainScreenAppear</td>\n",
       "      <td>3737462046622621720</td>\n",
       "      <td>1564618135</td>\n",
       "      <td>246</td>\n",
       "      <td>2019-08-01 00:08:55</td>\n",
       "      <td>2019-08-01</td>\n",
       "    </tr>\n",
       "    <tr>\n",
       "      <th>3</th>\n",
       "      <td>OffersScreenAppear</td>\n",
       "      <td>3737462046622621720</td>\n",
       "      <td>1564618138</td>\n",
       "      <td>246</td>\n",
       "      <td>2019-08-01 00:08:58</td>\n",
       "      <td>2019-08-01</td>\n",
       "    </tr>\n",
       "    <tr>\n",
       "      <th>4</th>\n",
       "      <td>MainScreenAppear</td>\n",
       "      <td>1433840883824088890</td>\n",
       "      <td>1564618139</td>\n",
       "      <td>247</td>\n",
       "      <td>2019-08-01 00:08:59</td>\n",
       "      <td>2019-08-01</td>\n",
       "    </tr>\n",
       "    <tr>\n",
       "      <th>...</th>\n",
       "      <td>...</td>\n",
       "      <td>...</td>\n",
       "      <td>...</td>\n",
       "      <td>...</td>\n",
       "      <td>...</td>\n",
       "      <td>...</td>\n",
       "    </tr>\n",
       "    <tr>\n",
       "      <th>240882</th>\n",
       "      <td>MainScreenAppear</td>\n",
       "      <td>4599628364049201812</td>\n",
       "      <td>1565212345</td>\n",
       "      <td>247</td>\n",
       "      <td>2019-08-07 21:12:25</td>\n",
       "      <td>2019-08-07</td>\n",
       "    </tr>\n",
       "    <tr>\n",
       "      <th>240883</th>\n",
       "      <td>MainScreenAppear</td>\n",
       "      <td>5849806612437486590</td>\n",
       "      <td>1565212439</td>\n",
       "      <td>246</td>\n",
       "      <td>2019-08-07 21:13:59</td>\n",
       "      <td>2019-08-07</td>\n",
       "    </tr>\n",
       "    <tr>\n",
       "      <th>240884</th>\n",
       "      <td>MainScreenAppear</td>\n",
       "      <td>5746969938801999050</td>\n",
       "      <td>1565212483</td>\n",
       "      <td>246</td>\n",
       "      <td>2019-08-07 21:14:43</td>\n",
       "      <td>2019-08-07</td>\n",
       "    </tr>\n",
       "    <tr>\n",
       "      <th>240885</th>\n",
       "      <td>MainScreenAppear</td>\n",
       "      <td>5746969938801999050</td>\n",
       "      <td>1565212498</td>\n",
       "      <td>246</td>\n",
       "      <td>2019-08-07 21:14:58</td>\n",
       "      <td>2019-08-07</td>\n",
       "    </tr>\n",
       "    <tr>\n",
       "      <th>240886</th>\n",
       "      <td>OffersScreenAppear</td>\n",
       "      <td>5746969938801999050</td>\n",
       "      <td>1565212517</td>\n",
       "      <td>246</td>\n",
       "      <td>2019-08-07 21:15:17</td>\n",
       "      <td>2019-08-07</td>\n",
       "    </tr>\n",
       "  </tbody>\n",
       "</table>\n",
       "<p>240887 rows × 6 columns</p>\n",
       "</div>"
      ],
      "text/plain": [
       "                event_name              user_id  event_timestamp  group  \\\n",
       "0                 Tutorial  3737462046622621720       1564618048    246   \n",
       "1         MainScreenAppear  3737462046622621720       1564618080    246   \n",
       "2         MainScreenAppear  3737462046622621720       1564618135    246   \n",
       "3       OffersScreenAppear  3737462046622621720       1564618138    246   \n",
       "4         MainScreenAppear  1433840883824088890       1564618139    247   \n",
       "...                    ...                  ...              ...    ...   \n",
       "240882    MainScreenAppear  4599628364049201812       1565212345    247   \n",
       "240883    MainScreenAppear  5849806612437486590       1565212439    246   \n",
       "240884    MainScreenAppear  5746969938801999050       1565212483    246   \n",
       "240885    MainScreenAppear  5746969938801999050       1565212498    246   \n",
       "240886  OffersScreenAppear  5746969938801999050       1565212517    246   \n",
       "\n",
       "                   datetime        date  \n",
       "0       2019-08-01 00:07:28  2019-08-01  \n",
       "1       2019-08-01 00:08:00  2019-08-01  \n",
       "2       2019-08-01 00:08:55  2019-08-01  \n",
       "3       2019-08-01 00:08:58  2019-08-01  \n",
       "4       2019-08-01 00:08:59  2019-08-01  \n",
       "...                     ...         ...  \n",
       "240882  2019-08-07 21:12:25  2019-08-07  \n",
       "240883  2019-08-07 21:13:59  2019-08-07  \n",
       "240884  2019-08-07 21:14:43  2019-08-07  \n",
       "240885  2019-08-07 21:14:58  2019-08-07  \n",
       "240886  2019-08-07 21:15:17  2019-08-07  \n",
       "\n",
       "[240887 rows x 6 columns]"
      ]
     },
     "execution_count": 19,
     "metadata": {},
     "output_type": "execute_result"
    }
   ],
   "source": [
    "df_new = df.query('date >= \"2019-08-01\"').reset_index(drop=True)\n",
    "df_new"
   ]
  },
  {
   "cell_type": "code",
   "execution_count": 20,
   "id": "67d5c76e",
   "metadata": {},
   "outputs": [
    {
     "name": "stdout",
     "output_type": "stream",
     "text": [
      "После отсечения лишнего потеряли 2826 событий, или 1%.\n"
     ]
    }
   ],
   "source": [
    "print(f\"\\\n",
    "После отсечения лишнего потеряли {df['event_name'].count() - df_new['event_name'].count()} событий, \\\n",
    "или {round((df['event_name'].count() - df_new['event_name'].count())/df['event_name'].count()*100)}%.\")"
   ]
  },
  {
   "cell_type": "code",
   "execution_count": 21,
   "id": "87df04bf",
   "metadata": {},
   "outputs": [
    {
     "name": "stdout",
     "output_type": "stream",
     "text": [
      "И 17 пользователей (или 0.2%).\n"
     ]
    }
   ],
   "source": [
    "print(f\"И {df['user_id'].nunique() - df_new['user_id'].nunique()} пользователей \\\n",
    "(или {round((df['user_id'].nunique() - df_new['user_id'].nunique())/df['user_id'].nunique()*100, 1)}%).\")"
   ]
  },
  {
   "cell_type": "code",
   "execution_count": 22,
   "id": "1a1886e3",
   "metadata": {},
   "outputs": [
    {
     "data": {
      "text/html": [
       "<div>\n",
       "<style scoped>\n",
       "    .dataframe tbody tr th:only-of-type {\n",
       "        vertical-align: middle;\n",
       "    }\n",
       "\n",
       "    .dataframe tbody tr th {\n",
       "        vertical-align: top;\n",
       "    }\n",
       "\n",
       "    .dataframe thead th {\n",
       "        text-align: right;\n",
       "    }\n",
       "</style>\n",
       "<table border=\"1\" class=\"dataframe\">\n",
       "  <thead>\n",
       "    <tr style=\"text-align: right;\">\n",
       "      <th></th>\n",
       "      <th>group</th>\n",
       "      <th>user_id</th>\n",
       "    </tr>\n",
       "  </thead>\n",
       "  <tbody>\n",
       "    <tr>\n",
       "      <th>0</th>\n",
       "      <td>246</td>\n",
       "      <td>79302</td>\n",
       "    </tr>\n",
       "    <tr>\n",
       "      <th>1</th>\n",
       "      <td>247</td>\n",
       "      <td>77022</td>\n",
       "    </tr>\n",
       "    <tr>\n",
       "      <th>2</th>\n",
       "      <td>248</td>\n",
       "      <td>84563</td>\n",
       "    </tr>\n",
       "  </tbody>\n",
       "</table>\n",
       "</div>"
      ],
      "text/plain": [
       "   group  user_id\n",
       "0    246    79302\n",
       "1    247    77022\n",
       "2    248    84563"
      ]
     },
     "execution_count": 22,
     "metadata": {},
     "output_type": "execute_result"
    }
   ],
   "source": [
    "df_new.groupby('group')['user_id'].count().reset_index()"
   ]
  },
  {
   "cell_type": "markdown",
   "id": "fb4d0e82",
   "metadata": {},
   "source": [
    "События по группам:\n",
    "- 79425 в первой контрольной (246-й);\n",
    "- 77147 во второй контрольной (247-й);\n",
    "- 84726 в экспериментальной (248-й)."
   ]
  },
  {
   "cell_type": "markdown",
   "id": "38847147",
   "metadata": {},
   "source": [
    "Определим, есть ли пользователи, которые попали более, чем в одну группу."
   ]
  },
  {
   "cell_type": "code",
   "execution_count": 27,
   "id": "b38d6e1d",
   "metadata": {},
   "outputs": [
    {
     "data": {
      "text/html": [
       "<div>\n",
       "<style scoped>\n",
       "    .dataframe tbody tr th:only-of-type {\n",
       "        vertical-align: middle;\n",
       "    }\n",
       "\n",
       "    .dataframe tbody tr th {\n",
       "        vertical-align: top;\n",
       "    }\n",
       "\n",
       "    .dataframe thead th {\n",
       "        text-align: right;\n",
       "    }\n",
       "</style>\n",
       "<table border=\"1\" class=\"dataframe\">\n",
       "  <thead>\n",
       "    <tr style=\"text-align: right;\">\n",
       "      <th></th>\n",
       "      <th>user_id</th>\n",
       "      <th>group</th>\n",
       "    </tr>\n",
       "  </thead>\n",
       "  <tbody>\n",
       "  </tbody>\n",
       "</table>\n",
       "</div>"
      ],
      "text/plain": [
       "Empty DataFrame\n",
       "Columns: [user_id, group]\n",
       "Index: []"
      ]
     },
     "execution_count": 27,
     "metadata": {},
     "output_type": "execute_result"
    }
   ],
   "source": [
    "df_new.groupby('user_id')['group'].nunique().reset_index().query('group > 1')"
   ]
  },
  {
   "cell_type": "markdown",
   "id": "9a873d8d",
   "metadata": {},
   "source": [
    "\"Пересекающихся\" пользователей нет."
   ]
  },
  {
   "cell_type": "markdown",
   "id": "e741d523",
   "metadata": {},
   "source": [
    "## Изучение воронки событий"
   ]
  },
  {
   "cell_type": "markdown",
   "id": "802658cc",
   "metadata": {},
   "source": [
    "События, отсортированные по частоте."
   ]
  },
  {
   "cell_type": "code",
   "execution_count": 28,
   "id": "02e5c534",
   "metadata": {},
   "outputs": [
    {
     "data": {
      "text/html": [
       "<div>\n",
       "<style scoped>\n",
       "    .dataframe tbody tr th:only-of-type {\n",
       "        vertical-align: middle;\n",
       "    }\n",
       "\n",
       "    .dataframe tbody tr th {\n",
       "        vertical-align: top;\n",
       "    }\n",
       "\n",
       "    .dataframe thead th {\n",
       "        text-align: right;\n",
       "    }\n",
       "</style>\n",
       "<table border=\"1\" class=\"dataframe\">\n",
       "  <thead>\n",
       "    <tr style=\"text-align: right;\">\n",
       "      <th></th>\n",
       "      <th>event_name</th>\n",
       "      <th>user_id</th>\n",
       "    </tr>\n",
       "  </thead>\n",
       "  <tbody>\n",
       "    <tr>\n",
       "      <th>0</th>\n",
       "      <td>MainScreenAppear</td>\n",
       "      <td>117328</td>\n",
       "    </tr>\n",
       "    <tr>\n",
       "      <th>1</th>\n",
       "      <td>OffersScreenAppear</td>\n",
       "      <td>46333</td>\n",
       "    </tr>\n",
       "    <tr>\n",
       "      <th>2</th>\n",
       "      <td>CartScreenAppear</td>\n",
       "      <td>42303</td>\n",
       "    </tr>\n",
       "    <tr>\n",
       "      <th>3</th>\n",
       "      <td>PaymentScreenSuccessful</td>\n",
       "      <td>33918</td>\n",
       "    </tr>\n",
       "    <tr>\n",
       "      <th>4</th>\n",
       "      <td>Tutorial</td>\n",
       "      <td>1005</td>\n",
       "    </tr>\n",
       "  </tbody>\n",
       "</table>\n",
       "</div>"
      ],
      "text/plain": [
       "                event_name  user_id\n",
       "0         MainScreenAppear   117328\n",
       "1       OffersScreenAppear    46333\n",
       "2         CartScreenAppear    42303\n",
       "3  PaymentScreenSuccessful    33918\n",
       "4                 Tutorial     1005"
      ]
     },
     "execution_count": 28,
     "metadata": {},
     "output_type": "execute_result"
    }
   ],
   "source": [
    "df_new.groupby('event_name')['user_id'].count().sort_values(ascending=False).reset_index()"
   ]
  },
  {
   "cell_type": "markdown",
   "id": "84dcb0a9",
   "metadata": {},
   "source": [
    "Число пользователей, которые совершали каждое из этих действий, и доля таковых от общего числа пользователей."
   ]
  },
  {
   "cell_type": "code",
   "execution_count": 29,
   "id": "4483d780",
   "metadata": {},
   "outputs": [
    {
     "data": {
      "text/html": [
       "<div>\n",
       "<style scoped>\n",
       "    .dataframe tbody tr th:only-of-type {\n",
       "        vertical-align: middle;\n",
       "    }\n",
       "\n",
       "    .dataframe tbody tr th {\n",
       "        vertical-align: top;\n",
       "    }\n",
       "\n",
       "    .dataframe thead th {\n",
       "        text-align: right;\n",
       "    }\n",
       "</style>\n",
       "<table border=\"1\" class=\"dataframe\">\n",
       "  <thead>\n",
       "    <tr style=\"text-align: right;\">\n",
       "      <th></th>\n",
       "      <th>event_name</th>\n",
       "      <th>user_id</th>\n",
       "      <th>ratio</th>\n",
       "    </tr>\n",
       "  </thead>\n",
       "  <tbody>\n",
       "    <tr>\n",
       "      <th>0</th>\n",
       "      <td>MainScreenAppear</td>\n",
       "      <td>7419</td>\n",
       "      <td>98.47</td>\n",
       "    </tr>\n",
       "    <tr>\n",
       "      <th>1</th>\n",
       "      <td>OffersScreenAppear</td>\n",
       "      <td>4593</td>\n",
       "      <td>60.96</td>\n",
       "    </tr>\n",
       "    <tr>\n",
       "      <th>2</th>\n",
       "      <td>CartScreenAppear</td>\n",
       "      <td>3734</td>\n",
       "      <td>49.56</td>\n",
       "    </tr>\n",
       "    <tr>\n",
       "      <th>3</th>\n",
       "      <td>PaymentScreenSuccessful</td>\n",
       "      <td>3539</td>\n",
       "      <td>46.97</td>\n",
       "    </tr>\n",
       "    <tr>\n",
       "      <th>4</th>\n",
       "      <td>Tutorial</td>\n",
       "      <td>840</td>\n",
       "      <td>11.15</td>\n",
       "    </tr>\n",
       "  </tbody>\n",
       "</table>\n",
       "</div>"
      ],
      "text/plain": [
       "                event_name  user_id  ratio\n",
       "0         MainScreenAppear     7419  98.47\n",
       "1       OffersScreenAppear     4593  60.96\n",
       "2         CartScreenAppear     3734  49.56\n",
       "3  PaymentScreenSuccessful     3539  46.97\n",
       "4                 Tutorial      840  11.15"
      ]
     },
     "execution_count": 29,
     "metadata": {},
     "output_type": "execute_result"
    }
   ],
   "source": [
    "unique_users_per_event = df_new.groupby('event_name')['user_id'].nunique().sort_values(ascending=False).reset_index()\n",
    "unique_users_per_event['ratio'] = round(unique_users_per_event['user_id']/df_new['user_id'].nunique()*100, 2)\n",
    "unique_users_per_event"
   ]
  },
  {
   "cell_type": "markdown",
   "id": "df4d013a",
   "metadata": {},
   "source": [
    "Последовательность событий:\n",
    "\n",
    "Главный экран (MainScreenAppear) --> Экран с выбором продуктов (OffersScreenAppear) --> Корзина (CartScreenAppear) --> Экран с соощением об успешной оплате (PaymentScreenSuccessful).\n",
    "\n",
    "Страница с инструкцией не входит в обязательную цепочку действий, к тому же ее смотрит минимальное число пользователей — исключим ее из дальнейших расчетов."
   ]
  },
  {
   "cell_type": "code",
   "execution_count": null,
   "id": "a6aea677",
   "metadata": {},
   "outputs": [],
   "source": [
    "fig = go.Figure(\n",
    "    go.Funnel(\n",
    "        y=['Основной экран', 'Экран с выбором продуктов', 'Корзина', 'Успешная оплата'],\n",
    "        x=unique_users_per_event['user_id'][:4],\n",
    "        textinfo = \"value+percent previous+percent initial\",\n",
    "        marker = {\"color\": [\"silver\", \"tan\", \"lightsalmon\", \"deepskyblue\"]}\n",
    "    )\n",
    ")\n",
    "fig.update_layout(title='Воронка действий пользователей')\n",
    "fig.show() "
   ]
  },
  {
   "attachments": {
    "%D0%92%D1%81%D1%82%D0%B0%D0%B2%D0%BA%D0%B0%201.png": {
     "image/png": "[encoded data removed]"
    }
   },
   "cell_type": "markdown",
   "id": "d6d5efa3",
   "metadata": {},
   "source": [
    "![%D0%92%D1%81%D1%82%D0%B0%D0%B2%D0%BA%D0%B0%201.png](attachment:%D0%92%D1%81%D1%82%D0%B0%D0%B2%D0%BA%D0%B0%201.png)"
   ]
  },
  {
   "cell_type": "markdown",
   "id": "30a4804c",
   "metadata": {},
   "source": [
    "От первого шага до успешной оплаты (то есть конверсия из открывших приложение в покупателей) доходит почти половина пользователей (48%). Больше всего пользователей теряется на втором шаге — 38%. На третьем шаге \"отваливаются\" 19% пользователей относительно второго шага. На финальном четвертом — 5% относительно предыдущего.  \n",
    "\n",
    "Судя по воронке, можно сделать вывод, что необходимо исследовать, почему в сравнении с другими шагами так много пользователей (38%) \"отваливаются\" на втором шаге. Возможно, людям, заходящим на главный экран, не нравится дизайн или они не могут сразу найти необходимые кнопки для продолжения покупок."
   ]
  },
  {
   "cell_type": "markdown",
   "id": "407007e3",
   "metadata": {},
   "source": [
    "## Результаты эксперимента"
   ]
  },
  {
   "cell_type": "markdown",
   "id": "0af95b3e",
   "metadata": {},
   "source": [
    "Посмотрим, сколько уникальных пользователей оказались в группах."
   ]
  },
  {
   "cell_type": "code",
   "execution_count": 31,
   "id": "cddc33dd",
   "metadata": {},
   "outputs": [
    {
     "data": {
      "text/html": [
       "<div>\n",
       "<style scoped>\n",
       "    .dataframe tbody tr th:only-of-type {\n",
       "        vertical-align: middle;\n",
       "    }\n",
       "\n",
       "    .dataframe tbody tr th {\n",
       "        vertical-align: top;\n",
       "    }\n",
       "\n",
       "    .dataframe thead th {\n",
       "        text-align: right;\n",
       "    }\n",
       "</style>\n",
       "<table border=\"1\" class=\"dataframe\">\n",
       "  <thead>\n",
       "    <tr style=\"text-align: right;\">\n",
       "      <th></th>\n",
       "      <th>group</th>\n",
       "      <th>user_id</th>\n",
       "    </tr>\n",
       "  </thead>\n",
       "  <tbody>\n",
       "    <tr>\n",
       "      <th>0</th>\n",
       "      <td>246</td>\n",
       "      <td>2483</td>\n",
       "    </tr>\n",
       "    <tr>\n",
       "      <th>1</th>\n",
       "      <td>247</td>\n",
       "      <td>2512</td>\n",
       "    </tr>\n",
       "    <tr>\n",
       "      <th>2</th>\n",
       "      <td>248</td>\n",
       "      <td>2535</td>\n",
       "    </tr>\n",
       "  </tbody>\n",
       "</table>\n",
       "</div>"
      ],
      "text/plain": [
       "   group  user_id\n",
       "0    246     2483\n",
       "1    247     2512\n",
       "2    248     2535"
      ]
     },
     "execution_count": 31,
     "metadata": {},
     "output_type": "execute_result"
    }
   ],
   "source": [
    "df_wo_tutorial = df_new[df_new['event_name'] != 'Tutorial']\n",
    "df_wo_tutorial.groupby('group')['user_id'].nunique().reset_index()"
   ]
  },
  {
   "cell_type": "markdown",
   "id": "2b8eaa4e",
   "metadata": {},
   "source": [
    "Различия незначительны, это один из признаков того, что система распределения работает правильно."
   ]
  },
  {
   "cell_type": "markdown",
   "id": "5fffb5c9",
   "metadata": {},
   "source": [
    "### АА-тест"
   ]
  },
  {
   "cell_type": "markdown",
   "id": "56d1852f",
   "metadata": {},
   "source": [
    "Найдем, есть ли между группами статистически значимые отличия в долях пользователей, которые дошли до каждого из шагов воронки."
   ]
  },
  {
   "cell_type": "code",
   "execution_count": 32,
   "id": "c0cd9ed7",
   "metadata": {},
   "outputs": [
    {
     "data": {
      "text/html": [
       "<div>\n",
       "<style scoped>\n",
       "    .dataframe tbody tr th:only-of-type {\n",
       "        vertical-align: middle;\n",
       "    }\n",
       "\n",
       "    .dataframe tbody tr th {\n",
       "        vertical-align: top;\n",
       "    }\n",
       "\n",
       "    .dataframe thead th {\n",
       "        text-align: right;\n",
       "    }\n",
       "</style>\n",
       "<table border=\"1\" class=\"dataframe\">\n",
       "  <thead>\n",
       "    <tr style=\"text-align: right;\">\n",
       "      <th></th>\n",
       "      <th>event_name</th>\n",
       "      <th>user_id</th>\n",
       "      <th>users_total</th>\n",
       "      <th>ratio</th>\n",
       "    </tr>\n",
       "  </thead>\n",
       "  <tbody>\n",
       "    <tr>\n",
       "      <th>0</th>\n",
       "      <td>MainScreenAppear</td>\n",
       "      <td>2450</td>\n",
       "      <td>2483</td>\n",
       "      <td>98.67</td>\n",
       "    </tr>\n",
       "    <tr>\n",
       "      <th>1</th>\n",
       "      <td>OffersScreenAppear</td>\n",
       "      <td>1542</td>\n",
       "      <td>2483</td>\n",
       "      <td>62.10</td>\n",
       "    </tr>\n",
       "    <tr>\n",
       "      <th>2</th>\n",
       "      <td>CartScreenAppear</td>\n",
       "      <td>1266</td>\n",
       "      <td>2483</td>\n",
       "      <td>50.99</td>\n",
       "    </tr>\n",
       "    <tr>\n",
       "      <th>3</th>\n",
       "      <td>PaymentScreenSuccessful</td>\n",
       "      <td>1200</td>\n",
       "      <td>2483</td>\n",
       "      <td>48.33</td>\n",
       "    </tr>\n",
       "  </tbody>\n",
       "</table>\n",
       "</div>"
      ],
      "text/plain": [
       "                event_name  user_id  users_total  ratio\n",
       "0         MainScreenAppear     2450         2483  98.67\n",
       "1       OffersScreenAppear     1542         2483  62.10\n",
       "2         CartScreenAppear     1266         2483  50.99\n",
       "3  PaymentScreenSuccessful     1200         2483  48.33"
      ]
     },
     "execution_count": 32,
     "metadata": {},
     "output_type": "execute_result"
    }
   ],
   "source": [
    "group_246 = (df_wo_tutorial[df_wo_tutorial['group'] == 246].groupby('event_name')['user_id']\n",
    "                                                          .nunique().sort_values(ascending=False)\n",
    "                                                          .reset_index())\n",
    "group_246['users_total'] = df_wo_tutorial[df_wo_tutorial['group'] == 246]['user_id'].nunique()\n",
    "group_246['ratio'] = round(group_246['user_id']/group_246['users_total']*100, 2)\n",
    "group_246"
   ]
  },
  {
   "cell_type": "code",
   "execution_count": 33,
   "id": "0d7394df",
   "metadata": {},
   "outputs": [
    {
     "data": {
      "text/html": [
       "<div>\n",
       "<style scoped>\n",
       "    .dataframe tbody tr th:only-of-type {\n",
       "        vertical-align: middle;\n",
       "    }\n",
       "\n",
       "    .dataframe tbody tr th {\n",
       "        vertical-align: top;\n",
       "    }\n",
       "\n",
       "    .dataframe thead th {\n",
       "        text-align: right;\n",
       "    }\n",
       "</style>\n",
       "<table border=\"1\" class=\"dataframe\">\n",
       "  <thead>\n",
       "    <tr style=\"text-align: right;\">\n",
       "      <th></th>\n",
       "      <th>event_name</th>\n",
       "      <th>user_id</th>\n",
       "      <th>users_total</th>\n",
       "      <th>ratio</th>\n",
       "    </tr>\n",
       "  </thead>\n",
       "  <tbody>\n",
       "    <tr>\n",
       "      <th>0</th>\n",
       "      <td>MainScreenAppear</td>\n",
       "      <td>2476</td>\n",
       "      <td>2512</td>\n",
       "      <td>98.57</td>\n",
       "    </tr>\n",
       "    <tr>\n",
       "      <th>1</th>\n",
       "      <td>OffersScreenAppear</td>\n",
       "      <td>1520</td>\n",
       "      <td>2512</td>\n",
       "      <td>60.51</td>\n",
       "    </tr>\n",
       "    <tr>\n",
       "      <th>2</th>\n",
       "      <td>CartScreenAppear</td>\n",
       "      <td>1238</td>\n",
       "      <td>2512</td>\n",
       "      <td>49.28</td>\n",
       "    </tr>\n",
       "    <tr>\n",
       "      <th>3</th>\n",
       "      <td>PaymentScreenSuccessful</td>\n",
       "      <td>1158</td>\n",
       "      <td>2512</td>\n",
       "      <td>46.10</td>\n",
       "    </tr>\n",
       "  </tbody>\n",
       "</table>\n",
       "</div>"
      ],
      "text/plain": [
       "                event_name  user_id  users_total  ratio\n",
       "0         MainScreenAppear     2476         2512  98.57\n",
       "1       OffersScreenAppear     1520         2512  60.51\n",
       "2         CartScreenAppear     1238         2512  49.28\n",
       "3  PaymentScreenSuccessful     1158         2512  46.10"
      ]
     },
     "execution_count": 33,
     "metadata": {},
     "output_type": "execute_result"
    }
   ],
   "source": [
    "group_247 = (df_wo_tutorial[df_wo_tutorial['group'] == 247].groupby('event_name')['user_id']\n",
    "                                                          .nunique().sort_values(ascending=False)\n",
    "                                                          .reset_index())\n",
    "group_247['users_total'] = df_wo_tutorial[df_wo_tutorial['group'] == 247]['user_id'].nunique()\n",
    "group_247['ratio'] = round(group_247['user_id']/group_247['users_total']*100, 2)\n",
    "group_247"
   ]
  },
  {
   "cell_type": "markdown",
   "id": "106d11f4",
   "metadata": {},
   "source": [
    "Создадим функцию для статистического сравнения групп."
   ]
  },
  {
   "cell_type": "code",
   "execution_count": 34,
   "id": "205e348e",
   "metadata": {},
   "outputs": [],
   "source": [
    "def stat_significance(row1, row2):\n",
    "\n",
    "    # пропорция успехов в первой группе:\n",
    "    p1 = row1['user_id']/row1['users_total']\n",
    "\n",
    "    # пропорция успехов во второй группе:\n",
    "    p2 = row2['user_id']/row2['users_total']\n",
    "\n",
    "    # пропорция успехов в комбинированном датасете:\n",
    "    p_combined = (\n",
    "                  (row1['user_id'] + row2['user_id']) /\n",
    "                  (row1['users_total'] + row2['users_total'])\n",
    "                 )\n",
    "\n",
    "    # разница пропорций в датасетах\n",
    "    difference = p1 - p2\n",
    "\n",
    "    # считаем статистику в ст.отклонениях стандартного нормального распределения\n",
    "    z_value = difference / mth.sqrt(p_combined * (1 - p_combined) * (1/row1['users_total'] + \n",
    "                                                                     1/row2['users_total']))\n",
    "\n",
    "    # задаем стандартное нормальное распределение (среднее 0, ст.отклонение 1)\n",
    "    distr = st.norm(0, 1)\n",
    "\n",
    "    p_value = (1 - distr.cdf(abs(z_value))) * 2\n",
    "\n",
    "    print('p-значение: ', p_value)\n",
    "\n",
    "    if p_value < alpha:\n",
    "        print(f\"Отвергаем нулевую гипотезу: между долями в категории {row1['event_name']} есть значимая разница\")\n",
    "    else:\n",
    "        print(\n",
    "            f\"Не отвергаем нулевую гипотезу, нет оснований считать доли в категории {row1['event_name']} разными\"\n",
    "        ) "
   ]
  },
  {
   "cell_type": "markdown",
   "id": "7dc71819",
   "metadata": {},
   "source": [
    "При множественном сравнении для корректировки уровня статистической значимости применим метод Шидака, который рассчитывается по формуле 1-(1-alpha)^(1/(число проверок)). В данном случае у нас 4 сравнения между контрольными группами по 4 признакам."
   ]
  },
  {
   "cell_type": "markdown",
   "id": "de49a93e",
   "metadata": {},
   "source": [
    "Нулевая гипотеза по всем дальнейшим шестнадцати проверкам будет звучать так:\n",
    "\"Доля пользователей, которые совершили в первой группе определенный шаг, равна аналогичной доле во второй группе\".\n",
    "\n",
    "Альтернативная гипотеза:\n",
    "\"Доля пользователей, которые совершили в первой группе определенный шаг, не равна аналогичной доле во второй группе\".\n",
    "\n",
    "Внутри каждого блока сравнений поочередно сравниваем шаги MainScreenAppear, OffersScreenAppear, CartScreenAppear, PaymentScreenSuccessful.\n",
    "\n",
    "В ячейке ниже проверяем две контрольные группы (246 и 247) между собой."
   ]
  },
  {
   "cell_type": "code",
   "execution_count": 35,
   "id": "9a95db90",
   "metadata": {},
   "outputs": [
    {
     "name": "stdout",
     "output_type": "stream",
     "text": [
      "p-значение:  0.7526703436483038\n",
      "Не отвергаем нулевую гипотезу, нет оснований считать доли в категории MainScreenAppear разными\n",
      "\n",
      "p-значение:  0.24786096925282264\n",
      "Не отвергаем нулевую гипотезу, нет оснований считать доли в категории OffersScreenAppear разными\n",
      "\n",
      "p-значение:  0.22867643757335676\n",
      "Не отвергаем нулевую гипотезу, нет оснований считать доли в категории CartScreenAppear разными\n",
      "\n",
      "p-значение:  0.11446627829276612\n",
      "Не отвергаем нулевую гипотезу, нет оснований считать доли в категории PaymentScreenSuccessful разными\n",
      "\n"
     ]
    }
   ],
   "source": [
    "alpha = 1 - (1 - 0.05)**(1/16)\n",
    "\n",
    "for row in range(len(group_246)):\n",
    "    stat_significance(group_246.loc[row], group_247.loc[row])\n",
    "    print()"
   ]
  },
  {
   "cell_type": "markdown",
   "id": "ab4dd33c",
   "metadata": {},
   "source": [
    "По всем четырем шагам тест не показал статистически значимых раличий между двумя контрольными группами. Делаем вывод, что система распределения работает без сбоев."
   ]
  },
  {
   "cell_type": "markdown",
   "id": "ea9fb5f8",
   "metadata": {},
   "source": [
    "### AB-тест"
   ]
  },
  {
   "cell_type": "markdown",
   "id": "5e3baa42",
   "metadata": {},
   "source": [
    "Теперь сравним экспериментальную группу с контрольными: сначала поочередно, затем с объединённой группой."
   ]
  },
  {
   "cell_type": "code",
   "execution_count": 36,
   "id": "6c22dcff",
   "metadata": {},
   "outputs": [
    {
     "data": {
      "text/html": [
       "<div>\n",
       "<style scoped>\n",
       "    .dataframe tbody tr th:only-of-type {\n",
       "        vertical-align: middle;\n",
       "    }\n",
       "\n",
       "    .dataframe tbody tr th {\n",
       "        vertical-align: top;\n",
       "    }\n",
       "\n",
       "    .dataframe thead th {\n",
       "        text-align: right;\n",
       "    }\n",
       "</style>\n",
       "<table border=\"1\" class=\"dataframe\">\n",
       "  <thead>\n",
       "    <tr style=\"text-align: right;\">\n",
       "      <th></th>\n",
       "      <th>event_name</th>\n",
       "      <th>user_id</th>\n",
       "      <th>users_total</th>\n",
       "      <th>ratio</th>\n",
       "    </tr>\n",
       "  </thead>\n",
       "  <tbody>\n",
       "    <tr>\n",
       "      <th>0</th>\n",
       "      <td>MainScreenAppear</td>\n",
       "      <td>2493</td>\n",
       "      <td>2535</td>\n",
       "      <td>98.34</td>\n",
       "    </tr>\n",
       "    <tr>\n",
       "      <th>1</th>\n",
       "      <td>OffersScreenAppear</td>\n",
       "      <td>1531</td>\n",
       "      <td>2535</td>\n",
       "      <td>60.39</td>\n",
       "    </tr>\n",
       "    <tr>\n",
       "      <th>2</th>\n",
       "      <td>CartScreenAppear</td>\n",
       "      <td>1230</td>\n",
       "      <td>2535</td>\n",
       "      <td>48.52</td>\n",
       "    </tr>\n",
       "    <tr>\n",
       "      <th>3</th>\n",
       "      <td>PaymentScreenSuccessful</td>\n",
       "      <td>1181</td>\n",
       "      <td>2535</td>\n",
       "      <td>46.59</td>\n",
       "    </tr>\n",
       "  </tbody>\n",
       "</table>\n",
       "</div>"
      ],
      "text/plain": [
       "                event_name  user_id  users_total  ratio\n",
       "0         MainScreenAppear     2493         2535  98.34\n",
       "1       OffersScreenAppear     1531         2535  60.39\n",
       "2         CartScreenAppear     1230         2535  48.52\n",
       "3  PaymentScreenSuccessful     1181         2535  46.59"
      ]
     },
     "execution_count": 36,
     "metadata": {},
     "output_type": "execute_result"
    }
   ],
   "source": [
    "group_248 = (df_wo_tutorial[df_wo_tutorial['group'] == 248].groupby('event_name')['user_id']\n",
    "                                                          .nunique().sort_values(ascending=False)\n",
    "                                                          .reset_index())\n",
    "group_248['users_total'] = df_wo_tutorial[df_wo_tutorial['group'] == 248]['user_id'].nunique()\n",
    "group_248['ratio'] = round(group_248['user_id']/group_248['users_total']*100, 2)\n",
    "group_248"
   ]
  },
  {
   "cell_type": "markdown",
   "id": "e5d817b3",
   "metadata": {},
   "source": [
    "Ниже сравниваем экспериментальную группу (248) с первой контрольной (246)."
   ]
  },
  {
   "cell_type": "code",
   "execution_count": 37,
   "id": "65f99223",
   "metadata": {},
   "outputs": [
    {
     "name": "stdout",
     "output_type": "stream",
     "text": [
      "p-значение:  0.3387114076159288\n",
      "Не отвергаем нулевую гипотезу, нет оснований считать доли в категории MainScreenAppear разными\n",
      "\n",
      "p-значение:  0.21442476639710506\n",
      "Не отвергаем нулевую гипотезу, нет оснований считать доли в категории OffersScreenAppear разными\n",
      "\n",
      "p-значение:  0.08067367598823139\n",
      "Не отвергаем нулевую гипотезу, нет оснований считать доли в категории CartScreenAppear разными\n",
      "\n",
      "p-значение:  0.21693033984516674\n",
      "Не отвергаем нулевую гипотезу, нет оснований считать доли в категории PaymentScreenSuccessful разными\n",
      "\n"
     ]
    }
   ],
   "source": [
    "alpha = 1 - (1 - 0.05)**(1/16)\n",
    "\n",
    "for row in range(len(group_246)):\n",
    "    stat_significance(group_246.loc[row], group_248.loc[row])\n",
    "    print()"
   ]
  },
  {
   "cell_type": "markdown",
   "id": "0647e0fe",
   "metadata": {},
   "source": [
    "Теперь — экспериментальную группу (248) со второй контрольной (247)."
   ]
  },
  {
   "cell_type": "code",
   "execution_count": 38,
   "id": "2843d556",
   "metadata": {},
   "outputs": [
    {
     "name": "stdout",
     "output_type": "stream",
     "text": [
      "p-значение:  0.5194964354051703\n",
      "Не отвергаем нулевую гипотезу, нет оснований считать доли в категории MainScreenAppear разными\n",
      "\n",
      "p-значение:  0.9333751305879443\n",
      "Не отвергаем нулевую гипотезу, нет оснований считать доли в категории OffersScreenAppear разными\n",
      "\n",
      "p-значение:  0.5878284605111943\n",
      "Не отвергаем нулевую гипотезу, нет оснований считать доли в категории CartScreenAppear разными\n",
      "\n",
      "p-значение:  0.7275718682261119\n",
      "Не отвергаем нулевую гипотезу, нет оснований считать доли в категории PaymentScreenSuccessful разными\n",
      "\n"
     ]
    }
   ],
   "source": [
    "alpha = 1 - (1 - 0.05)**(1/16)\n",
    "\n",
    "for row in range(len(group_247)):\n",
    "    stat_significance(group_247.loc[row], group_248.loc[row])\n",
    "    print()"
   ]
  },
  {
   "cell_type": "code",
   "execution_count": 39,
   "id": "417a1948",
   "metadata": {},
   "outputs": [
    {
     "data": {
      "text/html": [
       "<div>\n",
       "<style scoped>\n",
       "    .dataframe tbody tr th:only-of-type {\n",
       "        vertical-align: middle;\n",
       "    }\n",
       "\n",
       "    .dataframe tbody tr th {\n",
       "        vertical-align: top;\n",
       "    }\n",
       "\n",
       "    .dataframe thead th {\n",
       "        text-align: right;\n",
       "    }\n",
       "</style>\n",
       "<table border=\"1\" class=\"dataframe\">\n",
       "  <thead>\n",
       "    <tr style=\"text-align: right;\">\n",
       "      <th></th>\n",
       "      <th>event_name</th>\n",
       "      <th>user_id</th>\n",
       "      <th>users_total</th>\n",
       "      <th>ratio</th>\n",
       "    </tr>\n",
       "  </thead>\n",
       "  <tbody>\n",
       "    <tr>\n",
       "      <th>0</th>\n",
       "      <td>MainScreenAppear</td>\n",
       "      <td>4926</td>\n",
       "      <td>4995</td>\n",
       "      <td>98.62</td>\n",
       "    </tr>\n",
       "    <tr>\n",
       "      <th>1</th>\n",
       "      <td>OffersScreenAppear</td>\n",
       "      <td>3062</td>\n",
       "      <td>4995</td>\n",
       "      <td>61.30</td>\n",
       "    </tr>\n",
       "    <tr>\n",
       "      <th>2</th>\n",
       "      <td>CartScreenAppear</td>\n",
       "      <td>2504</td>\n",
       "      <td>4995</td>\n",
       "      <td>50.13</td>\n",
       "    </tr>\n",
       "    <tr>\n",
       "      <th>3</th>\n",
       "      <td>PaymentScreenSuccessful</td>\n",
       "      <td>2358</td>\n",
       "      <td>4995</td>\n",
       "      <td>47.21</td>\n",
       "    </tr>\n",
       "  </tbody>\n",
       "</table>\n",
       "</div>"
      ],
      "text/plain": [
       "                event_name  user_id  users_total  ratio\n",
       "0         MainScreenAppear     4926         4995  98.62\n",
       "1       OffersScreenAppear     3062         4995  61.30\n",
       "2         CartScreenAppear     2504         4995  50.13\n",
       "3  PaymentScreenSuccessful     2358         4995  47.21"
      ]
     },
     "execution_count": 39,
     "metadata": {},
     "output_type": "execute_result"
    }
   ],
   "source": [
    "group_246_247_combined = (df_wo_tutorial[df_wo_tutorial['group'] != 248].groupby('event_name')['user_id']\n",
    "                                                          .nunique().sort_values(ascending=False)\n",
    "                                                          .reset_index())\n",
    "group_246_247_combined['users_total'] = df_wo_tutorial[df_wo_tutorial['group'] != 248]['user_id'].nunique()\n",
    "group_246_247_combined['ratio'] = round(group_246_247_combined['user_id']/\n",
    "                                        group_246_247_combined['users_total']*100, 2)\n",
    "group_246_247_combined"
   ]
  },
  {
   "cell_type": "markdown",
   "id": "797b29bb",
   "metadata": {},
   "source": [
    "И наконец — экспериментальную группу (248) с объединенной контрольной (246+247)."
   ]
  },
  {
   "cell_type": "code",
   "execution_count": 40,
   "id": "49ddeccd",
   "metadata": {},
   "outputs": [
    {
     "name": "stdout",
     "output_type": "stream",
     "text": [
      "p-значение:  0.3486684291093256\n",
      "Не отвергаем нулевую гипотезу, нет оснований считать доли в категории MainScreenAppear разными\n",
      "\n",
      "p-значение:  0.44582745409482394\n",
      "Не отвергаем нулевую гипотезу, нет оснований считать доли в категории OffersScreenAppear разными\n",
      "\n",
      "p-значение:  0.18683558686831558\n",
      "Не отвергаем нулевую гипотезу, нет оснований считать доли в категории CartScreenAppear разными\n",
      "\n",
      "p-значение:  0.6107918742187335\n",
      "Не отвергаем нулевую гипотезу, нет оснований считать доли в категории PaymentScreenSuccessful разными\n",
      "\n"
     ]
    }
   ],
   "source": [
    "alpha = 1 - (1 - 0.05)**(1/16)\n",
    "\n",
    "for row in range(len(group_247)):\n",
    "    stat_significance(group_248.loc[row], group_246_247_combined.loc[row])\n",
    "    print()"
   ]
  },
  {
   "cell_type": "markdown",
   "id": "051a1748",
   "metadata": {},
   "source": [
    "Ни в одной из серий сравнений тест не показал статистически значимых различий. Значит, новый шрифт никак не повлиял на поведение пользователей."
   ]
  },
  {
   "cell_type": "markdown",
   "id": "b67be686",
   "metadata": {},
   "source": [
    "## Выводы"
   ]
  },
  {
   "cell_type": "markdown",
   "id": "13834e00",
   "metadata": {},
   "source": [
    "Изучив логи с поведением пользователей приложения для продажи продуктов питания, мы узнали, что:\n",
    "\n",
    "- В лог вносятся пять основных событий: главный экран (MainScreenAppear), экран с выбором продуктов (OffersScreenAppear), корзина (CartScreenAppear), экран с сообщением об успешной оплате (PaymentScreenSuccessful), страница с инструкцией (Tutorial). Инструкция — необязательное и малозначимое действие, поэтому мы его не учитывали в исследовании.\n",
    "\n",
    "- Число уникальных пользователей во всем логе — 7551. Среднее число событий на пользователя — более 32. Медианное значение — 20.\n",
    "\n",
    "- Эксперимент проводился с 25 июля по 7 августа 2019 года, однако, по факту, самые полные данные имеются лишь за одну неделю — с 1 по 7 августа.\n",
    "\n",
    "- После отсечения ненужных данных число событий распределилось по группам так: 79425 в первой контрольной (246-й), 77147 во второй контрольной (247-й), 84726 в экспериментальной (248-й). \"Пересекающихся\" пользователей нет. Различия между группами по числу уникальных пользователей незначительны — все это признаки того, что система распределения работает правильно.\n",
    "\n",
    "- От первого шага до успешной оплаты доходит почти половина пользователей (48%). Больше всего пользователей теряется на втором шаге — 38%.\n",
    "\n",
    "- По долям пользователей на всех четырех шагах A/A-тест не показал статистически значимых раличий между двумя контрольными группами. Значит, система распределения работает без сбоев.\n",
    "\n",
    "- Ни в одной из серий сравнений A/B-тест так же не показал статистически значимых различий."
   ]
  },
  {
   "cell_type": "markdown",
   "id": "3ea9957b",
   "metadata": {},
   "source": [
    "## Рекомендации"
   ]
  },
  {
   "cell_type": "markdown",
   "id": "907eeaf1",
   "metadata": {},
   "source": [
    "- Исследовать, почему большое количество пользователей (более трети) отваливаются после первого же шага.\n",
    "\n",
    "- Отказаться от выкатки нового шрифта в приложении, так как это не повлияет на поведение пользователей."
   ]
  }
 ],
 "metadata": {
  "ExecuteTimeLog": [
   {
    "duration": 1124,
    "start_time": "2022-08-11T19:49:25.285Z"
   },
   {
    "duration": 200,
    "start_time": "2022-08-11T19:49:26.411Z"
   },
   {
    "duration": 13,
    "start_time": "2022-08-11T19:49:26.612Z"
   },
   {
    "duration": 21,
    "start_time": "2022-08-11T19:49:26.628Z"
   },
   {
    "duration": 5,
    "start_time": "2022-08-11T19:49:26.651Z"
   },
   {
    "duration": 414,
    "start_time": "2022-08-11T19:49:26.657Z"
   },
   {
    "duration": 3,
    "start_time": "2022-08-11T19:49:27.073Z"
   },
   {
    "duration": 1094,
    "start_time": "2022-08-11T19:49:27.078Z"
   },
   {
    "duration": 18,
    "start_time": "2022-08-11T19:49:28.174Z"
   },
   {
    "duration": 22,
    "start_time": "2022-08-11T19:49:28.194Z"
   },
   {
    "duration": 15,
    "start_time": "2022-08-11T19:49:28.218Z"
   },
   {
    "duration": 18,
    "start_time": "2022-08-11T19:49:28.235Z"
   },
   {
    "duration": 57,
    "start_time": "2022-08-11T19:49:28.254Z"
   },
   {
    "duration": 268,
    "start_time": "2022-08-11T19:49:28.313Z"
   },
   {
    "duration": 93,
    "start_time": "2022-08-11T19:49:28.582Z"
   },
   {
    "duration": 53,
    "start_time": "2022-08-11T19:49:28.677Z"
   },
   {
    "duration": 20,
    "start_time": "2022-08-11T19:49:28.732Z"
   },
   {
    "duration": 13,
    "start_time": "2022-08-11T19:49:28.753Z"
   },
   {
    "duration": 66,
    "start_time": "2022-08-11T19:49:28.768Z"
   },
   {
    "duration": 4,
    "start_time": "2022-08-11T19:49:28.836Z"
   },
   {
    "duration": 18,
    "start_time": "2022-08-11T19:49:28.841Z"
   },
   {
    "duration": 12,
    "start_time": "2022-08-11T19:49:28.860Z"
   },
   {
    "duration": 28,
    "start_time": "2022-08-11T19:49:28.874Z"
   },
   {
    "duration": 58,
    "start_time": "2022-08-11T19:49:28.904Z"
   },
   {
    "duration": 166,
    "start_time": "2022-08-11T19:49:28.964Z"
   },
   {
    "duration": 95,
    "start_time": "2022-08-11T19:49:29.131Z"
   },
   {
    "duration": 106,
    "start_time": "2022-08-11T19:49:29.228Z"
   },
   {
    "duration": 82,
    "start_time": "2022-08-11T19:49:29.338Z"
   },
   {
    "duration": 7,
    "start_time": "2022-08-11T19:49:29.422Z"
   },
   {
    "duration": 20,
    "start_time": "2022-08-11T19:49:29.431Z"
   },
   {
    "duration": 57,
    "start_time": "2022-08-11T19:49:29.453Z"
   },
   {
    "duration": 27,
    "start_time": "2022-08-11T19:49:29.511Z"
   },
   {
    "duration": 13,
    "start_time": "2022-08-11T19:49:29.540Z"
   },
   {
    "duration": 80,
    "start_time": "2022-08-11T19:49:29.555Z"
   },
   {
    "duration": 14,
    "start_time": "2022-08-11T19:49:29.637Z"
   },
   {
    "duration": 1064,
    "start_time": "2022-08-11T20:41:53.314Z"
   },
   {
    "duration": 192,
    "start_time": "2022-08-11T20:41:54.380Z"
   },
   {
    "duration": 13,
    "start_time": "2022-08-11T20:41:54.573Z"
   },
   {
    "duration": 30,
    "start_time": "2022-08-11T20:41:54.588Z"
   },
   {
    "duration": 4,
    "start_time": "2022-08-11T20:41:54.620Z"
   },
   {
    "duration": 409,
    "start_time": "2022-08-11T20:41:54.625Z"
   },
   {
    "duration": 3,
    "start_time": "2022-08-11T20:41:55.035Z"
   },
   {
    "duration": 1036,
    "start_time": "2022-08-11T20:41:55.039Z"
   },
   {
    "duration": 19,
    "start_time": "2022-08-11T20:41:56.076Z"
   },
   {
    "duration": 10,
    "start_time": "2022-08-11T20:41:56.109Z"
   },
   {
    "duration": 15,
    "start_time": "2022-08-11T20:41:56.120Z"
   },
   {
    "duration": 17,
    "start_time": "2022-08-11T20:41:56.137Z"
   },
   {
    "duration": 55,
    "start_time": "2022-08-11T20:41:56.156Z"
   },
   {
    "duration": 271,
    "start_time": "2022-08-11T20:41:56.213Z"
   },
   {
    "duration": 98,
    "start_time": "2022-08-11T20:41:56.485Z"
   },
   {
    "duration": 48,
    "start_time": "2022-08-11T20:41:56.585Z"
   },
   {
    "duration": 19,
    "start_time": "2022-08-11T20:41:56.634Z"
   },
   {
    "duration": 10,
    "start_time": "2022-08-11T20:41:56.655Z"
   },
   {
    "duration": 66,
    "start_time": "2022-08-11T20:41:56.666Z"
   },
   {
    "duration": 4,
    "start_time": "2022-08-11T20:41:56.733Z"
   },
   {
    "duration": 13,
    "start_time": "2022-08-11T20:41:56.738Z"
   },
   {
    "duration": 6,
    "start_time": "2022-08-11T20:41:56.752Z"
   },
   {
    "duration": 29,
    "start_time": "2022-08-11T20:41:56.759Z"
   },
   {
    "duration": 61,
    "start_time": "2022-08-11T20:41:56.789Z"
   },
   {
    "duration": 152,
    "start_time": "2022-08-11T20:41:56.852Z"
   },
   {
    "duration": 104,
    "start_time": "2022-08-11T20:41:57.006Z"
   },
   {
    "duration": 62,
    "start_time": "2022-08-11T20:41:57.111Z"
   },
   {
    "duration": 79,
    "start_time": "2022-08-11T20:41:57.175Z"
   },
   {
    "duration": 6,
    "start_time": "2022-08-11T20:41:57.256Z"
   },
   {
    "duration": 39,
    "start_time": "2022-08-11T20:41:57.264Z"
   },
   {
    "duration": 55,
    "start_time": "2022-08-11T20:41:57.305Z"
   },
   {
    "duration": 11,
    "start_time": "2022-08-11T20:41:57.362Z"
   },
   {
    "duration": 9,
    "start_time": "2022-08-11T20:41:57.375Z"
   },
   {
    "duration": 69,
    "start_time": "2022-08-11T20:41:57.409Z"
   },
   {
    "duration": 12,
    "start_time": "2022-08-11T20:41:57.479Z"
   },
   {
    "duration": 79,
    "start_time": "2022-08-11T20:51:31.665Z"
   },
   {
    "duration": 81,
    "start_time": "2022-08-11T20:56:02.538Z"
   },
   {
    "duration": 1318,
    "start_time": "2022-08-12T09:48:51.339Z"
   },
   {
    "duration": 807,
    "start_time": "2022-08-12T09:48:52.659Z"
   },
   {
    "duration": 15,
    "start_time": "2022-08-12T09:48:53.467Z"
   },
   {
    "duration": 24,
    "start_time": "2022-08-12T09:48:53.485Z"
   },
   {
    "duration": 6,
    "start_time": "2022-08-12T09:48:53.511Z"
   },
   {
    "duration": 447,
    "start_time": "2022-08-12T09:48:53.518Z"
   },
   {
    "duration": 3,
    "start_time": "2022-08-12T09:48:53.967Z"
   },
   {
    "duration": 1396,
    "start_time": "2022-08-12T09:48:53.972Z"
   },
   {
    "duration": 29,
    "start_time": "2022-08-12T09:48:55.370Z"
   },
   {
    "duration": 10,
    "start_time": "2022-08-12T09:48:55.402Z"
   },
   {
    "duration": 17,
    "start_time": "2022-08-12T09:48:55.414Z"
   },
   {
    "duration": 20,
    "start_time": "2022-08-12T09:48:55.432Z"
   },
   {
    "duration": 62,
    "start_time": "2022-08-12T09:48:55.454Z"
   },
   {
    "duration": 339,
    "start_time": "2022-08-12T09:48:55.518Z"
   },
   {
    "duration": 116,
    "start_time": "2022-08-12T09:48:55.859Z"
   },
   {
    "duration": 50,
    "start_time": "2022-08-12T09:48:55.978Z"
   },
   {
    "duration": 22,
    "start_time": "2022-08-12T09:48:56.029Z"
   },
   {
    "duration": 12,
    "start_time": "2022-08-12T09:48:56.053Z"
   },
   {
    "duration": 74,
    "start_time": "2022-08-12T09:48:56.066Z"
   },
   {
    "duration": 5,
    "start_time": "2022-08-12T09:48:56.142Z"
   },
   {
    "duration": 7,
    "start_time": "2022-08-12T09:48:56.148Z"
   },
   {
    "duration": 6,
    "start_time": "2022-08-12T09:48:56.156Z"
   },
   {
    "duration": 49,
    "start_time": "2022-08-12T09:48:56.163Z"
   },
   {
    "duration": 61,
    "start_time": "2022-08-12T09:48:56.214Z"
   },
   {
    "duration": 169,
    "start_time": "2022-08-12T09:48:56.277Z"
   },
   {
    "duration": 81,
    "start_time": "2022-08-12T09:48:56.448Z"
   },
   {
    "duration": 102,
    "start_time": "2022-08-12T09:48:56.531Z"
   },
   {
    "duration": 46,
    "start_time": "2022-08-12T09:48:56.636Z"
   },
   {
    "duration": 16,
    "start_time": "2022-08-12T09:48:56.683Z"
   },
   {
    "duration": 17,
    "start_time": "2022-08-12T09:48:56.701Z"
   },
   {
    "duration": 51,
    "start_time": "2022-08-12T09:48:56.720Z"
   },
   {
    "duration": 31,
    "start_time": "2022-08-12T09:48:56.773Z"
   },
   {
    "duration": 22,
    "start_time": "2022-08-12T09:48:56.806Z"
   },
   {
    "duration": 86,
    "start_time": "2022-08-12T09:48:56.830Z"
   },
   {
    "duration": 14,
    "start_time": "2022-08-12T09:48:56.918Z"
   },
   {
    "duration": 6,
    "start_time": "2022-08-12T10:26:00.787Z"
   },
   {
    "duration": 126,
    "start_time": "2022-08-12T10:26:59.552Z"
   },
   {
    "duration": 1096,
    "start_time": "2022-08-12T10:27:35.859Z"
   },
   {
    "duration": 187,
    "start_time": "2022-08-12T10:27:36.957Z"
   },
   {
    "duration": 14,
    "start_time": "2022-08-12T10:27:37.145Z"
   },
   {
    "duration": 23,
    "start_time": "2022-08-12T10:27:37.161Z"
   },
   {
    "duration": 15,
    "start_time": "2022-08-12T10:27:37.186Z"
   },
   {
    "duration": 427,
    "start_time": "2022-08-12T10:27:37.202Z"
   },
   {
    "duration": 3,
    "start_time": "2022-08-12T10:27:37.631Z"
   },
   {
    "duration": 67,
    "start_time": "2022-08-12T10:27:42.035Z"
   },
   {
    "duration": 80,
    "start_time": "2022-08-12T10:28:50.497Z"
   },
   {
    "duration": 65,
    "start_time": "2022-08-12T10:31:12.039Z"
   },
   {
    "duration": 471,
    "start_time": "2022-08-12T10:31:48.446Z"
   },
   {
    "duration": 67,
    "start_time": "2022-08-12T10:32:02.148Z"
   },
   {
    "duration": 1295,
    "start_time": "2022-08-12T10:32:29.807Z"
   },
   {
    "duration": 1335,
    "start_time": "2022-08-12T10:32:52.672Z"
   },
   {
    "duration": 191,
    "start_time": "2022-08-12T10:32:57.707Z"
   },
   {
    "duration": 1325,
    "start_time": "2022-08-12T10:33:06.917Z"
   },
   {
    "duration": 1144,
    "start_time": "2022-08-12T10:33:21.406Z"
   },
   {
    "duration": 192,
    "start_time": "2022-08-12T10:33:22.552Z"
   },
   {
    "duration": 15,
    "start_time": "2022-08-12T10:33:22.745Z"
   },
   {
    "duration": 21,
    "start_time": "2022-08-12T10:33:22.762Z"
   },
   {
    "duration": 5,
    "start_time": "2022-08-12T10:33:22.799Z"
   },
   {
    "duration": 419,
    "start_time": "2022-08-12T10:33:22.806Z"
   },
   {
    "duration": 3,
    "start_time": "2022-08-12T10:33:23.226Z"
   },
   {
    "duration": 83,
    "start_time": "2022-08-12T10:33:23.231Z"
   },
   {
    "duration": 88,
    "start_time": "2022-08-12T10:33:23.316Z"
   },
   {
    "duration": 1387,
    "start_time": "2022-08-12T10:33:23.406Z"
   },
   {
    "duration": 30,
    "start_time": "2022-08-12T10:45:43.642Z"
   },
   {
    "duration": 29,
    "start_time": "2022-08-12T10:46:22.649Z"
   },
   {
    "duration": 10,
    "start_time": "2022-08-12T10:49:54.471Z"
   },
   {
    "duration": 15,
    "start_time": "2022-08-12T10:50:52.897Z"
   },
   {
    "duration": 22,
    "start_time": "2022-08-12T10:51:46.699Z"
   },
   {
    "duration": 21,
    "start_time": "2022-08-12T10:51:59.196Z"
   },
   {
    "duration": 29,
    "start_time": "2022-08-12T10:52:26.622Z"
   },
   {
    "duration": 29,
    "start_time": "2022-08-12T10:52:35.759Z"
   },
   {
    "duration": 136,
    "start_time": "2022-08-12T11:11:04.448Z"
   },
   {
    "duration": 85,
    "start_time": "2022-08-12T11:12:38.655Z"
   },
   {
    "duration": 46,
    "start_time": "2022-08-12T11:12:49.690Z"
   },
   {
    "duration": 30,
    "start_time": "2022-08-12T11:27:42.436Z"
   },
   {
    "duration": 7,
    "start_time": "2022-08-12T11:27:43.941Z"
   },
   {
    "duration": 245,
    "start_time": "2022-08-12T11:28:01.428Z"
   },
   {
    "duration": 230,
    "start_time": "2022-08-12T11:28:28.894Z"
   },
   {
    "duration": 6,
    "start_time": "2022-08-12T11:28:51.388Z"
   },
   {
    "duration": 6,
    "start_time": "2022-08-12T11:28:57.760Z"
   },
   {
    "duration": 317,
    "start_time": "2022-08-12T11:35:38.166Z"
   },
   {
    "duration": 298,
    "start_time": "2022-08-12T11:35:45.537Z"
   },
   {
    "duration": 94,
    "start_time": "2022-08-12T11:38:54.850Z"
   },
   {
    "duration": 65,
    "start_time": "2022-08-12T11:39:24.617Z"
   },
   {
    "duration": 95,
    "start_time": "2022-08-12T11:39:28.072Z"
   },
   {
    "duration": 92,
    "start_time": "2022-08-12T11:39:38.592Z"
   },
   {
    "duration": 157,
    "start_time": "2022-08-12T11:40:07.979Z"
   },
   {
    "duration": 90,
    "start_time": "2022-08-12T11:40:17.464Z"
   },
   {
    "duration": 90,
    "start_time": "2022-08-12T11:40:41.628Z"
   },
   {
    "duration": 87,
    "start_time": "2022-08-12T11:40:50.628Z"
   },
   {
    "duration": 45,
    "start_time": "2022-08-12T11:41:02.638Z"
   },
   {
    "duration": 21,
    "start_time": "2022-08-12T11:42:27.976Z"
   },
   {
    "duration": 20,
    "start_time": "2022-08-12T11:42:38.457Z"
   },
   {
    "duration": 53,
    "start_time": "2022-08-12T11:42:50.369Z"
   },
   {
    "duration": 31,
    "start_time": "2022-08-12T11:43:13.279Z"
   },
   {
    "duration": 22,
    "start_time": "2022-08-12T11:43:24.324Z"
   },
   {
    "duration": 13,
    "start_time": "2022-08-12T11:44:22.779Z"
   },
   {
    "duration": 14,
    "start_time": "2022-08-12T11:44:34.497Z"
   },
   {
    "duration": 45,
    "start_time": "2022-08-12T11:45:45.930Z"
   },
   {
    "duration": 10,
    "start_time": "2022-08-12T11:56:39.913Z"
   },
   {
    "duration": 1174,
    "start_time": "2022-08-12T11:56:51.584Z"
   },
   {
    "duration": 191,
    "start_time": "2022-08-12T11:56:52.760Z"
   },
   {
    "duration": 16,
    "start_time": "2022-08-12T11:56:52.953Z"
   },
   {
    "duration": 39,
    "start_time": "2022-08-12T11:56:52.971Z"
   },
   {
    "duration": 6,
    "start_time": "2022-08-12T11:56:53.012Z"
   },
   {
    "duration": 431,
    "start_time": "2022-08-12T11:56:53.020Z"
   },
   {
    "duration": 3,
    "start_time": "2022-08-12T11:56:53.453Z"
   },
   {
    "duration": 94,
    "start_time": "2022-08-12T11:56:53.457Z"
   },
   {
    "duration": 93,
    "start_time": "2022-08-12T11:56:53.553Z"
   },
   {
    "duration": 1463,
    "start_time": "2022-08-12T11:56:53.650Z"
   },
   {
    "duration": 31,
    "start_time": "2022-08-12T11:56:55.115Z"
   },
   {
    "duration": 33,
    "start_time": "2022-08-12T11:56:55.147Z"
   },
   {
    "duration": 30,
    "start_time": "2022-08-12T11:56:55.181Z"
   },
   {
    "duration": 42,
    "start_time": "2022-08-12T11:56:55.213Z"
   },
   {
    "duration": 6,
    "start_time": "2022-08-12T11:56:55.257Z"
   },
   {
    "duration": 161,
    "start_time": "2022-08-12T11:56:55.265Z"
   },
   {
    "duration": 0,
    "start_time": "2022-08-12T11:56:55.428Z"
   },
   {
    "duration": 0,
    "start_time": "2022-08-12T11:56:55.429Z"
   },
   {
    "duration": 0,
    "start_time": "2022-08-12T11:56:55.430Z"
   },
   {
    "duration": 0,
    "start_time": "2022-08-12T11:56:55.431Z"
   },
   {
    "duration": 0,
    "start_time": "2022-08-12T11:56:55.432Z"
   },
   {
    "duration": 0,
    "start_time": "2022-08-12T11:56:55.433Z"
   },
   {
    "duration": 0,
    "start_time": "2022-08-12T11:56:55.434Z"
   },
   {
    "duration": 0,
    "start_time": "2022-08-12T11:56:55.435Z"
   },
   {
    "duration": 0,
    "start_time": "2022-08-12T11:56:55.437Z"
   },
   {
    "duration": 0,
    "start_time": "2022-08-12T11:56:55.438Z"
   },
   {
    "duration": 0,
    "start_time": "2022-08-12T11:56:55.438Z"
   },
   {
    "duration": 0,
    "start_time": "2022-08-12T11:56:55.439Z"
   },
   {
    "duration": 0,
    "start_time": "2022-08-12T11:56:55.440Z"
   },
   {
    "duration": 0,
    "start_time": "2022-08-12T11:56:55.442Z"
   },
   {
    "duration": 0,
    "start_time": "2022-08-12T11:56:55.443Z"
   },
   {
    "duration": 0,
    "start_time": "2022-08-12T11:56:55.445Z"
   },
   {
    "duration": 0,
    "start_time": "2022-08-12T11:56:55.446Z"
   },
   {
    "duration": 0,
    "start_time": "2022-08-12T11:56:55.448Z"
   },
   {
    "duration": 0,
    "start_time": "2022-08-12T11:56:55.449Z"
   },
   {
    "duration": 0,
    "start_time": "2022-08-12T11:56:55.451Z"
   },
   {
    "duration": 0,
    "start_time": "2022-08-12T11:56:55.452Z"
   },
   {
    "duration": 0,
    "start_time": "2022-08-12T11:56:55.454Z"
   },
   {
    "duration": 0,
    "start_time": "2022-08-12T11:56:55.455Z"
   },
   {
    "duration": 31,
    "start_time": "2022-08-12T12:00:19.781Z"
   },
   {
    "duration": 2,
    "start_time": "2022-08-12T12:00:32.266Z"
   },
   {
    "duration": 11,
    "start_time": "2022-08-12T12:01:06.696Z"
   },
   {
    "duration": 61,
    "start_time": "2022-08-12T12:03:18.181Z"
   },
   {
    "duration": 10,
    "start_time": "2022-08-12T12:03:35.303Z"
   },
   {
    "duration": 11,
    "start_time": "2022-08-12T12:04:33.712Z"
   },
   {
    "duration": 3,
    "start_time": "2022-08-12T12:06:07.487Z"
   },
   {
    "duration": 8,
    "start_time": "2022-08-12T12:08:32.236Z"
   },
   {
    "duration": 5,
    "start_time": "2022-08-12T12:08:56.040Z"
   },
   {
    "duration": 9,
    "start_time": "2022-08-12T12:09:11.026Z"
   },
   {
    "duration": 4,
    "start_time": "2022-08-12T12:09:48.547Z"
   },
   {
    "duration": 4,
    "start_time": "2022-08-12T12:10:17.237Z"
   },
   {
    "duration": 8,
    "start_time": "2022-08-12T12:10:27.467Z"
   },
   {
    "duration": 9,
    "start_time": "2022-08-12T12:11:00.064Z"
   },
   {
    "duration": 9,
    "start_time": "2022-08-12T12:11:05.658Z"
   },
   {
    "duration": 4,
    "start_time": "2022-08-12T12:11:16.170Z"
   },
   {
    "duration": 9,
    "start_time": "2022-08-12T12:12:26.730Z"
   },
   {
    "duration": 10,
    "start_time": "2022-08-12T12:12:48.316Z"
   },
   {
    "duration": 4,
    "start_time": "2022-08-12T12:12:55.369Z"
   },
   {
    "duration": 9,
    "start_time": "2022-08-12T12:13:14.199Z"
   },
   {
    "duration": 10,
    "start_time": "2022-08-12T12:14:18.940Z"
   },
   {
    "duration": 10,
    "start_time": "2022-08-12T12:14:23.088Z"
   },
   {
    "duration": 1200,
    "start_time": "2022-08-12T12:30:44.130Z"
   },
   {
    "duration": 191,
    "start_time": "2022-08-12T12:30:45.332Z"
   },
   {
    "duration": 17,
    "start_time": "2022-08-12T12:30:45.524Z"
   },
   {
    "duration": 20,
    "start_time": "2022-08-12T12:30:45.543Z"
   },
   {
    "duration": 5,
    "start_time": "2022-08-12T12:30:45.565Z"
   },
   {
    "duration": 468,
    "start_time": "2022-08-12T12:30:45.571Z"
   },
   {
    "duration": 4,
    "start_time": "2022-08-12T12:30:46.040Z"
   },
   {
    "duration": 79,
    "start_time": "2022-08-12T12:30:46.045Z"
   },
   {
    "duration": 83,
    "start_time": "2022-08-12T12:30:46.125Z"
   },
   {
    "duration": 1327,
    "start_time": "2022-08-12T12:30:46.211Z"
   },
   {
    "duration": 28,
    "start_time": "2022-08-12T12:30:47.540Z"
   },
   {
    "duration": 45,
    "start_time": "2022-08-12T12:30:47.570Z"
   },
   {
    "duration": 8,
    "start_time": "2022-08-12T12:30:47.616Z"
   },
   {
    "duration": 33,
    "start_time": "2022-08-12T12:30:47.625Z"
   },
   {
    "duration": 6,
    "start_time": "2022-08-12T12:30:47.659Z"
   },
   {
    "duration": 49,
    "start_time": "2022-08-12T12:30:47.666Z"
   },
   {
    "duration": 327,
    "start_time": "2022-08-12T12:30:47.717Z"
   },
   {
    "duration": 99,
    "start_time": "2022-08-12T12:30:48.046Z"
   },
   {
    "duration": 41,
    "start_time": "2022-08-12T12:30:48.147Z"
   },
   {
    "duration": 26,
    "start_time": "2022-08-12T12:30:48.190Z"
   },
   {
    "duration": 13,
    "start_time": "2022-08-12T12:30:48.217Z"
   },
   {
    "duration": 67,
    "start_time": "2022-08-12T12:30:48.231Z"
   },
   {
    "duration": 5,
    "start_time": "2022-08-12T12:30:48.300Z"
   },
   {
    "duration": 6,
    "start_time": "2022-08-12T12:30:48.307Z"
   },
   {
    "duration": 6,
    "start_time": "2022-08-12T12:30:48.314Z"
   },
   {
    "duration": 43,
    "start_time": "2022-08-12T12:30:48.322Z"
   },
   {
    "duration": 49,
    "start_time": "2022-08-12T12:30:48.366Z"
   },
   {
    "duration": 81,
    "start_time": "2022-08-12T12:30:48.418Z"
   },
   {
    "duration": 161,
    "start_time": "2022-08-12T12:30:48.501Z"
   },
   {
    "duration": 76,
    "start_time": "2022-08-12T12:30:48.664Z"
   },
   {
    "duration": 103,
    "start_time": "2022-08-12T12:30:48.742Z"
   },
   {
    "duration": 68,
    "start_time": "2022-08-12T12:30:48.846Z"
   },
   {
    "duration": 5,
    "start_time": "2022-08-12T12:30:48.916Z"
   },
   {
    "duration": 15,
    "start_time": "2022-08-12T12:30:48.923Z"
   },
   {
    "duration": 72,
    "start_time": "2022-08-12T12:30:48.940Z"
   },
   {
    "duration": 14,
    "start_time": "2022-08-12T12:30:49.014Z"
   },
   {
    "duration": 17,
    "start_time": "2022-08-12T12:30:49.030Z"
   },
   {
    "duration": 97,
    "start_time": "2022-08-12T12:30:49.049Z"
   },
   {
    "duration": 12,
    "start_time": "2022-08-12T12:30:49.148Z"
   },
   {
    "duration": 13,
    "start_time": "2022-08-12T12:31:07.959Z"
   },
   {
    "duration": 12,
    "start_time": "2022-08-12T12:31:18.654Z"
   },
   {
    "duration": 13,
    "start_time": "2022-08-12T12:32:05.458Z"
   },
   {
    "duration": 12,
    "start_time": "2022-08-12T12:52:07.101Z"
   },
   {
    "duration": 17,
    "start_time": "2022-08-12T12:52:13.318Z"
   },
   {
    "duration": 16,
    "start_time": "2022-08-12T12:52:23.354Z"
   },
   {
    "duration": 990,
    "start_time": "2022-08-12T14:56:23.276Z"
   },
   {
    "duration": 737,
    "start_time": "2022-08-12T14:56:24.267Z"
   },
   {
    "duration": 13,
    "start_time": "2022-08-12T14:56:25.006Z"
   },
   {
    "duration": 17,
    "start_time": "2022-08-12T14:56:25.021Z"
   },
   {
    "duration": 4,
    "start_time": "2022-08-12T14:56:25.039Z"
   },
   {
    "duration": 324,
    "start_time": "2022-08-12T14:56:25.045Z"
   },
   {
    "duration": 3,
    "start_time": "2022-08-12T14:56:25.371Z"
   },
   {
    "duration": 55,
    "start_time": "2022-08-12T14:56:25.375Z"
   },
   {
    "duration": 69,
    "start_time": "2022-08-12T14:56:25.432Z"
   },
   {
    "duration": 981,
    "start_time": "2022-08-12T14:56:25.503Z"
   },
   {
    "duration": 23,
    "start_time": "2022-08-12T14:56:26.485Z"
   },
   {
    "duration": 23,
    "start_time": "2022-08-12T14:56:26.509Z"
   },
   {
    "duration": 21,
    "start_time": "2022-08-12T14:56:26.534Z"
   },
   {
    "duration": 23,
    "start_time": "2022-08-12T14:56:26.556Z"
   },
   {
    "duration": 4,
    "start_time": "2022-08-12T14:56:26.581Z"
   },
   {
    "duration": 25,
    "start_time": "2022-08-12T14:56:26.586Z"
   },
   {
    "duration": 311,
    "start_time": "2022-08-12T14:56:26.612Z"
   },
   {
    "duration": 78,
    "start_time": "2022-08-12T14:56:26.924Z"
   },
   {
    "duration": 39,
    "start_time": "2022-08-12T14:56:27.004Z"
   },
   {
    "duration": 17,
    "start_time": "2022-08-12T14:56:27.055Z"
   },
   {
    "duration": 10,
    "start_time": "2022-08-12T14:56:27.074Z"
   },
   {
    "duration": 37,
    "start_time": "2022-08-12T14:56:27.085Z"
   },
   {
    "duration": 4,
    "start_time": "2022-08-12T14:56:27.124Z"
   },
   {
    "duration": 4,
    "start_time": "2022-08-12T14:56:27.155Z"
   },
   {
    "duration": 5,
    "start_time": "2022-08-12T14:56:27.161Z"
   },
   {
    "duration": 38,
    "start_time": "2022-08-12T14:56:27.167Z"
   },
   {
    "duration": 21,
    "start_time": "2022-08-12T14:56:27.206Z"
   },
   {
    "duration": 67,
    "start_time": "2022-08-12T14:56:27.229Z"
   },
   {
    "duration": 216,
    "start_time": "2022-08-12T14:56:27.297Z"
   },
   {
    "duration": 72,
    "start_time": "2022-08-12T14:56:27.515Z"
   },
   {
    "duration": 83,
    "start_time": "2022-08-12T14:56:27.589Z"
   },
   {
    "duration": 40,
    "start_time": "2022-08-12T14:56:27.673Z"
   },
   {
    "duration": 5,
    "start_time": "2022-08-12T14:56:27.714Z"
   },
   {
    "duration": 32,
    "start_time": "2022-08-12T14:56:27.720Z"
   },
   {
    "duration": 53,
    "start_time": "2022-08-12T14:56:27.754Z"
   },
   {
    "duration": 9,
    "start_time": "2022-08-12T14:56:27.808Z"
   },
   {
    "duration": 30,
    "start_time": "2022-08-12T14:56:27.819Z"
   },
   {
    "duration": 82,
    "start_time": "2022-08-12T14:56:27.851Z"
   },
   {
    "duration": 9,
    "start_time": "2022-08-12T14:56:27.935Z"
   },
   {
    "duration": 44,
    "start_time": "2022-08-12T15:11:44.144Z"
   },
   {
    "duration": 1119,
    "start_time": "2022-08-12T15:11:50.361Z"
   },
   {
    "duration": 511,
    "start_time": "2022-08-12T15:11:51.481Z"
   },
   {
    "duration": 12,
    "start_time": "2022-08-12T15:11:51.994Z"
   },
   {
    "duration": 22,
    "start_time": "2022-08-12T15:11:52.008Z"
   },
   {
    "duration": 5,
    "start_time": "2022-08-12T15:11:52.032Z"
   },
   {
    "duration": 324,
    "start_time": "2022-08-12T15:11:52.038Z"
   },
   {
    "duration": 3,
    "start_time": "2022-08-12T15:11:52.363Z"
   },
   {
    "duration": 84,
    "start_time": "2022-08-12T15:11:52.367Z"
   },
   {
    "duration": 67,
    "start_time": "2022-08-12T15:11:52.453Z"
   },
   {
    "duration": 55,
    "start_time": "2022-08-12T15:12:16.546Z"
   },
   {
    "duration": 60,
    "start_time": "2022-08-12T15:12:28.342Z"
   }
  ],
  "kernelspec": {
   "display_name": "Python 3 (ipykernel)",
   "language": "python",
   "name": "python3"
  },
  "language_info": {
   "codemirror_mode": {
    "name": "ipython",
    "version": 3
   },
   "file_extension": ".py",
   "mimetype": "text/x-python",
   "name": "python",
   "nbconvert_exporter": "python",
   "pygments_lexer": "ipython3",
   "version": "3.9.7"
  },
  "toc": {
   "base_numbering": 1,
   "nav_menu": {},
   "number_sections": true,
   "sideBar": true,
   "skip_h1_title": true,
   "title_cell": "Содержание",
   "title_sidebar": "Содержание",
   "toc_cell": true,
   "toc_position": {},
   "toc_section_display": true,
   "toc_window_display": false
  }
 },
 "nbformat": 4,
 "nbformat_minor": 5
}
