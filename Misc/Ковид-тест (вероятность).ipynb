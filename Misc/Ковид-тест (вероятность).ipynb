{
 "cells": [
  {
   "cell_type": "markdown",
   "id": "730a36aa",
   "metadata": {
    "toc": true
   },
   "source": [
    "<h1>Содержание<span class=\"tocSkip\"></span></h1>\n",
    "<div class=\"toc\"><ul class=\"toc-item\"></ul></div>"
   ]
  },
  {
   "cell_type": "markdown",
   "id": "d672a6d8",
   "metadata": {},
   "source": [
    "В аптеки города N поступил экспресс-тест на COVID-19, у которого вероятность ошибки (как позитивной, так и негативной) равна 0.05. По официальной статистике, прямо сейчас в городе N всего 1% жителей болен ковидом. Один из жителей, не имея симптомов, просто на всякий случай решил сдать этот тест, и внезапно тест показал положительный результат. Оцените вероятность того, что этот житель действительно болен ковидом."
   ]
  },
  {
   "cell_type": "code",
   "execution_count": 1,
   "id": "adfb069c",
   "metadata": {},
   "outputs": [],
   "source": [
    "import pandas as pd\n",
    "import numpy as np\n",
    "from tqdm.notebook import tqdm"
   ]
  },
  {
   "cell_type": "code",
   "execution_count": 39,
   "id": "7aeca1dc",
   "metadata": {},
   "outputs": [],
   "source": [
    "# вероятность ошибки covid-теста равна 0.05\n",
    "err_rate = 0.05\n",
    "\n",
    "# 1% жителей болен ковидом\n",
    "covid_probability = 0.01"
   ]
  },
  {
   "cell_type": "code",
   "execution_count": 40,
   "id": "b08b7d84",
   "metadata": {},
   "outputs": [],
   "source": [
    "# моделирует covid-тест\n",
    "def test(covid):\n",
    "    if np.random.binomial(1, 1-err_rate):\n",
    "        return covid\n",
    "    return abs(covid - 1)"
   ]
  },
  {
   "cell_type": "code",
   "execution_count": 41,
   "id": "ba438159",
   "metadata": {},
   "outputs": [
    {
     "data": {
      "text/plain": [
       "0.949"
      ]
     },
     "execution_count": 41,
     "metadata": {},
     "output_type": "execute_result"
    }
   ],
   "source": [
    "# проверяем covid-тест на 10 тысячах итераций\n",
    "np.mean([test(1) for _ in range(10000)])"
   ]
  },
  {
   "cell_type": "code",
   "execution_count": 67,
   "id": "0ab0a3d1",
   "metadata": {},
   "outputs": [
    {
     "data": {
      "application/vnd.jupyter.widget-view+json": {
       "model_id": "50623d85b7b44764b1671ab7af808aa2",
       "version_major": 2,
       "version_minor": 0
      },
      "text/plain": [
       "  0%|          | 0/1000000 [00:00<?, ?it/s]"
      ]
     },
     "metadata": {},
     "output_type": "display_data"
    }
   ],
   "source": [
    "# моделируем город с населением в миллион\n",
    "result = []\n",
    "for _ in tqdm(range(1000000)):\n",
    "    # моделируем пациента, который болен с вероятностью 1%\n",
    "    patient = np.random.binomial(1, covid_probability)\n",
    "    # и результат его теста\n",
    "    test_result = test(patient)\n",
    "    result.append((patient, test_result))"
   ]
  },
  {
   "cell_type": "code",
   "execution_count": 70,
   "id": "9577a554",
   "metadata": {},
   "outputs": [
    {
     "data": {
      "text/html": [
       "<div>\n",
       "<style scoped>\n",
       "    .dataframe tbody tr th:only-of-type {\n",
       "        vertical-align: middle;\n",
       "    }\n",
       "\n",
       "    .dataframe tbody tr th {\n",
       "        vertical-align: top;\n",
       "    }\n",
       "\n",
       "    .dataframe thead th {\n",
       "        text-align: right;\n",
       "    }\n",
       "</style>\n",
       "<table border=\"1\" class=\"dataframe\">\n",
       "  <thead>\n",
       "    <tr style=\"text-align: right;\">\n",
       "      <th></th>\n",
       "      <th>patient</th>\n",
       "      <th>test_result</th>\n",
       "    </tr>\n",
       "  </thead>\n",
       "  <tbody>\n",
       "    <tr>\n",
       "      <th>0</th>\n",
       "      <td>0</td>\n",
       "      <td>0</td>\n",
       "    </tr>\n",
       "    <tr>\n",
       "      <th>1</th>\n",
       "      <td>0</td>\n",
       "      <td>1</td>\n",
       "    </tr>\n",
       "    <tr>\n",
       "      <th>2</th>\n",
       "      <td>0</td>\n",
       "      <td>0</td>\n",
       "    </tr>\n",
       "    <tr>\n",
       "      <th>3</th>\n",
       "      <td>0</td>\n",
       "      <td>1</td>\n",
       "    </tr>\n",
       "    <tr>\n",
       "      <th>4</th>\n",
       "      <td>0</td>\n",
       "      <td>0</td>\n",
       "    </tr>\n",
       "    <tr>\n",
       "      <th>...</th>\n",
       "      <td>...</td>\n",
       "      <td>...</td>\n",
       "    </tr>\n",
       "    <tr>\n",
       "      <th>999995</th>\n",
       "      <td>0</td>\n",
       "      <td>0</td>\n",
       "    </tr>\n",
       "    <tr>\n",
       "      <th>999996</th>\n",
       "      <td>0</td>\n",
       "      <td>0</td>\n",
       "    </tr>\n",
       "    <tr>\n",
       "      <th>999997</th>\n",
       "      <td>0</td>\n",
       "      <td>0</td>\n",
       "    </tr>\n",
       "    <tr>\n",
       "      <th>999998</th>\n",
       "      <td>0</td>\n",
       "      <td>0</td>\n",
       "    </tr>\n",
       "    <tr>\n",
       "      <th>999999</th>\n",
       "      <td>0</td>\n",
       "      <td>0</td>\n",
       "    </tr>\n",
       "  </tbody>\n",
       "</table>\n",
       "<p>1000000 rows × 2 columns</p>\n",
       "</div>"
      ],
      "text/plain": [
       "        patient  test_result\n",
       "0             0            0\n",
       "1             0            1\n",
       "2             0            0\n",
       "3             0            1\n",
       "4             0            0\n",
       "...         ...          ...\n",
       "999995        0            0\n",
       "999996        0            0\n",
       "999997        0            0\n",
       "999998        0            0\n",
       "999999        0            0\n",
       "\n",
       "[1000000 rows x 2 columns]"
      ]
     },
     "execution_count": 70,
     "metadata": {},
     "output_type": "execute_result"
    }
   ],
   "source": [
    "# из полученных данных создаем датафрейм\n",
    "city = pd.DataFrame(result, columns=['patient', 'test_result'])\n",
    "city"
   ]
  },
  {
   "cell_type": "code",
   "execution_count": 76,
   "id": "e12fece3",
   "metadata": {},
   "outputs": [
    {
     "data": {
      "text/plain": [
       "test_result\n",
       "0    0.000505\n",
       "1    0.159999\n",
       "Name: patient, dtype: float64"
      ]
     },
     "execution_count": 76,
     "metadata": {},
     "output_type": "execute_result"
    }
   ],
   "source": [
    "# группируем по результату тестов\n",
    "city.groupby('test_result')['patient'].mean()"
   ]
  },
  {
   "cell_type": "markdown",
   "id": "e43e6ece",
   "metadata": {},
   "source": [
    "Ответ: Вероятность того, что пациент, не имеющий симптомов и сделавший тест с погрешностью 5%, действительно болен — около 16%."
   ]
  }
 ],
 "metadata": {
  "kernelspec": {
   "display_name": "Python 3 (ipykernel)",
   "language": "python",
   "name": "python3"
  },
  "language_info": {
   "codemirror_mode": {
    "name": "ipython",
    "version": 3
   },
   "file_extension": ".py",
   "mimetype": "text/x-python",
   "name": "python",
   "nbconvert_exporter": "python",
   "pygments_lexer": "ipython3",
   "version": "3.9.7"
  },
  "toc": {
   "base_numbering": 1,
   "nav_menu": {},
   "number_sections": true,
   "sideBar": true,
   "skip_h1_title": true,
   "title_cell": "Содержание",
   "title_sidebar": "Содержание",
   "toc_cell": true,
   "toc_position": {},
   "toc_section_display": true,
   "toc_window_display": false
  }
 },
 "nbformat": 4,
 "nbformat_minor": 5
}
